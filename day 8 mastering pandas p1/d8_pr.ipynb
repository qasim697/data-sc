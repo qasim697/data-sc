{
 "cells": [
  {
   "cell_type": "markdown",
   "id": "3c041914",
   "metadata": {},
   "source": [
    "PANDAS DAY 1\n"
   ]
  },
  {
   "cell_type": "code",
   "execution_count": 3,
   "id": "210d2b76",
   "metadata": {},
   "outputs": [],
   "source": [
    "import pandas as pd"
   ]
  },
  {
   "cell_type": "code",
   "execution_count": 3,
   "id": "13ee8c97",
   "metadata": {},
   "outputs": [
    {
     "data": {
      "text/plain": [
       "'2.2.3'"
      ]
     },
     "execution_count": 3,
     "metadata": {},
     "output_type": "execute_result"
    }
   ],
   "source": [
    "pd.__version__"
   ]
  },
  {
   "cell_type": "code",
   "execution_count": 4,
   "id": "f3b1dc2d",
   "metadata": {},
   "outputs": [],
   "source": [
    "df = pd.read_csv('population.csv')"
   ]
  },
  {
   "cell_type": "code",
   "execution_count": 5,
   "id": "91dfb600",
   "metadata": {},
   "outputs": [
    {
     "data": {
      "application/vnd.microsoft.datawrangler.viewer.v0+json": {
       "columns": [
        {
         "name": "index",
         "rawType": "int64",
         "type": "integer"
        },
        {
         "name": "PROVINCE",
         "rawType": "object",
         "type": "string"
        },
        {
         "name": "DIVISION",
         "rawType": "object",
         "type": "string"
        },
        {
         "name": "DISTRICT",
         "rawType": "object",
         "type": "string"
        },
        {
         "name": "SUB DIVISION",
         "rawType": "object",
         "type": "string"
        },
        {
         "name": "AREA (sq.km)",
         "rawType": "float64",
         "type": "float"
        },
        {
         "name": "ALL SEXES (RURAL)",
         "rawType": "int64",
         "type": "integer"
        },
        {
         "name": "MALE (RURAL)",
         "rawType": "int64",
         "type": "integer"
        },
        {
         "name": "FEMALE (RURAL)",
         "rawType": "int64",
         "type": "integer"
        },
        {
         "name": "TRANSGENDER (RURAL)",
         "rawType": "int64",
         "type": "integer"
        },
        {
         "name": "SEX RATIO (RURAL)",
         "rawType": "float64",
         "type": "float"
        },
        {
         "name": "AVG HOUSEHOLD SIZE (RURAL)",
         "rawType": "float64",
         "type": "float"
        },
        {
         "name": "POPULATION 1998 (RURAL)",
         "rawType": "int64",
         "type": "integer"
        },
        {
         "name": "ANNUAL GROWTH RATE (RURAL)",
         "rawType": "float64",
         "type": "float"
        },
        {
         "name": "ALL SEXES (URBAN)",
         "rawType": "int64",
         "type": "integer"
        },
        {
         "name": "MALE (URBAN)",
         "rawType": "int64",
         "type": "integer"
        },
        {
         "name": "FEMALE (URBAN)",
         "rawType": "int64",
         "type": "integer"
        },
        {
         "name": "TRANSGENDER (URBAN)",
         "rawType": "int64",
         "type": "integer"
        },
        {
         "name": "SEX RATIO (URBAN)",
         "rawType": "float64",
         "type": "float"
        },
        {
         "name": "AVG HOUSEHOLD SIZE (URBAN)",
         "rawType": "float64",
         "type": "float"
        },
        {
         "name": "POPULATION 1998 (URBAN)",
         "rawType": "int64",
         "type": "integer"
        },
        {
         "name": "ANNUAL GROWTH RATE (URBAN)",
         "rawType": "float64",
         "type": "float"
        }
       ],
       "ref": "de5528c6-fcf6-42d9-b391-3e43b0fe31bd",
       "rows": [
        [
         "0",
         "PUNJAB",
         "BAHAWALPUR DIVISION",
         "BAHAWALNAGAR DISTRICT",
         "BAHAWALNAGAR TEHSIL",
         "1729.0",
         "619550",
         "316864",
         "302644",
         "42",
         "104.7",
         "6.1",
         "407768",
         "2.22",
         "193840",
         "98391",
         "95402",
         "47",
         "103.13",
         "6.02",
         "133785",
         "1.97"
        ],
        [
         "1",
         "PUNJAB",
         "BAHAWALPUR DIVISION",
         "BAHAWALNAGAR DISTRICT",
         "CHISHTIAN TEHSIL",
         "1500.0",
         "540342",
         "273788",
         "266500",
         "54",
         "102.73",
         "6.15",
         "395983",
         "1.65",
         "149424",
         "75546",
         "73851",
         "27",
         "102.3",
         "6.01",
         "102287",
         "2.01"
        ],
        [
         "2",
         "PUNJAB",
         "BAHAWALPUR DIVISION",
         "BAHAWALNAGAR DISTRICT",
         "FORT ABBAS TEHSIL",
         "2536.0",
         "361240",
         "182655",
         "178541",
         "44",
         "102.3",
         "6.32",
         "250959",
         "1.93",
         "61528",
         "31360",
         "30150",
         "18",
         "104.01",
         "6.0",
         "34637",
         "3.06"
        ],
        [
         "3",
         "PUNJAB",
         "BAHAWALPUR DIVISION",
         "BAHAWALNAGAR DISTRICT",
         "HAROONABAD TEHSIL",
         "1295.0",
         "382115",
         "192278",
         "189808",
         "29",
         "101.3",
         "6.15",
         "297343",
         "1.33",
         "142600",
         "71345",
         "71236",
         "19",
         "100.15",
         "6.02",
         "84424",
         "2.79"
        ],
        [
         "4",
         "PUNJAB",
         "BAHAWALPUR DIVISION",
         "BAHAWALNAGAR DISTRICT",
         "MINCHINABAD TEHSIL",
         "1818.0",
         "452723",
         "231506",
         "221178",
         "39",
         "104.67",
         "6.29",
         "316593",
         "1.9",
         "72294",
         "36694",
         "35590",
         "10",
         "103.1",
         "6.34",
         "37668",
         "3.48"
        ]
       ],
       "shape": {
        "columns": 21,
        "rows": 5
       }
      },
      "text/html": [
       "<div>\n",
       "<style scoped>\n",
       "    .dataframe tbody tr th:only-of-type {\n",
       "        vertical-align: middle;\n",
       "    }\n",
       "\n",
       "    .dataframe tbody tr th {\n",
       "        vertical-align: top;\n",
       "    }\n",
       "\n",
       "    .dataframe thead th {\n",
       "        text-align: right;\n",
       "    }\n",
       "</style>\n",
       "<table border=\"1\" class=\"dataframe\">\n",
       "  <thead>\n",
       "    <tr style=\"text-align: right;\">\n",
       "      <th></th>\n",
       "      <th>PROVINCE</th>\n",
       "      <th>DIVISION</th>\n",
       "      <th>DISTRICT</th>\n",
       "      <th>SUB DIVISION</th>\n",
       "      <th>AREA (sq.km)</th>\n",
       "      <th>ALL SEXES (RURAL)</th>\n",
       "      <th>MALE (RURAL)</th>\n",
       "      <th>FEMALE (RURAL)</th>\n",
       "      <th>TRANSGENDER (RURAL)</th>\n",
       "      <th>SEX RATIO (RURAL)</th>\n",
       "      <th>...</th>\n",
       "      <th>POPULATION 1998 (RURAL)</th>\n",
       "      <th>ANNUAL GROWTH RATE (RURAL)</th>\n",
       "      <th>ALL SEXES (URBAN)</th>\n",
       "      <th>MALE (URBAN)</th>\n",
       "      <th>FEMALE (URBAN)</th>\n",
       "      <th>TRANSGENDER (URBAN)</th>\n",
       "      <th>SEX RATIO (URBAN)</th>\n",
       "      <th>AVG HOUSEHOLD SIZE (URBAN)</th>\n",
       "      <th>POPULATION 1998 (URBAN)</th>\n",
       "      <th>ANNUAL GROWTH RATE (URBAN)</th>\n",
       "    </tr>\n",
       "  </thead>\n",
       "  <tbody>\n",
       "    <tr>\n",
       "      <th>0</th>\n",
       "      <td>PUNJAB</td>\n",
       "      <td>BAHAWALPUR DIVISION</td>\n",
       "      <td>BAHAWALNAGAR DISTRICT</td>\n",
       "      <td>BAHAWALNAGAR TEHSIL</td>\n",
       "      <td>1729.0</td>\n",
       "      <td>619550</td>\n",
       "      <td>316864</td>\n",
       "      <td>302644</td>\n",
       "      <td>42</td>\n",
       "      <td>104.70</td>\n",
       "      <td>...</td>\n",
       "      <td>407768</td>\n",
       "      <td>2.22</td>\n",
       "      <td>193840</td>\n",
       "      <td>98391</td>\n",
       "      <td>95402</td>\n",
       "      <td>47</td>\n",
       "      <td>103.13</td>\n",
       "      <td>6.02</td>\n",
       "      <td>133785</td>\n",
       "      <td>1.97</td>\n",
       "    </tr>\n",
       "    <tr>\n",
       "      <th>1</th>\n",
       "      <td>PUNJAB</td>\n",
       "      <td>BAHAWALPUR DIVISION</td>\n",
       "      <td>BAHAWALNAGAR DISTRICT</td>\n",
       "      <td>CHISHTIAN TEHSIL</td>\n",
       "      <td>1500.0</td>\n",
       "      <td>540342</td>\n",
       "      <td>273788</td>\n",
       "      <td>266500</td>\n",
       "      <td>54</td>\n",
       "      <td>102.73</td>\n",
       "      <td>...</td>\n",
       "      <td>395983</td>\n",
       "      <td>1.65</td>\n",
       "      <td>149424</td>\n",
       "      <td>75546</td>\n",
       "      <td>73851</td>\n",
       "      <td>27</td>\n",
       "      <td>102.30</td>\n",
       "      <td>6.01</td>\n",
       "      <td>102287</td>\n",
       "      <td>2.01</td>\n",
       "    </tr>\n",
       "    <tr>\n",
       "      <th>2</th>\n",
       "      <td>PUNJAB</td>\n",
       "      <td>BAHAWALPUR DIVISION</td>\n",
       "      <td>BAHAWALNAGAR DISTRICT</td>\n",
       "      <td>FORT ABBAS TEHSIL</td>\n",
       "      <td>2536.0</td>\n",
       "      <td>361240</td>\n",
       "      <td>182655</td>\n",
       "      <td>178541</td>\n",
       "      <td>44</td>\n",
       "      <td>102.30</td>\n",
       "      <td>...</td>\n",
       "      <td>250959</td>\n",
       "      <td>1.93</td>\n",
       "      <td>61528</td>\n",
       "      <td>31360</td>\n",
       "      <td>30150</td>\n",
       "      <td>18</td>\n",
       "      <td>104.01</td>\n",
       "      <td>6.00</td>\n",
       "      <td>34637</td>\n",
       "      <td>3.06</td>\n",
       "    </tr>\n",
       "    <tr>\n",
       "      <th>3</th>\n",
       "      <td>PUNJAB</td>\n",
       "      <td>BAHAWALPUR DIVISION</td>\n",
       "      <td>BAHAWALNAGAR DISTRICT</td>\n",
       "      <td>HAROONABAD TEHSIL</td>\n",
       "      <td>1295.0</td>\n",
       "      <td>382115</td>\n",
       "      <td>192278</td>\n",
       "      <td>189808</td>\n",
       "      <td>29</td>\n",
       "      <td>101.30</td>\n",
       "      <td>...</td>\n",
       "      <td>297343</td>\n",
       "      <td>1.33</td>\n",
       "      <td>142600</td>\n",
       "      <td>71345</td>\n",
       "      <td>71236</td>\n",
       "      <td>19</td>\n",
       "      <td>100.15</td>\n",
       "      <td>6.02</td>\n",
       "      <td>84424</td>\n",
       "      <td>2.79</td>\n",
       "    </tr>\n",
       "    <tr>\n",
       "      <th>4</th>\n",
       "      <td>PUNJAB</td>\n",
       "      <td>BAHAWALPUR DIVISION</td>\n",
       "      <td>BAHAWALNAGAR DISTRICT</td>\n",
       "      <td>MINCHINABAD TEHSIL</td>\n",
       "      <td>1818.0</td>\n",
       "      <td>452723</td>\n",
       "      <td>231506</td>\n",
       "      <td>221178</td>\n",
       "      <td>39</td>\n",
       "      <td>104.67</td>\n",
       "      <td>...</td>\n",
       "      <td>316593</td>\n",
       "      <td>1.90</td>\n",
       "      <td>72294</td>\n",
       "      <td>36694</td>\n",
       "      <td>35590</td>\n",
       "      <td>10</td>\n",
       "      <td>103.10</td>\n",
       "      <td>6.34</td>\n",
       "      <td>37668</td>\n",
       "      <td>3.48</td>\n",
       "    </tr>\n",
       "  </tbody>\n",
       "</table>\n",
       "<p>5 rows × 21 columns</p>\n",
       "</div>"
      ],
      "text/plain": [
       "  PROVINCE             DIVISION               DISTRICT         SUB DIVISION  \\\n",
       "0   PUNJAB  BAHAWALPUR DIVISION  BAHAWALNAGAR DISTRICT  BAHAWALNAGAR TEHSIL   \n",
       "1   PUNJAB  BAHAWALPUR DIVISION  BAHAWALNAGAR DISTRICT     CHISHTIAN TEHSIL   \n",
       "2   PUNJAB  BAHAWALPUR DIVISION  BAHAWALNAGAR DISTRICT    FORT ABBAS TEHSIL   \n",
       "3   PUNJAB  BAHAWALPUR DIVISION  BAHAWALNAGAR DISTRICT    HAROONABAD TEHSIL   \n",
       "4   PUNJAB  BAHAWALPUR DIVISION  BAHAWALNAGAR DISTRICT   MINCHINABAD TEHSIL   \n",
       "\n",
       "   AREA (sq.km)  ALL SEXES (RURAL)  MALE (RURAL)  FEMALE (RURAL)  \\\n",
       "0        1729.0             619550        316864          302644   \n",
       "1        1500.0             540342        273788          266500   \n",
       "2        2536.0             361240        182655          178541   \n",
       "3        1295.0             382115        192278          189808   \n",
       "4        1818.0             452723        231506          221178   \n",
       "\n",
       "   TRANSGENDER (RURAL)  SEX RATIO (RURAL)  ...  POPULATION 1998 (RURAL)  \\\n",
       "0                   42             104.70  ...                   407768   \n",
       "1                   54             102.73  ...                   395983   \n",
       "2                   44             102.30  ...                   250959   \n",
       "3                   29             101.30  ...                   297343   \n",
       "4                   39             104.67  ...                   316593   \n",
       "\n",
       "   ANNUAL GROWTH RATE (RURAL)  ALL SEXES (URBAN)  MALE (URBAN)  \\\n",
       "0                        2.22             193840         98391   \n",
       "1                        1.65             149424         75546   \n",
       "2                        1.93              61528         31360   \n",
       "3                        1.33             142600         71345   \n",
       "4                        1.90              72294         36694   \n",
       "\n",
       "   FEMALE (URBAN)  TRANSGENDER (URBAN)  SEX RATIO (URBAN)  \\\n",
       "0           95402                   47             103.13   \n",
       "1           73851                   27             102.30   \n",
       "2           30150                   18             104.01   \n",
       "3           71236                   19             100.15   \n",
       "4           35590                   10             103.10   \n",
       "\n",
       "   AVG HOUSEHOLD SIZE (URBAN)  POPULATION 1998 (URBAN)  \\\n",
       "0                        6.02                   133785   \n",
       "1                        6.01                   102287   \n",
       "2                        6.00                    34637   \n",
       "3                        6.02                    84424   \n",
       "4                        6.34                    37668   \n",
       "\n",
       "   ANNUAL GROWTH RATE (URBAN)  \n",
       "0                        1.97  \n",
       "1                        2.01  \n",
       "2                        3.06  \n",
       "3                        2.79  \n",
       "4                        3.48  \n",
       "\n",
       "[5 rows x 21 columns]"
      ]
     },
     "execution_count": 5,
     "metadata": {},
     "output_type": "execute_result"
    }
   ],
   "source": [
    "df.head()"
   ]
  },
  {
   "cell_type": "code",
   "execution_count": 6,
   "id": "3da1ac1b",
   "metadata": {},
   "outputs": [
    {
     "name": "stdout",
     "output_type": "stream",
     "text": [
      "<class 'pandas.core.frame.DataFrame'>\n",
      "RangeIndex: 528 entries, 0 to 527\n",
      "Data columns (total 21 columns):\n",
      " #   Column                      Non-Null Count  Dtype  \n",
      "---  ------                      --------------  -----  \n",
      " 0   PROVINCE                    528 non-null    object \n",
      " 1   DIVISION                    528 non-null    object \n",
      " 2   DISTRICT                    528 non-null    object \n",
      " 3   SUB DIVISION                528 non-null    object \n",
      " 4   AREA (sq.km)                528 non-null    float64\n",
      " 5   ALL SEXES (RURAL)           528 non-null    int64  \n",
      " 6   MALE (RURAL)                528 non-null    int64  \n",
      " 7   FEMALE (RURAL)              528 non-null    int64  \n",
      " 8   TRANSGENDER (RURAL)         528 non-null    int64  \n",
      " 9   SEX RATIO (RURAL)           528 non-null    float64\n",
      " 10  AVG HOUSEHOLD SIZE (RURAL)  528 non-null    float64\n",
      " 11  POPULATION 1998 (RURAL)     528 non-null    int64  \n",
      " 12  ANNUAL GROWTH RATE (RURAL)  528 non-null    float64\n",
      " 13  ALL SEXES (URBAN)           528 non-null    int64  \n",
      " 14  MALE (URBAN)                528 non-null    int64  \n",
      " 15  FEMALE (URBAN)              528 non-null    int64  \n",
      " 16  TRANSGENDER (URBAN)         528 non-null    int64  \n",
      " 17  SEX RATIO (URBAN)           528 non-null    float64\n",
      " 18  AVG HOUSEHOLD SIZE (URBAN)  528 non-null    float64\n",
      " 19  POPULATION 1998 (URBAN)     528 non-null    int64  \n",
      " 20  ANNUAL GROWTH RATE (URBAN)  528 non-null    float64\n",
      "dtypes: float64(7), int64(10), object(4)\n",
      "memory usage: 86.8+ KB\n"
     ]
    }
   ],
   "source": [
    "df.info()"
   ]
  },
  {
   "cell_type": "code",
   "execution_count": 7,
   "id": "c72bb5ee",
   "metadata": {},
   "outputs": [
    {
     "data": {
      "application/vnd.microsoft.datawrangler.viewer.v0+json": {
       "columns": [
        {
         "name": "index",
         "rawType": "object",
         "type": "string"
        },
        {
         "name": "AREA (sq.km)",
         "rawType": "float64",
         "type": "float"
        },
        {
         "name": "ALL SEXES (RURAL)",
         "rawType": "float64",
         "type": "float"
        },
        {
         "name": "MALE (RURAL)",
         "rawType": "float64",
         "type": "float"
        },
        {
         "name": "FEMALE (RURAL)",
         "rawType": "float64",
         "type": "float"
        },
        {
         "name": "TRANSGENDER (RURAL)",
         "rawType": "float64",
         "type": "float"
        },
        {
         "name": "SEX RATIO (RURAL)",
         "rawType": "float64",
         "type": "float"
        },
        {
         "name": "AVG HOUSEHOLD SIZE (RURAL)",
         "rawType": "float64",
         "type": "float"
        },
        {
         "name": "POPULATION 1998 (RURAL)",
         "rawType": "float64",
         "type": "float"
        },
        {
         "name": "ANNUAL GROWTH RATE (RURAL)",
         "rawType": "float64",
         "type": "float"
        },
        {
         "name": "ALL SEXES (URBAN)",
         "rawType": "float64",
         "type": "float"
        },
        {
         "name": "MALE (URBAN)",
         "rawType": "float64",
         "type": "float"
        },
        {
         "name": "FEMALE (URBAN)",
         "rawType": "float64",
         "type": "float"
        },
        {
         "name": "TRANSGENDER (URBAN)",
         "rawType": "float64",
         "type": "float"
        },
        {
         "name": "SEX RATIO (URBAN)",
         "rawType": "float64",
         "type": "float"
        },
        {
         "name": "AVG HOUSEHOLD SIZE (URBAN)",
         "rawType": "float64",
         "type": "float"
        },
        {
         "name": "POPULATION 1998 (URBAN)",
         "rawType": "float64",
         "type": "float"
        },
        {
         "name": "ANNUAL GROWTH RATE (URBAN)",
         "rawType": "float64",
         "type": "float"
        }
       ],
       "ref": "0f260ca7-1de0-4ed6-985b-374514c37d77",
       "rows": [
        [
         "count",
         "528.0",
         "528.0",
         "528.0",
         "528.0",
         "528.0",
         "528.0",
         "528.0",
         "528.0",
         "528.0",
         "528.0",
         "528.0",
         "528.0",
         "528.0",
         "528.0",
         "528.0",
         "528.0",
         "528.0"
        ],
        [
         "mean",
         "1492.005871212121",
         "246278.01136363635",
         "125275.6875",
         "120984.14962121213",
         "18.174242424242426",
         "98.98261363636364",
         "6.277064393939394",
         "167427.99431818182",
         "3.1247916666666664",
         "140863.5284090909",
         "72843.38636363637",
         "67997.86553030302",
         "22.276515151515152",
         "75.41126893939395",
         "4.406401515151515",
         "80144.56628787878",
         "1.920814393939394"
        ],
        [
         "std",
         "2039.453778210461",
         "271189.81655913533",
         "137563.02145832204",
         "133716.8982962157",
         "25.52224797583435",
         "26.812659963763632",
         "2.0749468568721596",
         "178388.97699251067",
         "9.57787173131309",
         "351246.2791356469",
         "182349.2413790539",
         "168872.52821213394",
         "66.06812694544523",
         "49.687340945047495",
         "2.9483358323019533",
         "202312.01922696535",
         "2.0989080696947195"
        ],
        [
         "min",
         "0.0",
         "0.0",
         "0.0",
         "0.0",
         "0.0",
         "0.0",
         "0.0",
         "0.0",
         "0.0",
         "0.0",
         "0.0",
         "0.0",
         "0.0",
         "0.0",
         "0.0",
         "0.0",
         "0.0"
        ],
        [
         "25%",
         "425.0",
         "50934.5",
         "27127.25",
         "23979.0",
         "1.0",
         "101.105",
         "5.7",
         "35273.5",
         "1.44",
         "0.0",
         "0.0",
         "0.0",
         "0.0",
         "0.0",
         "0.0",
         "0.0",
         "0.0"
        ],
        [
         "50%",
         "882.0",
         "165241.0",
         "84134.5",
         "82044.0",
         "10.0",
         "105.285",
         "6.31",
         "117206.5",
         "2.03",
         "43254.5",
         "21980.0",
         "20999.0",
         "3.0",
         "103.195",
         "5.755",
         "21298.0",
         "1.855"
        ],
        [
         "75%",
         "1734.25",
         "312911.25",
         "160502.25",
         "152219.0",
         "25.0",
         "108.3475",
         "7.2",
         "213054.25",
         "2.8125",
         "117814.75",
         "60301.75",
         "57465.25",
         "19.0",
         "107.04",
         "6.34",
         "65422.25",
         "2.985"
        ],
        [
         "max",
         "18374.0",
         "2297375.0",
         "1172995.0",
         "1124167.0",
         "213.0",
         "139.38",
         "12.43",
         "1044035.0",
         "100.0",
         "3653616.0",
         "1905921.0",
         "1746900.0",
         "795.0",
         "297.81",
         "10.06",
         "2075867.0",
         "19.78"
        ]
       ],
       "shape": {
        "columns": 17,
        "rows": 8
       }
      },
      "text/html": [
       "<div>\n",
       "<style scoped>\n",
       "    .dataframe tbody tr th:only-of-type {\n",
       "        vertical-align: middle;\n",
       "    }\n",
       "\n",
       "    .dataframe tbody tr th {\n",
       "        vertical-align: top;\n",
       "    }\n",
       "\n",
       "    .dataframe thead th {\n",
       "        text-align: right;\n",
       "    }\n",
       "</style>\n",
       "<table border=\"1\" class=\"dataframe\">\n",
       "  <thead>\n",
       "    <tr style=\"text-align: right;\">\n",
       "      <th></th>\n",
       "      <th>AREA (sq.km)</th>\n",
       "      <th>ALL SEXES (RURAL)</th>\n",
       "      <th>MALE (RURAL)</th>\n",
       "      <th>FEMALE (RURAL)</th>\n",
       "      <th>TRANSGENDER (RURAL)</th>\n",
       "      <th>SEX RATIO (RURAL)</th>\n",
       "      <th>AVG HOUSEHOLD SIZE (RURAL)</th>\n",
       "      <th>POPULATION 1998 (RURAL)</th>\n",
       "      <th>ANNUAL GROWTH RATE (RURAL)</th>\n",
       "      <th>ALL SEXES (URBAN)</th>\n",
       "      <th>MALE (URBAN)</th>\n",
       "      <th>FEMALE (URBAN)</th>\n",
       "      <th>TRANSGENDER (URBAN)</th>\n",
       "      <th>SEX RATIO (URBAN)</th>\n",
       "      <th>AVG HOUSEHOLD SIZE (URBAN)</th>\n",
       "      <th>POPULATION 1998 (URBAN)</th>\n",
       "      <th>ANNUAL GROWTH RATE (URBAN)</th>\n",
       "    </tr>\n",
       "  </thead>\n",
       "  <tbody>\n",
       "    <tr>\n",
       "      <th>count</th>\n",
       "      <td>528.000000</td>\n",
       "      <td>5.280000e+02</td>\n",
       "      <td>5.280000e+02</td>\n",
       "      <td>5.280000e+02</td>\n",
       "      <td>528.000000</td>\n",
       "      <td>528.000000</td>\n",
       "      <td>528.000000</td>\n",
       "      <td>5.280000e+02</td>\n",
       "      <td>528.000000</td>\n",
       "      <td>5.280000e+02</td>\n",
       "      <td>5.280000e+02</td>\n",
       "      <td>5.280000e+02</td>\n",
       "      <td>528.000000</td>\n",
       "      <td>528.000000</td>\n",
       "      <td>528.000000</td>\n",
       "      <td>5.280000e+02</td>\n",
       "      <td>528.000000</td>\n",
       "    </tr>\n",
       "    <tr>\n",
       "      <th>mean</th>\n",
       "      <td>1492.005871</td>\n",
       "      <td>2.462780e+05</td>\n",
       "      <td>1.252757e+05</td>\n",
       "      <td>1.209841e+05</td>\n",
       "      <td>18.174242</td>\n",
       "      <td>98.982614</td>\n",
       "      <td>6.277064</td>\n",
       "      <td>1.674280e+05</td>\n",
       "      <td>3.124792</td>\n",
       "      <td>1.408635e+05</td>\n",
       "      <td>7.284339e+04</td>\n",
       "      <td>6.799787e+04</td>\n",
       "      <td>22.276515</td>\n",
       "      <td>75.411269</td>\n",
       "      <td>4.406402</td>\n",
       "      <td>8.014457e+04</td>\n",
       "      <td>1.920814</td>\n",
       "    </tr>\n",
       "    <tr>\n",
       "      <th>std</th>\n",
       "      <td>2039.453778</td>\n",
       "      <td>2.711898e+05</td>\n",
       "      <td>1.375630e+05</td>\n",
       "      <td>1.337169e+05</td>\n",
       "      <td>25.522248</td>\n",
       "      <td>26.812660</td>\n",
       "      <td>2.074947</td>\n",
       "      <td>1.783890e+05</td>\n",
       "      <td>9.577872</td>\n",
       "      <td>3.512463e+05</td>\n",
       "      <td>1.823492e+05</td>\n",
       "      <td>1.688725e+05</td>\n",
       "      <td>66.068127</td>\n",
       "      <td>49.687341</td>\n",
       "      <td>2.948336</td>\n",
       "      <td>2.023120e+05</td>\n",
       "      <td>2.098908</td>\n",
       "    </tr>\n",
       "    <tr>\n",
       "      <th>min</th>\n",
       "      <td>0.000000</td>\n",
       "      <td>0.000000e+00</td>\n",
       "      <td>0.000000e+00</td>\n",
       "      <td>0.000000e+00</td>\n",
       "      <td>0.000000</td>\n",
       "      <td>0.000000</td>\n",
       "      <td>0.000000</td>\n",
       "      <td>0.000000e+00</td>\n",
       "      <td>0.000000</td>\n",
       "      <td>0.000000e+00</td>\n",
       "      <td>0.000000e+00</td>\n",
       "      <td>0.000000e+00</td>\n",
       "      <td>0.000000</td>\n",
       "      <td>0.000000</td>\n",
       "      <td>0.000000</td>\n",
       "      <td>0.000000e+00</td>\n",
       "      <td>0.000000</td>\n",
       "    </tr>\n",
       "    <tr>\n",
       "      <th>25%</th>\n",
       "      <td>425.000000</td>\n",
       "      <td>5.093450e+04</td>\n",
       "      <td>2.712725e+04</td>\n",
       "      <td>2.397900e+04</td>\n",
       "      <td>1.000000</td>\n",
       "      <td>101.105000</td>\n",
       "      <td>5.700000</td>\n",
       "      <td>3.527350e+04</td>\n",
       "      <td>1.440000</td>\n",
       "      <td>0.000000e+00</td>\n",
       "      <td>0.000000e+00</td>\n",
       "      <td>0.000000e+00</td>\n",
       "      <td>0.000000</td>\n",
       "      <td>0.000000</td>\n",
       "      <td>0.000000</td>\n",
       "      <td>0.000000e+00</td>\n",
       "      <td>0.000000</td>\n",
       "    </tr>\n",
       "    <tr>\n",
       "      <th>50%</th>\n",
       "      <td>882.000000</td>\n",
       "      <td>1.652410e+05</td>\n",
       "      <td>8.413450e+04</td>\n",
       "      <td>8.204400e+04</td>\n",
       "      <td>10.000000</td>\n",
       "      <td>105.285000</td>\n",
       "      <td>6.310000</td>\n",
       "      <td>1.172065e+05</td>\n",
       "      <td>2.030000</td>\n",
       "      <td>4.325450e+04</td>\n",
       "      <td>2.198000e+04</td>\n",
       "      <td>2.099900e+04</td>\n",
       "      <td>3.000000</td>\n",
       "      <td>103.195000</td>\n",
       "      <td>5.755000</td>\n",
       "      <td>2.129800e+04</td>\n",
       "      <td>1.855000</td>\n",
       "    </tr>\n",
       "    <tr>\n",
       "      <th>75%</th>\n",
       "      <td>1734.250000</td>\n",
       "      <td>3.129112e+05</td>\n",
       "      <td>1.605022e+05</td>\n",
       "      <td>1.522190e+05</td>\n",
       "      <td>25.000000</td>\n",
       "      <td>108.347500</td>\n",
       "      <td>7.200000</td>\n",
       "      <td>2.130542e+05</td>\n",
       "      <td>2.812500</td>\n",
       "      <td>1.178148e+05</td>\n",
       "      <td>6.030175e+04</td>\n",
       "      <td>5.746525e+04</td>\n",
       "      <td>19.000000</td>\n",
       "      <td>107.040000</td>\n",
       "      <td>6.340000</td>\n",
       "      <td>6.542225e+04</td>\n",
       "      <td>2.985000</td>\n",
       "    </tr>\n",
       "    <tr>\n",
       "      <th>max</th>\n",
       "      <td>18374.000000</td>\n",
       "      <td>2.297375e+06</td>\n",
       "      <td>1.172995e+06</td>\n",
       "      <td>1.124167e+06</td>\n",
       "      <td>213.000000</td>\n",
       "      <td>139.380000</td>\n",
       "      <td>12.430000</td>\n",
       "      <td>1.044035e+06</td>\n",
       "      <td>100.000000</td>\n",
       "      <td>3.653616e+06</td>\n",
       "      <td>1.905921e+06</td>\n",
       "      <td>1.746900e+06</td>\n",
       "      <td>795.000000</td>\n",
       "      <td>297.810000</td>\n",
       "      <td>10.060000</td>\n",
       "      <td>2.075867e+06</td>\n",
       "      <td>19.780000</td>\n",
       "    </tr>\n",
       "  </tbody>\n",
       "</table>\n",
       "</div>"
      ],
      "text/plain": [
       "       AREA (sq.km)  ALL SEXES (RURAL)  MALE (RURAL)  FEMALE (RURAL)  \\\n",
       "count    528.000000       5.280000e+02  5.280000e+02    5.280000e+02   \n",
       "mean    1492.005871       2.462780e+05  1.252757e+05    1.209841e+05   \n",
       "std     2039.453778       2.711898e+05  1.375630e+05    1.337169e+05   \n",
       "min        0.000000       0.000000e+00  0.000000e+00    0.000000e+00   \n",
       "25%      425.000000       5.093450e+04  2.712725e+04    2.397900e+04   \n",
       "50%      882.000000       1.652410e+05  8.413450e+04    8.204400e+04   \n",
       "75%     1734.250000       3.129112e+05  1.605022e+05    1.522190e+05   \n",
       "max    18374.000000       2.297375e+06  1.172995e+06    1.124167e+06   \n",
       "\n",
       "       TRANSGENDER (RURAL)  SEX RATIO (RURAL)  AVG HOUSEHOLD SIZE (RURAL)  \\\n",
       "count           528.000000         528.000000                  528.000000   \n",
       "mean             18.174242          98.982614                    6.277064   \n",
       "std              25.522248          26.812660                    2.074947   \n",
       "min               0.000000           0.000000                    0.000000   \n",
       "25%               1.000000         101.105000                    5.700000   \n",
       "50%              10.000000         105.285000                    6.310000   \n",
       "75%              25.000000         108.347500                    7.200000   \n",
       "max             213.000000         139.380000                   12.430000   \n",
       "\n",
       "       POPULATION 1998 (RURAL)  ANNUAL GROWTH RATE (RURAL)  ALL SEXES (URBAN)  \\\n",
       "count             5.280000e+02                  528.000000       5.280000e+02   \n",
       "mean              1.674280e+05                    3.124792       1.408635e+05   \n",
       "std               1.783890e+05                    9.577872       3.512463e+05   \n",
       "min               0.000000e+00                    0.000000       0.000000e+00   \n",
       "25%               3.527350e+04                    1.440000       0.000000e+00   \n",
       "50%               1.172065e+05                    2.030000       4.325450e+04   \n",
       "75%               2.130542e+05                    2.812500       1.178148e+05   \n",
       "max               1.044035e+06                  100.000000       3.653616e+06   \n",
       "\n",
       "       MALE (URBAN)  FEMALE (URBAN)  TRANSGENDER (URBAN)  SEX RATIO (URBAN)  \\\n",
       "count  5.280000e+02    5.280000e+02           528.000000         528.000000   \n",
       "mean   7.284339e+04    6.799787e+04            22.276515          75.411269   \n",
       "std    1.823492e+05    1.688725e+05            66.068127          49.687341   \n",
       "min    0.000000e+00    0.000000e+00             0.000000           0.000000   \n",
       "25%    0.000000e+00    0.000000e+00             0.000000           0.000000   \n",
       "50%    2.198000e+04    2.099900e+04             3.000000         103.195000   \n",
       "75%    6.030175e+04    5.746525e+04            19.000000         107.040000   \n",
       "max    1.905921e+06    1.746900e+06           795.000000         297.810000   \n",
       "\n",
       "       AVG HOUSEHOLD SIZE (URBAN)  POPULATION 1998 (URBAN)  \\\n",
       "count                  528.000000             5.280000e+02   \n",
       "mean                     4.406402             8.014457e+04   \n",
       "std                      2.948336             2.023120e+05   \n",
       "min                      0.000000             0.000000e+00   \n",
       "25%                      0.000000             0.000000e+00   \n",
       "50%                      5.755000             2.129800e+04   \n",
       "75%                      6.340000             6.542225e+04   \n",
       "max                     10.060000             2.075867e+06   \n",
       "\n",
       "       ANNUAL GROWTH RATE (URBAN)  \n",
       "count                  528.000000  \n",
       "mean                     1.920814  \n",
       "std                      2.098908  \n",
       "min                      0.000000  \n",
       "25%                      0.000000  \n",
       "50%                      1.855000  \n",
       "75%                      2.985000  \n",
       "max                     19.780000  "
      ]
     },
     "execution_count": 7,
     "metadata": {},
     "output_type": "execute_result"
    }
   ],
   "source": [
    "df.describe()"
   ]
  },
  {
   "cell_type": "code",
   "execution_count": 8,
   "id": "a1938392",
   "metadata": {},
   "outputs": [
    {
     "data": {
      "application/vnd.microsoft.datawrangler.viewer.v0+json": {
       "columns": [
        {
         "name": "index",
         "rawType": "object",
         "type": "string"
        },
        {
         "name": "0",
         "rawType": "int64",
         "type": "integer"
        }
       ],
       "ref": "019803f5-f864-4e3a-9064-108cefa74cbe",
       "rows": [
        [
         "PROVINCE",
         "0"
        ],
        [
         "DIVISION",
         "0"
        ],
        [
         "DISTRICT",
         "0"
        ],
        [
         "SUB DIVISION",
         "0"
        ],
        [
         "AREA (sq.km)",
         "0"
        ],
        [
         "ALL SEXES (RURAL)",
         "0"
        ],
        [
         "MALE (RURAL)",
         "0"
        ],
        [
         "FEMALE (RURAL)",
         "0"
        ],
        [
         "TRANSGENDER (RURAL)",
         "0"
        ],
        [
         "SEX RATIO (RURAL)",
         "0"
        ],
        [
         "AVG HOUSEHOLD SIZE (RURAL)",
         "0"
        ],
        [
         "POPULATION 1998 (RURAL)",
         "0"
        ],
        [
         "ANNUAL GROWTH RATE (RURAL)",
         "0"
        ],
        [
         "ALL SEXES (URBAN)",
         "0"
        ],
        [
         "MALE (URBAN)",
         "0"
        ],
        [
         "FEMALE (URBAN)",
         "0"
        ],
        [
         "TRANSGENDER (URBAN)",
         "0"
        ],
        [
         "SEX RATIO (URBAN)",
         "0"
        ],
        [
         "AVG HOUSEHOLD SIZE (URBAN)",
         "0"
        ],
        [
         "POPULATION 1998 (URBAN)",
         "0"
        ],
        [
         "ANNUAL GROWTH RATE (URBAN)",
         "0"
        ]
       ],
       "shape": {
        "columns": 1,
        "rows": 21
       }
      },
      "text/plain": [
       "PROVINCE                      0\n",
       "DIVISION                      0\n",
       "DISTRICT                      0\n",
       "SUB DIVISION                  0\n",
       "AREA (sq.km)                  0\n",
       "ALL SEXES (RURAL)             0\n",
       "MALE (RURAL)                  0\n",
       "FEMALE (RURAL)                0\n",
       "TRANSGENDER (RURAL)           0\n",
       "SEX RATIO (RURAL)             0\n",
       "AVG HOUSEHOLD SIZE (RURAL)    0\n",
       "POPULATION 1998 (RURAL)       0\n",
       "ANNUAL GROWTH RATE (RURAL)    0\n",
       "ALL SEXES (URBAN)             0\n",
       "MALE (URBAN)                  0\n",
       "FEMALE (URBAN)                0\n",
       "TRANSGENDER (URBAN)           0\n",
       "SEX RATIO (URBAN)             0\n",
       "AVG HOUSEHOLD SIZE (URBAN)    0\n",
       "POPULATION 1998 (URBAN)       0\n",
       "ANNUAL GROWTH RATE (URBAN)    0\n",
       "dtype: int64"
      ]
     },
     "execution_count": 8,
     "metadata": {},
     "output_type": "execute_result"
    }
   ],
   "source": [
    "df.isnull().sum()"
   ]
  },
  {
   "cell_type": "code",
   "execution_count": 9,
   "id": "1876ab64",
   "metadata": {},
   "outputs": [
    {
     "data": {
      "text/plain": [
       "(528, 21)"
      ]
     },
     "execution_count": 9,
     "metadata": {},
     "output_type": "execute_result"
    }
   ],
   "source": [
    "df.shape"
   ]
  },
  {
   "cell_type": "code",
   "execution_count": 38,
   "id": "4b261d73",
   "metadata": {},
   "outputs": [],
   "source": [
    "list1=df.columns.tolist()"
   ]
  },
  {
   "cell_type": "code",
   "execution_count": 19,
   "id": "387ba9fb",
   "metadata": {},
   "outputs": [
    {
     "data": {
      "application/vnd.microsoft.datawrangler.viewer.v0+json": {
       "columns": [
        {
         "name": "index",
         "rawType": "object",
         "type": "string"
        },
        {
         "name": "0",
         "rawType": "object",
         "type": "unknown"
        }
       ],
       "ref": "9e532956-5ec1-4ecb-ba0c-d6cdf2a851c0",
       "rows": [
        [
         "PROVINCE",
         "PUNJABPUNJABPUNJABPUNJABPUNJABPUNJABPUNJABPUNJABPUNJABPUNJABPUNJABPUNJABPUNJABPUNJABPUNJABPUNJABPUNJABPUNJABPUNJABPUNJABPUNJABPUNJABPUNJABPUNJABPUNJABPUNJABPUNJABPUNJABPUNJABPUNJABPUNJABPUNJABPUNJABPUNJABPUNJABPUNJABPUNJABPUNJABPUNJABPUNJABPUNJABPUNJABPUNJABPUNJABPUNJABPUNJABPUNJABPUNJABPUNJABPUNJABPUNJABPUNJABPUNJABPUNJABPUNJABPUNJABPUNJABPUNJABPUNJABPUNJABPUNJABPUNJABPUNJABPUNJABPUNJABPUNJABPUNJABPUNJABPUNJABPUNJABPUNJABPUNJABPUNJABPUNJABPUNJABPUNJABPUNJABPUNJABPUNJABPUNJABPUNJABPUNJABPUNJABPUNJABPUNJABPUNJABPUNJABPUNJABPUNJABPUNJABPUNJABPUNJABPUNJABPUNJABPUNJABPUNJABPUNJABPUNJABPUNJABPUNJABPUNJABPUNJABPUNJABPUNJABPUNJABPUNJABPUNJABPUNJABPUNJABPUNJABPUNJABPUNJABPUNJABPUNJABPUNJABPUNJABPUNJABPUNJABPUNJABPUNJABPUNJABPUNJABPUNJABPUNJABPUNJABPUNJABPUNJABPUNJABPUNJABPUNJABPUNJABPUNJABPUNJABPUNJABPUNJABPUNJABPUNJABPUNJABPUNJABPUNJABPUNJABPUNJABPUNJABSINDHSINDHSINDHSINDHSINDHSINDHSINDHSINDHSINDHSINDHSINDHSINDHSINDHSINDHSINDHSINDHSINDHSINDHSINDHSINDHSINDHSINDHSINDHSINDHSINDHSINDHSINDHSINDHSINDHSINDHSINDHSINDHSINDHSINDHSINDHSINDHSINDHSINDHSINDHSINDHSINDHSINDHSINDHSINDHSINDHSINDHSINDHSINDHSINDHSINDHSINDHSINDHSINDHSINDHSINDHSINDHSINDHSINDHSINDHSINDHSINDHSINDHSINDHSINDHSINDHSINDHSINDHSINDHSINDHSINDHSINDHSINDHSINDHSINDHSINDHSINDHSINDHSINDHSINDHSINDHSINDHSINDHSINDHSINDHSINDHSINDHSINDHSINDHSINDHSINDHSINDHSINDHSINDHSINDHSINDHSINDHSINDHSINDHSINDHSINDHSINDHSINDHSINDHSINDHSINDHSINDHSINDHSINDHSINDHSINDHSINDHSINDHSINDHSINDHSINDHSINDHSINDHSINDHSINDHSINDHSINDHSINDHSINDHSINDHSINDHSINDHSINDHSINDHSINDHSINDHSINDHSINDHSINDHSINDHSINDHSINDHSINDHBALOCHISTANBALOCHISTANBALOCHISTANBALOCHISTANBALOCHISTANBALOCHISTANBALOCHISTANBALOCHISTANBALOCHISTANBALOCHISTANBALOCHISTANBALOCHISTANBALOCHISTANBALOCHISTANBALOCHISTANBALOCHISTANBALOCHISTANBALOCHISTANBALOCHISTANBALOCHISTANBALOCHISTANBALOCHISTANBALOCHISTANBALOCHISTANBALOCHISTANBALOCHISTANBALOCHISTANBALOCHISTANBALOCHISTANBALOCHISTANBALOCHISTANBALOCHISTANBALOCHISTANBALOCHISTANBALOCHISTANBALOCHISTANBALOCHISTANBALOCHISTANBALOCHISTANBALOCHISTANBALOCHISTANBALOCHISTANBALOCHISTANBALOCHISTANBALOCHISTANBALOCHISTANBALOCHISTANBALOCHISTANBALOCHISTANBALOCHISTANBALOCHISTANBALOCHISTANBALOCHISTANBALOCHISTANBALOCHISTANBALOCHISTANBALOCHISTANBALOCHISTANBALOCHISTANBALOCHISTANBALOCHISTANBALOCHISTANBALOCHISTANBALOCHISTANBALOCHISTANBALOCHISTANBALOCHISTANBALOCHISTANBALOCHISTANBALOCHISTANBALOCHISTANBALOCHISTANBALOCHISTANBALOCHISTANBALOCHISTANBALOCHISTANBALOCHISTANBALOCHISTANBALOCHISTANBALOCHISTANBALOCHISTANBALOCHISTANBALOCHISTANBALOCHISTANBALOCHISTANBALOCHISTANBALOCHISTANBALOCHISTANBALOCHISTANBALOCHISTANBALOCHISTANBALOCHISTANBALOCHISTANBALOCHISTANBALOCHISTANBALOCHISTANBALOCHISTANBALOCHISTANBALOCHISTANBALOCHISTANBALOCHISTANBALOCHISTANBALOCHISTANBALOCHISTANBALOCHISTANBALOCHISTANBALOCHISTANBALOCHISTANBALOCHISTANBALOCHISTANBALOCHISTANBALOCHISTANBALOCHISTANBALOCHISTANBALOCHISTANBALOCHISTANBALOCHISTANBALOCHISTANBALOCHISTANBALOCHISTANBALOCHISTANBALOCHISTANBALOCHISTANBALOCHISTANBALOCHISTANBALOCHISTANBALOCHISTANBALOCHISTANBALOCHISTANBALOCHISTANBALOCHISTANKPKKPKKPKKPKKPKKPKKPKKPKKPKKPKKPKKPKKPKKPKKPKKPKKPKKPKKPKKPKKPKKPKKPKKPKKPKKPKKPKKPKKPKKPKKPKKPKKPKKPKKPKKPKKPKKPKKPKKPKKPKKPKKPKKPKKPKKPKKPKKPKKPKKPKKPKKPKKPKKPKKPKKPKKPKKPKKPKKPKKPKKPKKPKKPKKPKKPKKPKKPKKPKKPKKPKKPK/FATAKPK/FATAKPK/FATAKPK/FATAKPK/FATAKPK/FATAKPK/FATAKPK/FATAKPK/FATAKPK/FATAKPK/FATAKPK/FATAKPK/FATAKPK/FATAKPK/FATAKPK/FATAKPK/FATAKPK/FATAKPK/FATAKPK/FATAKPK/FATAKPK/FATAKPK/FATAKPK/FATAKPK/FATAKPK/FATAKPK/FATAKPK/FATAKPK/FATAKPK/FATAKPK/FATAKPK/FATAKPK/FATAKPK/FATAKPK/FATAKPK/FATAKPK/FATAKPK/FATAKPK/FATAKPK/FATAKPK/FATAKPK/FATAKPK/FATAKPK/FATAKPK/FATAKPK/FATA"
        ],
        [
         "DIVISION",
         "BAHAWALPUR DIVISIONBAHAWALPUR DIVISIONBAHAWALPUR DIVISIONBAHAWALPUR DIVISIONBAHAWALPUR DIVISIONBAHAWALPUR DIVISIONBAHAWALPUR DIVISIONBAHAWALPUR DIVISIONBAHAWALPUR DIVISIONBAHAWALPUR DIVISIONBAHAWALPUR DIVISIONBAHAWALPUR DIVISIONBAHAWALPUR DIVISIONBAHAWALPUR DIVISIONBAHAWALPUR DIVISIOND.G.KHAN DIVISIOND.G.KHAN DIVISIOND.G.KHAN DIVISIOND.G.KHAN DIVISIOND.G.KHAN DIVISIOND.G.KHAN DIVISIOND.G.KHAN DIVISIOND.G.KHAN DIVISIOND.G.KHAN DIVISIOND.G.KHAN DIVISIOND.G.KHAN DIVISIOND.G.KHAN DIVISIOND.G.KHAN DIVISIOND.G.KHAN DIVISIONFAISALABAD DIVISIONFAISALABAD DIVISIONFAISALABAD DIVISIONFAISALABAD DIVISIONFAISALABAD DIVISIONFAISALABAD DIVISIONFAISALABAD DIVISIONFAISALABAD DIVISIONFAISALABAD DIVISIONFAISALABAD DIVISIONFAISALABAD DIVISIONFAISALABAD DIVISIONFAISALABAD DIVISIONFAISALABAD DIVISIONFAISALABAD DIVISIONFAISALABAD DIVISIONFAISALABAD DIVISIONGUJRANWALA DIVISIONGUJRANWALA DIVISIONGUJRANWALA DIVISIONGUJRANWALA DIVISIONGUJRANWALA DIVISIONGUJRANWALA DIVISIONGUJRANWALA DIVISIONGUJRANWALA DIVISIONGUJRANWALA DIVISIONGUJRANWALA DIVISIONGUJRANWALA DIVISIONGUJRANWALA DIVISIONGUJRANWALA DIVISIONGUJRANWALA DIVISIONGUJRANWALA DIVISIONGUJRANWALA DIVISIONGUJRANWALA DIVISIONGUJRANWALA DIVISIONGUJRANWALA DIVISIONGUJRANWALA DIVISIONLAHORE DIVISIONLAHORE DIVISIONLAHORE DIVISIONLAHORE DIVISIONLAHORE DIVISIONLAHORE DIVISIONLAHORE DIVISIONLAHORE DIVISIONLAHORE DIVISIONLAHORE DIVISIONLAHORE DIVISIONLAHORE DIVISIONLAHORE DIVISIONLAHORE DIVISIONLAHORE DIVISIONLAHORE DIVISIONLAHORE DIVISIONMULTAN DIVISIONMULTAN DIVISIONMULTAN DIVISIONMULTAN DIVISIONMULTAN DIVISIONMULTAN DIVISIONMULTAN DIVISIONMULTAN DIVISIONMULTAN DIVISIONMULTAN DIVISIONMULTAN DIVISIONMULTAN DIVISIONMULTAN DIVISIONMULTAN DIVISIONRAWALPINDI DIVISIONRAWALPINDI DIVISIONRAWALPINDI DIVISIONRAWALPINDI DIVISIONRAWALPINDI DIVISIONRAWALPINDI DIVISIONRAWALPINDI DIVISIONRAWALPINDI DIVISIONRAWALPINDI DIVISIONRAWALPINDI DIVISIONRAWALPINDI DIVISIONRAWALPINDI DIVISIONRAWALPINDI DIVISIONRAWALPINDI DIVISIONRAWALPINDI DIVISIONRAWALPINDI DIVISIONRAWALPINDI DIVISIONRAWALPINDI DIVISIONRAWALPINDI DIVISIONRAWALPINDI DIVISIONRAWALPINDI DIVISIONRAWALPINDI DIVISIONSAHIWAL DIVISIONSAHIWAL DIVISIONSAHIWAL DIVISIONSAHIWAL DIVISIONSAHIWAL DIVISIONSAHIWAL DIVISIONSAHIWAL DIVISIONSARGODHA DIVISIONSARGODHA DIVISIONSARGODHA DIVISIONSARGODHA DIVISIONSARGODHA DIVISIONSARGODHA DIVISIONSARGODHA DIVISIONSARGODHA DIVISIONSARGODHA DIVISIONSARGODHA DIVISIONSARGODHA DIVISIONSARGODHA DIVISIONSARGODHA DIVISIONSARGODHA DIVISIONSARGODHA DIVISIONSARGODHA DIVISIONSARGODHA DIVISIONBadin DivisionBadin DivisionBadin DivisionBadin DivisionBadin DivisionHyderabad DivisionHyderabad DivisionHyderabad DivisionHyderabad DivisionHyderabad DivisionHyderabad DivisionHyderabad DivisionHyderabad DivisionHyderabad DivisionHyderabad DivisionHyderabad DivisionHyderabad DivisionHyderabad DivisionHyderabad DivisionHyderabad DivisionHyderabad DivisionHyderabad DivisionHyderabad DivisionHyderabad DivisionHyderabad DivisionHyderabad DivisionHyderabad DivisionHyderabad DivisionHyderabad DivisionHyderabad DivisionHyderabad DivisionHyderabad DivisionHyderabad DivisionHyderabad DivisionHyderabad DivisionKarachi DivisionKarachi DivisionKarachi DivisionKarachi DivisionKarachi DivisionKarachi DivisionKarachi DivisionKarachi DivisionKarachi DivisionKarachi DivisionKarachi DivisionKarachi DivisionKarachi DivisionKarachi DivisionKarachi DivisionKarachi DivisionKarachi DivisionKarachi DivisionKarachi DivisionKarachi DivisionKarachi DivisionKarachi DivisionKarachi DivisionKarachi DivisionKarachi DivisionKarachi DivisionKarachi DivisionKarachi DivisionKarachi DivisionKarachi DivisionLarkana DivisionLarkana DivisionLarkana DivisionLarkana DivisionLarkana DivisionLarkana DivisionLarkana DivisionLarkana DivisionLarkana DivisionLarkana DivisionLarkana DivisionLarkana DivisionLarkana DivisionLarkana DivisionLarkana DivisionLarkana DivisionLarkana DivisionLarkana DivisionLarkana DivisionLarkana DivisionLarkana DivisionMirpurkhas DivisionMirpurkhas DivisionMirpurkhas DivisionMirpurkhas DivisionMirpurkhas DivisionMirpurkhas DivisionMirpurkhas DivisionMirpurkhas DivisionMirpurkhas DivisionMirpurkhas DivisionMirpurkhas DivisionMirpurkhas DivisionMirpurkhas DivisionMirpurkhas DivisionMirpurkhas DivisionMirpurkhas DivisionMirpurkhas DivisionMirpurkhas DivisionShaheed Benazirabad DivisionShaheed Benazirabad DivisionShaheed Benazirabad DivisionShaheed Benazirabad DivisionShaheed Benazirabad DivisionShaheed Benazirabad DivisionShaheed Benazirabad DivisionShaheed Benazirabad DivisionShaheed Benazirabad DivisionShaheed Benazirabad DivisionShaheed Benazirabad DivisionShaheed Benazirabad DivisionShaheed Benazirabad DivisionShaheed Benazirabad DivisionShaheed Benazirabad DivisionSukkur DivisionSukkur DivisionSukkur DivisionSukkur DivisionSukkur DivisionSukkur DivisionSukkur DivisionSukkur DivisionSukkur DivisionSukkur DivisionSukkur DivisionSukkur DivisionSukkur DivisionSukkur DivisionSukkur DivisionSukkur DivisionSukkur DivisionSukkur DivisionMakran DivisionMakran DivisionMakran DivisionMakran DivisionKalat DivisionKalat DivisionKalat DivisionKalat DivisionKalat DivisionMakran DivisionMakran DivisionMakran DivisionKalat DivisionKalat DivisionKalat DivisionKalat DivisionKalat DivisionKalat DivisionKalat DivisionKalat DivisionKalat DivisionMakran DivisionMakran DivisionMakran DivisionMakran DivisionMakran DivisionMakran DivisionMakran DivisionMakran DivisionKalat DivisionKalat DivisionKalat DivisionKalat DivisionMakran DivisionMakran DivisionMakran DivisionMakran DivisionMakran DivisionMakran DivisionMakran DivisionMakran DivisionMakran DivisionMakran DivisionMakran DivisionMakran DivisionMakran DivisionMakran DivisionMakran DivisionMakran DivisionMakran DivisionMakran DivisionMakran DivisionMakran DivisionMakran DivisionMakran DivisionNaseerabad DivisionNaseerabad DivisionNaseerabad DivisionNaseerabad DivisionNaseerabad DivisionNaseerabad DivisionNaseerabad DivisionNaseerabad DivisionNaseerabad DivisionNaseerabad DivisionNaseerabad DivisionNaseerabad DivisionNaseerabad DivisionNaseerabad DivisionNaseerabad DivisionNaseerabad DivisionNaseerabad DivisionNaseerabad DivisionNaseerabad DivisionQuetta DivisionQuetta DivisionQuetta DivisionQuetta DivisionQuetta DivisionQuetta DivisionQuetta DivisionQuetta DivisionQuetta DivisionQuetta DivisionQuetta DivisionQuetta DivisionQuetta DivisionQuetta DivisionQuetta DivisionQuetta DivisionQuetta DivisionQuetta DivisionQuetta DivisionQuetta DivisionQuetta DivisionQuetta DivisionQuetta DivisionQuetta DivisionQuetta DivisionQuetta DivisionQuetta DivisionQuetta DivisionQuetta DivisionQuetta DivisionQuetta DivisionQuetta DivisionQuetta DivisionQuetta DivisionQuetta DivisionQuetta DivisionQuetta DivisionQuetta DivisionZhob DivisionZhob DivisionZhob DivisionZhob DivisionZhob DivisionZhob DivisionZhob DivisionZhob DivisionZhob DivisionZhob DivisionZhob DivisionZhob DivisionZhob DivisionZhob DivisionZhob DivisionZhob DivisionZhob DivisionZhob DivisionZhob DivisionBANNU DIVISIONBANNU DIVISIONBANNU DIVISIONBANNU DIVISIONDERA ISMAIL KHAN DIVISIONDERA ISMAIL KHAN DIVISIONDERA ISMAIL KHAN DIVISIONDERA ISMAIL KHAN DIVISIONDERA ISMAIL KHAN DIVISIONDERA ISMAIL KHAN DIVISIONHAZARA DIVISIONHAZARA DIVISIONHAZARA DIVISIONHAZARA DIVISIONHAZARA DIVISIONHAZARA DIVISIONHAZARA DIVISIONHAZARA DIVISIONHAZARA DIVISIONHAZARA DIVISIONHAZARA DIVISIONHAZARA DIVISIONHAZARA DIVISIONHAZARA DIVISIONHAZARA DIVISIONKOHAT DIVISIONKOHAT DIVISIONKOHAT DIVISIONKOHAT DIVISIONKOHAT DIVISIONKOHAT DIVISIONKOHAT DIVISIONMARDAN DIVISIONMARDAN DIVISIONMARDAN DIVISIONMARDAN DIVISIONMARDAN DIVISIONMARDAN DIVISIONMARDAN DIVISIONPESHAWAR DIVISIONPESHAWAR DIVISIONPESHAWAR DIVISIONPESHAWAR DIVISIONPESHAWAR DIVISIONPESHAWAR DIVISIONMALAKAND DIVISIONMALAKAND DIVISIONMALAKAND DIVISIONMALAKAND DIVISIONMALAKAND DIVISIONMALAKAND DIVISIONMALAKAND DIVISIONMALAKAND DIVISIONMALAKAND DIVISIONMALAKAND DIVISIONMALAKAND DIVISIONMALAKAND DIVISIONMALAKAND DIVISIONMALAKAND DIVISIONMALAKAND DIVISIONMALAKAND DIVISIONMALAKAND DIVISIONMALAKAND DIVISIONMALAKAND DIVISIONMALAKAND DIVISIONMALAKAND DIVISIONMALAKAND DIVISIONMALAKAND DIVISIONMALAKAND DIVISIONMALAKAND DIVISIONMALAKAND DIVISIONMALAKAND DIVISIONMALAKAND DIVISIONMALAKAND DIVISIONMALAKAND DIVISIONMALAKAND DIVISIONMALAKAND DIVISIONMALAKAND DIVISIONBANNU DIVISIONDERA ISMAIL KHAN DIVISIONKOHAT DIVISIONBANNU DIVISIONPESHAWAR DIVISIONPESHAWAR DIVISIONPESHAWAR DIVISIONPESHAWAR DIVISIONPESHAWAR DIVISIONKOHAT DIVISIONKOHAT DIVISIONPESHAWAR DIVISIONPESHAWAR DIVISIONPESHAWAR DIVISIONPESHAWAR DIVISIONPESHAWAR DIVISIONPESHAWAR DIVISIONPESHAWAR DIVISIONBANNU DIVISIONBANNU DIVISIONBANNU DIVISIONBANNU DIVISIONBANNU DIVISIONBANNU DIVISIONBANNU DIVISIONBANNU DIVISIONBANNU DIVISIONKOHAT DIVISIONKOHAT DIVISIONKOHAT DIVISIONKOHAT DIVISIONDERA ISMAIL KHAN DIVISIONDERA ISMAIL KHAN DIVISIONDERA ISMAIL KHAN DIVISIONDERA ISMAIL KHAN DIVISIONDERA ISMAIL KHAN DIVISIONDERA ISMAIL KHAN DIVISIONDERA ISMAIL KHAN DIVISIONDERA ISMAIL KHAN DIVISION"
        ],
        [
         "DISTRICT",
         "BAHAWALNAGAR DISTRICTBAHAWALNAGAR DISTRICTBAHAWALNAGAR DISTRICTBAHAWALNAGAR DISTRICTBAHAWALNAGAR DISTRICTBAHAWALPUR DISTRICTBAHAWALPUR DISTRICTBAHAWALPUR DISTRICTBAHAWALPUR DISTRICTBAHAWALPUR DISTRICTBAHAWALPUR DISTRICTRAHIM YAR KHAN DISTRICTRAHIM YAR KHAN DISTRICTRAHIM YAR KHAN DISTRICTRAHIM YAR KHAN DISTRICTDERA GHAZI KHAN DISTRICTDERA GHAZI KHAN DISTRICTDERA GHAZI KHAN DISTRICTDERA GHAZI KHAN DISTRICTLAYYAH DISTRICTLAYYAH DISTRICTMUZAFFARGARH DISTRICTMUZAFFARGARH DISTRICTMUZAFFARGARH DISTRICTMUZAFFARGARH DISTRICTRAJANPUR DISTRICTRAJANPUR DISTRICTRAJANPUR DISTRICTRAJANPUR DISTRICTCHINIOT DISTRICTCHINIOT DISTRICTCHINIOT DISTRICTFAISALABAD DISTRICTFAISALABAD DISTRICTFAISALABAD DISTRICTFAISALABAD DISTRICTFAISALABAD DISTRICTFAISALABAD DISTRICTJHANG DISTRICTJHANG DISTRICTJHANG DISTRICTJHANG DISTRICTTOBA TEK SINGH DISTRICTTOBA TEK SINGH DISTRICTTOBA TEK SINGH DISTRICTTOBA TEK SINGH DISTRICTGUJRANWALA DISTRICTGUJRANWALA DISTRICTGUJRANWALA DISTRICTGUJRANWALA DISTRICTGUJRANWALA DISTRICTGUJRAT DISTRICTGUJRAT DISTRICTGUJRAT DISTRICTHAFIZABAD DISTRICTHAFIZABAD DISTRICTMANDI BAHAUDDIN DISTRICTMANDI BAHAUDDIN DISTRICTMANDI BAHAUDDIN DISTRICTNAROWAL DISTRICTNAROWAL DISTRICTNAROWAL DISTRICTSIALKOT DISTRICTSIALKOT DISTRICTSIALKOT DISTRICTSIALKOT DISTRICTKASUR DISTRICTKASUR DISTRICTKASUR DISTRICTKASUR DISTRICTLAHORE DISTRICTLAHORE DISTRICTLAHORE DISTRICTLAHORE DISTRICTLAHORE DISTRICTNANKANA SAHIB DISTRICTNANKANA SAHIB DISTRICTNANKANA SAHIB DISTRICTSHEIKHUPURA DISTRICTSHEIKHUPURA DISTRICTSHEIKHUPURA DISTRICTSHEIKHUPURA DISTRICTSHEIKHUPURA DISTRICTKHANEWAL DISTRICTKHANEWAL DISTRICTKHANEWAL DISTRICTKHANEWAL DISTRICTLODHRAN DISTRICTLODHRAN DISTRICTLODHRAN DISTRICTMULTAN DISTRICTMULTAN DISTRICTMULTAN DISTRICTMULTAN DISTRICTVEHARI DISTRICTVEHARI DISTRICTVEHARI DISTRICTATTOCK DISTRICTATTOCK DISTRICTATTOCK DISTRICTATTOCK DISTRICTATTOCK DISTRICTATTOCK DISTRICTCHAKWAL DISTRICTCHAKWAL DISTRICTCHAKWAL DISTRICTCHAKWAL DISTRICTCHAKWAL DISTRICTJHELUM DISTRICTJHELUM DISTRICTJHELUM DISTRICTJHELUM DISTRICTRAWALPINDI DISTRICTRAWALPINDI DISTRICTRAWALPINDI DISTRICTRAWALPINDI DISTRICTRAWALPINDI DISTRICTRAWALPINDI DISTRICTRAWALPINDI DISTRICTOKARA DISTRICTOKARA DISTRICTOKARA DISTRICTPAKPATTAN DISTRICTPAKPATTAN DISTRICTSAHIWAL DISTRICTSAHIWAL DISTRICTBHAKKAR DISTRICTBHAKKAR DISTRICTBHAKKAR DISTRICTBHAKKAR DISTRICTKHUSHAB DISTRICTKHUSHAB DISTRICTKHUSHAB DISTRICTKHUSHAB DISTRICTMIANWALI DISTRICTMIANWALI DISTRICTMIANWALI DISTRICTSARGODHA DISTRICTSARGODHA DISTRICTSARGODHA DISTRICTSARGODHA DISTRICTSARGODHA DISTRICTSARGODHA DISTRICTBADIN DISTRICTBADIN DISTRICTBADIN DISTRICTBADIN DISTRICTBADIN DISTRICTDADU DISTRICTDADU DISTRICTDADU DISTRICTDADU DISTRICTHYDERABAD DISTRICTHYDERABAD DISTRICTHYDERABAD DISTRICTHYDERABAD DISTRICTJAMSHORO DISTRICTJAMSHORO DISTRICTJAMSHORO DISTRICTJAMSHORO DISTRICTMATIARI DISTRICTMATIARI DISTRICTMATIARI DISTRICTSUJAWAL DISTRICTSUJAWAL DISTRICTSUJAWAL DISTRICTSUJAWAL DISTRICTSUJAWAL DISTRICTTANDO ALLAHYAR DISTRICTTANDO ALLAHYAR DISTRICTTANDO ALLAHYAR DISTRICTTANDO MUHAMMAD KHAN DISTRICTTANDO MUHAMMAD KHAN DISTRICTTANDO MUHAMMAD KHAN DISTRICTTHATTA DISTRICTTHATTA DISTRICTTHATTA DISTRICTTHATTA DISTRICTKARACHI CENTRAL DISTRICTKARACHI CENTRAL DISTRICTKARACHI CENTRAL DISTRICTKARACHI CENTRAL DISTRICTKARACHI CENTRAL DISTRICTKARACHI EAST DISTRICTKARACHI EAST DISTRICTKARACHI EAST DISTRICTKARACHI EAST DISTRICTKARACHI SOUTH DISTRICTKARACHI SOUTH DISTRICTKARACHI SOUTH DISTRICTKARACHI SOUTH DISTRICTKARACHI SOUTH DISTRICTKARACHI WEST DISTRICTKARACHI WEST DISTRICTKARACHI WEST DISTRICTKARACHI WEST DISTRICTKARACHI WEST DISTRICTKARACHI WEST DISTRICTKARACHI WEST DISTRICTKORANGI DISTRICTKORANGI DISTRICTKORANGI DISTRICTKORANGI DISTRICTMALIR DISTRICTMALIR DISTRICTMALIR DISTRICTMALIR DISTRICTMALIR DISTRICTJACOBABAD DISTRICTJACOBABAD DISTRICTJACOBABAD DISTRICTKAMBAR SHAHDAD KOT DISTRICTKAMBAR SHAHDAD KOT DISTRICTKAMBAR SHAHDAD KOT DISTRICTKAMBAR SHAHDAD KOT DISTRICTKAMBAR SHAHDAD KOT DISTRICTKAMBAR SHAHDAD KOT DISTRICTKAMBAR SHAHDAD KOT DISTRICTKASHMORE DISTRICTKASHMORE DISTRICTKASHMORE DISTRICTLARKANA DISTRICTLARKANA DISTRICTLARKANA DISTRICTLARKANA DISTRICTSHIKARPUR DISTRICTSHIKARPUR DISTRICTSHIKARPUR DISTRICTSHIKARPUR DISTRICTMIRPUR KHAS DISTRICTMIRPUR KHAS DISTRICTMIRPUR KHAS DISTRICTMIRPUR KHAS DISTRICTMIRPUR KHAS DISTRICTMIRPUR KHAS DISTRICTMIRPUR KHAS DISTRICTTHARPARKAR DISTRICTTHARPARKAR DISTRICTTHARPARKAR DISTRICTTHARPARKAR DISTRICTTHARPARKAR DISTRICTTHARPARKAR DISTRICTTHARPARKAR DISTRICTUMER KOT DISTRICTUMER KOT DISTRICTUMER KOT DISTRICTUMER KOT DISTRICTNAUSHAHRO FEROZE DISTRICTNAUSHAHRO FEROZE DISTRICTNAUSHAHRO FEROZE DISTRICTNAUSHAHRO FEROZE DISTRICTNAUSHAHRO FEROZE DISTRICTSANGHAR DISTRICTSANGHAR DISTRICTSANGHAR DISTRICTSANGHAR DISTRICTSANGHAR DISTRICTSANGHAR DISTRICTSHAHEED BENAZIRABAD DISTRICTSHAHEED BENAZIRABAD DISTRICTSHAHEED BENAZIRABAD DISTRICTSHAHEED BENAZIRABAD DISTRICTGHOTKI DISTRICTGHOTKI DISTRICTGHOTKI DISTRICTGHOTKI DISTRICTGHOTKI DISTRICTKHAIRPUR DISTRICTKHAIRPUR DISTRICTKHAIRPUR DISTRICTKHAIRPUR DISTRICTKHAIRPUR DISTRICTKHAIRPUR DISTRICTKHAIRPUR DISTRICTKHAIRPUR DISTRICTSUKKUR DISTRICTSUKKUR DISTRICTSUKKUR DISTRICTSUKKUR DISTRICTSUKKUR DISTRICTAWARAN DISTRICTAWARAN DISTRICTAWARAN DISTRICTAWARAN DISTRICTKALAT DISTRICTKALAT DISTRICTKALAT DISTRICTKALAT DISTRICTKALAT DISTRICTKHARAN DISTRICTKHARAN DISTRICTKHARAN DISTRICTKHUZDAR DISTRICTKHUZDAR DISTRICTKHUZDAR DISTRICTKHUZDAR DISTRICTKHUZDAR DISTRICTKHUZDAR DISTRICTKHUZDAR DISTRICTKHUZDAR DISTRICTKHUZDAR DISTRICTLASBELA DISTRICTLASBELA DISTRICTLASBELA DISTRICTLASBELA DISTRICTLASBELA DISTRICTLASBELA DISTRICTLASBELA DISTRICTLASBELA DISTRICTMASTUNG DISTRICTMASTUNG DISTRICTMASTUNG DISTRICTMASTUNG DISTRICTWASHUK DISTRICTWASHUK DISTRICTWASHUK DISTRICTWASHUK DISTRICTWASHUK DISTRICTGWADAR DISTRICTGWADAR DISTRICTGWADAR DISTRICTGWADAR DISTRICTGWADAR DISTRICTKECH DISTRICTKECH DISTRICTKECH DISTRICTKECH DISTRICTKECH DISTRICTKECH DISTRICTKECH DISTRICTKECH DISTRICTPANJGUR DISTRICTPANJGUR DISTRICTPANJGUR DISTRICTPANJGUR DISTRICTJAFFARABAD DISTRICTJAFFARABAD DISTRICTJAFFARABAD DISTRICTJHAL MAGSI DISTRICTJHAL MAGSI DISTRICTJHAL MAGSI DISTRICTKACHHI DISTRICTKACHHI DISTRICTKACHHI DISTRICTKACHHI DISTRICTKACHHI DISTRICTKACHHI DISTRICTNASIRABAD DISTRICTNASIRABAD DISTRICTNASIRABAD DISTRICTNASIRABAD DISTRICTSOHBATPUR DISTRICTSOHBATPUR DISTRICTSOHBATPUR DISTRICTCHAGAI DISTRICTCHAGAI DISTRICTCHAGAI DISTRICTCHAGAI DISTRICTKILLA ABDULLAH DISTRICTKILLA ABDULLAH DISTRICTKILLA ABDULLAH DISTRICTKILLA ABDULLAH DISTRICTNUSHKI DISTRICTPISHIN DISTRICTPISHIN DISTRICTPISHIN DISTRICTPISHIN DISTRICTPISHIN DISTRICTQUETTA DISTRICTQUETTA DISTRICTQUETTA DISTRICTDERA BUGTI DISTRICTDERA BUGTI DISTRICTDERA BUGTI DISTRICTDERA BUGTI DISTRICTDERA BUGTI DISTRICTDERA BUGTI DISTRICTDERA BUGTI DISTRICTDERA BUGTI DISTRICTHARNAI DISTRICTHARNAI DISTRICTHARNAI DISTRICTKOHLU DISTRICTKOHLU DISTRICTKOHLU DISTRICTKOHLU DISTRICTSIBI DISTRICTSIBI DISTRICTSIBI DISTRICTSIBI DISTRICTZIARAT DISTRICTZIARAT DISTRICTBARKHAN DISTRICTKILLA SAIFULLAH DISTRICTKILLA SAIFULLAH DISTRICTKILLA SAIFULLAH DISTRICTKILLA SAIFULLAH DISTRICTKILLA SAIFULLAH DISTRICTKILLA SAIFULLAH DISTRICTLORALAI DISTRICTLORALAI DISTRICTLORALAI DISTRICTMUSAKHEL DISTRICTMUSAKHEL DISTRICTMUSAKHEL DISTRICTSHERANI DISTRICTZHOB DISTRICTZHOB DISTRICTZHOB DISTRICTZHOB DISTRICTZHOB DISTRICTBANNU DISTRICTBANNU DISTRICTLAKKI MARWAT DISTRICTLAKKI MARWAT DISTRICTDERA ISMAIL KHAN DISTRICTDERA ISMAIL KHAN DISTRICTDERA ISMAIL KHAN DISTRICTDERA ISMAIL KHAN DISTRICTDERA ISMAIL KHAN DISTRICTTANK DISTRICTABBOTTABAD DISTRICTABBOTTABAD DISTRICTABBOTTABAD DISTRICTABBOTTABAD DISTRICTHARIPUR DISTRICTHARIPUR DISTRICTMANSEHRA DISTRICTMANSEHRA DISTRICTMANSEHRA DISTRICTTORGHAR DISTRICTTORGHAR DISTRICTKOHISTAN DISTRICTKOHISTAN DISTRICTKOHISTAN DISTRICTKOHISTAN DISTRICTHANGU DISTRICTHANGU DISTRICTKOHAT DISTRICTKOHAT DISTRICTKARAK DISTRICTKARAK DISTRICTKARAK DISTRICTMARDAN DISTRICTMARDAN DISTRICTMARDAN DISTRICTSWABI DISTRICTSWABI DISTRICTSWABI DISTRICTSWABI DISTRICTCHARSADDA DISTRICTCHARSADDA DISTRICTCHARSADDA DISTRICTNOWSHERA DISTRICTNOWSHERA DISTRICTPESHAWAR DISTRICTBUNER DISTRICTBUNER DISTRICTBUNER DISTRICTBUNER DISTRICTCHITRAL DISTRICTCHITRAL DISTRICTSHANGLA DISTRICTSHANGLA DISTRICTSHANGLA DISTRICTSWAT DISTRICTSWAT DISTRICTSWAT DISTRICTSWAT DISTRICTSWAT DISTRICTSWAT DISTRICTSWAT DISTRICTLOWER DIR DISTRICTLOWER DIR DISTRICTLOWER DIR DISTRICTLOWER DIR DISTRICTUPPER DIR DISTRICTUPPER DIR DISTRICTUPPER DIR DISTRICTUPPER DIR DISTRICTUPPER DIR DISTRICTUPPER DIR DISTRICTBAJAUR DISTRICTBAJAUR DISTRICTBAJAUR DISTRICTBAJAUR DISTRICTBAJAUR DISTRICTBAJAUR DISTRICTBAJAUR DISTRICTFR BANNU DISTRICTFR D.I.KHAN DISTRICTFR KOHAT DISTRICTFR LAKKI MARWAT DISTRICTFR PESHAWAR DISTRICTKHYBER DISTRICTKHYBER DISTRICTKHYBER DISTRICTKHYBER DISTRICTKURRAM DISTRICTKURRAM DISTRICTMOHMAND DISTRICTMOHMAND DISTRICTMOHMAND DISTRICTMOHMAND DISTRICTMOHMAND DISTRICTMOHMAND DISTRICTMOHMAND DISTRICTNORTH WAZIRISTAN DISTRICTNORTH WAZIRISTAN DISTRICTNORTH WAZIRISTAN DISTRICTNORTH WAZIRISTAN DISTRICTNORTH WAZIRISTAN DISTRICTNORTH WAZIRISTAN DISTRICTNORTH WAZIRISTAN DISTRICTNORTH WAZIRISTAN DISTRICTNORTH WAZIRISTAN DISTRICTORAKZAI DISTRICTORAKZAI DISTRICTORAKZAI DISTRICTORAKZAI DISTRICTSOUTH WAZIRISTAN DISTRICTSOUTH WAZIRISTAN DISTRICTSOUTH WAZIRISTAN DISTRICTSOUTH WAZIRISTAN DISTRICTSOUTH WAZIRISTAN DISTRICTSOUTH WAZIRISTAN DISTRICTSOUTH WAZIRISTAN DISTRICTSOUTH WAZIRISTAN DISTRICT"
        ],
        [
         "SUB DIVISION",
         "BAHAWALNAGAR TEHSILCHISHTIAN TEHSILFORT ABBAS TEHSILHAROONABAD TEHSILMINCHINABAD TEHSILAHMADPUR EAST TEHSILBAHAWALPUR CITY TEHSILBAHAWALPUR SADDAR TEHSILHASILPUR TEHSILKHAIRPUR TAMEWALI TEHSILYAZMAN TEHSILKHANPUR TEHSILLIAQUATPUR TEHSILRAHIM YAR KHAN TEHSILSADIQABAD TEHSILDE-EXCLUDED AREA D.G KHANDERA GHAZI KHAN TEHSILKOT CHHUTTA TEHSILTAUNSA TEHSILCHOUBARA TEHSILLAYYAH TEHSILALIPUR TEHSILJATOI TEHSILKOT ADDU TEHSILMUZAFFARGARH TEHSILDE-EXCLUDED AREA RAJANPURJAMPUR TEHSILRAJANPUR TEHSILROJHAN TEHSILBHAWANA TEHSILCHINIOT TEHSILLALIAN TEHSILCHAK JHUMRA TEHSILFAISALABAD CITY TEHSILFAISALABAD SADAR TEHSILJARANWALA TEHSILSAMMUNDRI TEHSILTANDLIAN WALA TEHSIL18-HAZARI TEHSILAHMADPUR SIAL TEHSILJHANG TEHSILSHORKOT TEHSILGOJRA TEHSILKAMALIA TEHSILPIRMAHAL TEHSILTOBA TEK SINGH TEHSILGUJRANWALA CITY TEHSILGUJRANWALA SADDAR TEHSILKAMOKE TEHSILNOWSHERA VIRKAN TEHSILWAZIRABAD TEHSILGUJRAT TEHSILKHARIAN TEHSILSARAI ALAMGIR TEHSILHAFIZABAD TEHSILPINDI BHATTIAN TEHSILMALAKWAL TEHSILMANDI BAHAUDDIN TEHSILPHALIA TEHSILNAROWAL TEHSILSHAKARGARH TEHSILZAFARWAL TEHSILDASKA TEHSILPASRUR TEHSILSAMBRIAL TEHSILSIALKOT TEHSILCHUNIAN TEHSILKASUR TEHSILKOT RADHA KISHAN TEHSILPATTOKI TEHSILLAHORE CANTT TEHSILLAHORE CITY TEHSILMODEL TOWN TEHSILRAIWIND TEHSILSHALIMAR TEHSILNANKANA SAHIB TEHSILSANGLA HILL TEHSILSHAH KOT TEHSILFEROZEWALA TEHSILMURIDKE TEHSILSAFDARABAD TEHSILSHARAK PUR TEHSILSHEIKHUPURA TEHSILJAHANIAN TEHSILKABIRWALA TEHSILKHANEWAL TEHSILMIAN CHANNU TEHSILDUNYAPUR TEHSILKAHROR PACCA TEHSILLODHRAN TEHSILJALALPUR PIRWALA TEHSILMULTAN CITY TEHSILMULTAN SADDAR TEHSILSHUJABAD TEHSILBUREWALA TEHSILMAILSI TEHSILVEHARI TEHSILATTOCK TEHSILFATEH JANG TEHSILHASAN ABDAL TEHSILHAZRO TEHSILJAND TEHSILPINDI GHEB TEHSILCHAKWAL TEHSILCHOA SAIDAN SHAH TEHSILKALLAR KAHAR TEHSILLAWA TEHSILTALA GANG TEHSILDINA TEHSILJHELUM TEHSILPIND DADAN KHAN TEHSILSOHAWA TEHSILGUJAR KHAN TEHSILKAHUTA TEHSILKALLAR SAYADDAN TEHSILKOTLI SATTIAN TEHSILMURREE TEHSILRAWALPINDI TEHSILTAXILA TEHSILDEPALPUR TEHSILOKARA TEHSILRENALA KHURD TEHSILARIF WALA TEHSILPAKPATTAN TEHSILCHICHAWATNI TEHSILSAHIWAL TEHSILBHAKKAR TEHSILDARYA KHAN TEHSILKALUR KOT TEHSILMANKERA TEHSILKHUSHAB TEHSILNOORPUR TEHSILNOWSHERA TEHSILQUAIDABAD TEHSILISAKHEL TEHSILMIANWALI TEHSILPIPLAN TEHSILBHALWAL TEHSILBHERA TEHSILKOT MOMIN TEHSILSARGODHA TEHSILSHAHPUR TEHSILSILLANWALI TEHSILBADIN TALUKAGOLARCHI (S.F.RAHU) TALUKAMATLI TALUKATALHAR TALUKATANDO BAGO TALUKADADU TALUKAJOHI TALUKAKHAIRPUR NATHAN SHAH TALUKAMEHAR TALUKAHYDERABAD CITY TALUKAHYDERABAD TALUKALATIFABAD TALUKAQASIMABAD TALUKAKOTRI TALUKAMANJHAND TALUKASEHWAN TALUKATHANO BULA KHAN TALUKAHALA TALUKAMATIARI TALUKASAEEDABAD TALUKAJATI TALUKAMIRPUR BATHORO TALUKASHAH BUNDER TALUKASUJAWAL TALUKACHAMBER TALUKAJHANDO MARI TALUKATANDO ALLAHYAR TALUKABULRI SHAH KARIM TALUKATANDO GHULAM HYDER TALUKATANDO MUHAMMAD KHAN TALUKAGHORABARI TALUKAKETI BUNDER TALUKAMIRPUR SAKRO TALUKATHATTA TALUKAGULBERG TEHSILLIAQUATABAD TEHSILNAZIMABAD TEHSILNEW KARACHI TEHSILNORTH NAZIMABAD TEHSILFEROZABAD TEHSILGULSHAN-E-IQBAL TEHSILGULZAR-E-HIJRI TEHSILJAMSHED QUARTERS TEHSILARAM BAGH TEHSILCIVIL LINES TEHSILGARDEN TEHSILLYARI TEHSILSADDAR TEHSILBALDIA TEHSILHARBOUR TEHSILMANGHOPIR TEHSILMAURIPUR TEHSILMOMINABAD TEHSILORANGI TEHSILSITE TEHSILKORANGI TEHSILLANDHI TEHSILMODEL COLONY TEHSILSHAH FAISAL TEHSILAIRPORT TEHSILBIN QASIM TEHSILGADAP TEHSILIBRAHIM HYDRI TEHSILMURAD MEMON TEHSILSHAH MUREED TEHSILGARHI KHAIRO TALUKAJACOBABAD TALUKATHUL TALUKAKAMBAR ALI KHAN TALUKAMIRO KHAN TALUKANASIRABAD TALUKAQUBO SAEED KHAN TALUKASHAHDAD KOT TALUKASUJAWAL JUNEJO TALUKAWARAH TALUKAKANDHKOT TALUKAKASHMORE TALUKATANGWANI TALUKABAKRANI TALUKADOKRI TALUKALARKANA TALUKARATODERO TALUKAGARHI YASIN TALUKAKHANPUR TALUKALAKHI TALUKASHIKARPUR TALUKADIGRI TALUKAHUSSAIN BUX MARI TALUKAJHUDO TALUKAKOT GHULAM MUHAMMAD TALUKAMIRPUR KHAS TALUKASHUJAABAD TALUKASINDHRI TALUKACHACHRO TALUKADAHLI TALUKADIPLO TALUKAISLAMKOT TALUKAKALOI TALUKAMITHI TALUKANAGAR PARKAR TALUKAKUNRI TALUKAPITHORO TALUKASAMARO TALUKAUMER KOT TALUKABHIRIA TALUKAKANDIARO TALUKAMEHRABPUR TALUKAMORO TALUKANAUSHAHRO FEROZE TALUKAJAM NAWAZ ALI TALUKAKHIPRO TALUKASANGHAR TALUKASHAHDADPUR TALUKASINJHORO TALUKATANDO ADAM TALUKADAUR TALUKAKAZI AHMED TALUKANAWABSHAH TALUKASAKRAND TALUKADAHARKI TALUKAGHOTKI TALUKAKHANGARH TALUKAMIRPUR MATHELO TALUKAUBAURO TALUKAFAIZ GANJ TALUKAGAMBAT TALUKAKHAIRPUR TALUKAKINGRI TALUKAKOT DIJI TALUKAMIRWAH TALUKANARA TALUKASOBHO DERO TALUKANEW SUKKUR TALUKAPANO AQIL TALUKAROHRI TALUKASALEHPAT TALUKASUKKUR CITY TALUKAAWARAN TEHSILGISHKORE SUB-TEHSILJHAL JAO SUB-TEHSILMASHKAI TEHSILGAZG SUB-TEHSILJOHAN SUB-TEHSILKALAT TEHSILMANGOCHAR TEHSILSURAB TEHSILKHARAN TEHSILSAR KHARAN TEHSILSUB TEHSIL TOHMULKARANJI SUB-TEHSILKARAKH SUB-TEHSILKHUZDAR TEHSILMOOLA SUB-TEHSILNAL SUB-TEHSILORNACH SUB-TEHSIlSAROONA SUB-TEHSILWADH TEHSILZEHRI TEHSILBELA TEHSILDUREJI TEHSILGADDANI TEHSILHUB TEHSILLAKHRA TEHSILLIARI TEHSILSONMIANI/WINDER TEHSILUTHAL TEHSILDASHT TEHSILKHAD KOCHA SUB-TEHSILKIRDGAP SUB-TEHSILMASTUNG TEHSILBESIMA SUB-TEHSILMASHKHEL SUB-TEHSILNAG SUB-TEHSILSHAHGORI SUB-TEHSILWASHUK SUB-TEHSILGWADAR TEHSILJIWANI TEHSILORMARA TEHSILPASNI TEHSILSUNTSER SUB-TEHSILBALNIGORE SUB-TEHSILBULAIDA SUB-TEHSILDASHT SUB-TEHSILHOSHAB SUB-TEHSILKECH (TURBAT) TEHSILMAND SUB-TEHSILTUMP SUB-TEHSILZAMORAN SUB-TEHSILGICHK SUB-TEHSILGOWARGO TEHSILPANJGUR TEHSILPAROME TEHSILGANDHAKA TEHSILJHAT PAT TEHSILUSTA MUHAMMAD TEHSILGANDAWA TEHSILJHAL MAGSI TEHSILMIRPUR SUB-TEHSILBALANARI SUB-TEHSILBHAG TEHSILDHADAR TEHSILKHATTAN SUB-TEHSILMACH SUB-TEHSILSANNI SUB-TEHSILBABA KOT TEHSILCHATTAR SUB-TEHSILDERA MURAD JAMALI TEHSILTAMBOO TEHSILFARIDABAD TEHSILSANHRI TEHSILSOHBATPUR TEHSILCHAGAI SUB-TEHSILDALBANDIN TEHSILNOKUNDI SUB-TEHSILTAFTAN SUB-TEHSILCHAMAN TEHSILDOBANDI SUB-TEHSILGULISTAN TEHSILKILLA ABDULLAH TEHSILNUSHKI TEHSILBARSHORE SUB-TEHSILHURRAM ZAI SUB-TEHSILKAREZAT SUB-TEHSILPISHIN TEHSILSARANAN TEHSILPANJ PAI SUB-TEHSILQUETTA CITY TEHSILQUETTA SADDAR TEHSILBAIKER SUB-TEHSILDERA BUGTI TEHSILLOTI TEHSILMALAM SUB-TEHSILPHELAWAGH TEHSILPIR KOH SUB-TEHSILSANGSILLAH SUB-TEHSILSUI TEHSILHARNAI TEHSILKHOAST SUB-TEHSILSHAHRIG TEHSILGRISANI SUB-TEHSILKAHAN TEHSILKOHLU TEHSILMAWAND TEHSILKOT MANDAI SUB-TEHSILLEHRI TEHSILSANGAN SUB-TEHSILSIBI TEHSILSINJAWI SUB-TEHSILZIARAT TEHSILBARKHAN TEHSILBADINI SUB-TEHSILKAN MEHTARZAI SUB-TEHSILKILLA SAIFULLAH TEHSILLOIBAND TEHSILMUSLIM BAGH TEHSILSHINKI SUB-TEHSILDUKI TEHSILLORALAI\\BORI TEHSILMEKHTAR SUB-TEHSILDRUG TEHSILKINGRI TEHSILMUSAKHEL TEHSILSHERANI TEHSILASHWAT SUB-TEHSILKASHATOO SUB-TEHSILQAMAR DIN KAREZ TEHSILSAMBAZA SUB-TEHSILZHOB TEHSILBANNU TEHSILDOMEL TEHSILLAKKI MARWAT TEHSILSARAI NAURANG TEHSILDARABAN TEHSILDERA ISMAIL KHAN TEHSILKULACHI TEHSILPAHARPUR TEHSILPAROA TEHSILTANK TEHSILABBOTTABAD TEHSILHAVELIAN TEHSILALLAI TEHSILBATAGRAM TEHSILGHAZI TEHSILHARIPUR TEHSILBALA KOT TEHSILMANSEHRA TEHSILOGHI TEHSILJUDBA TEHSILKHANDER TEHSILDASSU TEHSILKANDIA TEHSILPALAS TEHSILPATTAN TEHSILHANGU TEHSILTALL TEHSILKOHAT TEHSILLACHI TEHSILBANDA DAUD SHAH TEHSILKARAK TEHSILTAKHT-E-NASRATI TEHSILKATLANG TEHSILMARDAN TEHSILTAKHT BHAI TEHSILLAHOR TEHSILRAZAR TEHSILSWABI TEHSILTOPI TEHSILCHARSADDA TEHSILSHABQADAR TEHSILTANGI TEHSILJEHANGIRA TEHSILPABBI TEHSILPESHAWAR TEHSILDAGGAR TEHSILGAGRA TEHSILKHADO KHEL TEHSILMANDANR TEHSILCHITRAL TEHSILMASTUJ TEHSILALPURI TEHSILBISHAM TEHSILPURAN TEHSILBABUZAI TEHSILBARIKOT TEHSILBEHRAIN TEHSILCHARBAGH TEHSILKABAL TEHSILKHAWAZAKHELA TEHSILMATTA TEHSILADENZAI TEHSILLAL QILA TEHSILSAMARBAGH TEHSILTEMERGARA TEHSILDIR TEHSILSHARINGAL TEHSILWARI TEHSILMALAKAND PROTECTED AREASAM RANI ZAI TEHSILSWAT RANI ZAI TEHSILBAR CHAMER KAND TEHSILBARANG TEHSILKHAR BAJAUR TEHSILMAMUND TEHSILNAWAGAI TEHSILSALARZAI TEHSILUTMAN KHEL TEHSILFR BANNUFR D.I.KHANFR KOHATFR LAKKI MARWATFR PESHAWARBARA TEHSILJAMRUD TEHSILLANDI KOTAL TEHSILMULLA GORI TEHSILLOWER KURRAM TEHSILUPPER KURRAM TEHSILAMBAR UTMAN KHEL TEHSILHALIM ZAI TEHSILPINDIALI TEHSILPRANG GHAR TEHSILSAFI TEHSILUPPER MOHMAND TEHSILYAKE GHUND TEHSILDATTA KHEL TEHSILDOSSALI TEHSILGHARYUM TEHSILGHULAM KHAN TEHSILMIR ALI TEHSILMIRAN SHAH TEHSILRAZMAK TEHSILSHEWA TEHSILSPINWAM TEHSILCENTRAL TEHSILISMAIL ZAI TEHSILLOWER TEHSILUPPER TEHSILBIRMIL TEHSILLADHA TEHSILMAKIN TEHSILSARAROGHA TEHSILSERWEKAI TEHSILTIARZA TEHSILTOI KHULLA TEHSILWANA TEHSIL"
        ],
        [
         "AREA (sq.km)",
         "787779.1"
        ],
        [
         "ALL SEXES (RURAL)",
         "130034790"
        ],
        [
         "MALE (RURAL)",
         "66145563"
        ],
        [
         "FEMALE (RURAL)",
         "63879631"
        ],
        [
         "TRANSGENDER (RURAL)",
         "9596"
        ],
        [
         "SEX RATIO (RURAL)",
         "52262.82"
        ],
        [
         "AVG HOUSEHOLD SIZE (RURAL)",
         "3314.29"
        ],
        [
         "POPULATION 1998 (RURAL)",
         "88401981"
        ],
        [
         "ANNUAL GROWTH RATE (RURAL)",
         "1649.8899999999999"
        ],
        [
         "ALL SEXES (URBAN)",
         "74375943"
        ],
        [
         "MALE (URBAN)",
         "38461308"
        ],
        [
         "FEMALE (URBAN)",
         "35902873"
        ],
        [
         "TRANSGENDER (URBAN)",
         "11762"
        ],
        [
         "SEX RATIO (URBAN)",
         "39817.15"
        ],
        [
         "AVG HOUSEHOLD SIZE (URBAN)",
         "2326.58"
        ],
        [
         "POPULATION 1998 (URBAN)",
         "42316331"
        ],
        [
         "ANNUAL GROWTH RATE (URBAN)",
         "1014.19"
        ]
       ],
       "shape": {
        "columns": 1,
        "rows": 21
       }
      },
      "text/plain": [
       "PROVINCE                      PUNJABPUNJABPUNJABPUNJABPUNJABPUNJABPUNJABPUNJ...\n",
       "DIVISION                      BAHAWALPUR DIVISIONBAHAWALPUR DIVISIONBAHAWALP...\n",
       "DISTRICT                      BAHAWALNAGAR DISTRICTBAHAWALNAGAR DISTRICTBAHA...\n",
       "SUB DIVISION                  BAHAWALNAGAR TEHSILCHISHTIAN TEHSILFORT ABBAS ...\n",
       "AREA (sq.km)                                                           787779.1\n",
       "ALL SEXES (RURAL)                                                     130034790\n",
       "MALE (RURAL)                                                           66145563\n",
       "FEMALE (RURAL)                                                         63879631\n",
       "TRANSGENDER (RURAL)                                                        9596\n",
       "SEX RATIO (RURAL)                                                      52262.82\n",
       "AVG HOUSEHOLD SIZE (RURAL)                                              3314.29\n",
       "POPULATION 1998 (RURAL)                                                88401981\n",
       "ANNUAL GROWTH RATE (RURAL)                                              1649.89\n",
       "ALL SEXES (URBAN)                                                      74375943\n",
       "MALE (URBAN)                                                           38461308\n",
       "FEMALE (URBAN)                                                         35902873\n",
       "TRANSGENDER (URBAN)                                                       11762\n",
       "SEX RATIO (URBAN)                                                      39817.15\n",
       "AVG HOUSEHOLD SIZE (URBAN)                                              2326.58\n",
       "POPULATION 1998 (URBAN)                                                42316331\n",
       "ANNUAL GROWTH RATE (URBAN)                                              1014.19\n",
       "dtype: object"
      ]
     },
     "execution_count": 19,
     "metadata": {},
     "output_type": "execute_result"
    }
   ],
   "source": [
    "# calculate sum of all columns\n",
    "df.sum()"
   ]
  },
  {
   "cell_type": "code",
   "execution_count": 20,
   "id": "25de8b7a",
   "metadata": {},
   "outputs": [
    {
     "data": {
      "application/vnd.microsoft.datawrangler.viewer.v0+json": {
       "columns": [
        {
         "name": "index",
         "rawType": "object",
         "type": "string"
        },
        {
         "name": "count",
         "rawType": "int64",
         "type": "integer"
        }
       ],
       "ref": "9647f016-fe31-4688-b0ca-2811cb721658",
       "rows": [
        [
         "PROVINCE",
         "1"
        ],
        [
         "DIVISION",
         "1"
        ],
        [
         "DISTRICT",
         "1"
        ],
        [
         "SUB DIVISION",
         "1"
        ],
        [
         "AREA (sq.km)",
         "1"
        ],
        [
         "ALL SEXES (RURAL)",
         "1"
        ],
        [
         "MALE (RURAL)",
         "1"
        ],
        [
         "FEMALE (RURAL)",
         "1"
        ],
        [
         "TRANSGENDER (RURAL)",
         "1"
        ],
        [
         "SEX RATIO (RURAL)",
         "1"
        ],
        [
         "AVG HOUSEHOLD SIZE (RURAL)",
         "1"
        ],
        [
         "POPULATION 1998 (RURAL)",
         "1"
        ],
        [
         "ANNUAL GROWTH RATE (RURAL)",
         "1"
        ],
        [
         "ALL SEXES (URBAN)",
         "1"
        ],
        [
         "MALE (URBAN)",
         "1"
        ],
        [
         "FEMALE (URBAN)",
         "1"
        ],
        [
         "TRANSGENDER (URBAN)",
         "1"
        ],
        [
         "SEX RATIO (URBAN)",
         "1"
        ],
        [
         "AVG HOUSEHOLD SIZE (URBAN)",
         "1"
        ],
        [
         "POPULATION 1998 (URBAN)",
         "1"
        ],
        [
         "ANNUAL GROWTH RATE (URBAN)",
         "1"
        ]
       ],
       "shape": {
        "columns": 1,
        "rows": 21
       }
      },
      "text/plain": [
       "PROVINCE                      1\n",
       "DIVISION                      1\n",
       "DISTRICT                      1\n",
       "SUB DIVISION                  1\n",
       "AREA (sq.km)                  1\n",
       "ALL SEXES (RURAL)             1\n",
       "MALE (RURAL)                  1\n",
       "FEMALE (RURAL)                1\n",
       "TRANSGENDER (RURAL)           1\n",
       "SEX RATIO (RURAL)             1\n",
       "AVG HOUSEHOLD SIZE (RURAL)    1\n",
       "POPULATION 1998 (RURAL)       1\n",
       "ANNUAL GROWTH RATE (RURAL)    1\n",
       "ALL SEXES (URBAN)             1\n",
       "MALE (URBAN)                  1\n",
       "FEMALE (URBAN)                1\n",
       "TRANSGENDER (URBAN)           1\n",
       "SEX RATIO (URBAN)             1\n",
       "AVG HOUSEHOLD SIZE (URBAN)    1\n",
       "POPULATION 1998 (URBAN)       1\n",
       "ANNUAL GROWTH RATE (URBAN)    1\n",
       "Name: count, dtype: int64"
      ]
     },
     "execution_count": 20,
     "metadata": {},
     "output_type": "execute_result"
    }
   ],
   "source": [
    "df.columns.value_counts()"
   ]
  },
  {
   "cell_type": "code",
   "execution_count": 21,
   "id": "bb88fd7b",
   "metadata": {},
   "outputs": [
    {
     "data": {
      "application/vnd.microsoft.datawrangler.viewer.v0+json": {
       "columns": [
        {
         "name": "index",
         "rawType": "object",
         "type": "string"
        },
        {
         "name": "0",
         "rawType": "int64",
         "type": "integer"
        }
       ],
       "ref": "90bee8c4-31f7-4b78-9aca-7e6e65b32532",
       "rows": [
        [
         "PROVINCE",
         "528"
        ],
        [
         "DIVISION",
         "528"
        ],
        [
         "DISTRICT",
         "528"
        ],
        [
         "SUB DIVISION",
         "528"
        ],
        [
         "AREA (sq.km)",
         "528"
        ],
        [
         "ALL SEXES (RURAL)",
         "528"
        ],
        [
         "MALE (RURAL)",
         "528"
        ],
        [
         "FEMALE (RURAL)",
         "528"
        ],
        [
         "TRANSGENDER (RURAL)",
         "528"
        ],
        [
         "SEX RATIO (RURAL)",
         "528"
        ],
        [
         "AVG HOUSEHOLD SIZE (RURAL)",
         "528"
        ],
        [
         "POPULATION 1998 (RURAL)",
         "528"
        ],
        [
         "ANNUAL GROWTH RATE (RURAL)",
         "528"
        ],
        [
         "ALL SEXES (URBAN)",
         "528"
        ],
        [
         "MALE (URBAN)",
         "528"
        ],
        [
         "FEMALE (URBAN)",
         "528"
        ],
        [
         "TRANSGENDER (URBAN)",
         "528"
        ],
        [
         "SEX RATIO (URBAN)",
         "528"
        ],
        [
         "AVG HOUSEHOLD SIZE (URBAN)",
         "528"
        ],
        [
         "POPULATION 1998 (URBAN)",
         "528"
        ],
        [
         "ANNUAL GROWTH RATE (URBAN)",
         "528"
        ]
       ],
       "shape": {
        "columns": 1,
        "rows": 21
       }
      },
      "text/plain": [
       "PROVINCE                      528\n",
       "DIVISION                      528\n",
       "DISTRICT                      528\n",
       "SUB DIVISION                  528\n",
       "AREA (sq.km)                  528\n",
       "ALL SEXES (RURAL)             528\n",
       "MALE (RURAL)                  528\n",
       "FEMALE (RURAL)                528\n",
       "TRANSGENDER (RURAL)           528\n",
       "SEX RATIO (RURAL)             528\n",
       "AVG HOUSEHOLD SIZE (RURAL)    528\n",
       "POPULATION 1998 (RURAL)       528\n",
       "ANNUAL GROWTH RATE (RURAL)    528\n",
       "ALL SEXES (URBAN)             528\n",
       "MALE (URBAN)                  528\n",
       "FEMALE (URBAN)                528\n",
       "TRANSGENDER (URBAN)           528\n",
       "SEX RATIO (URBAN)             528\n",
       "AVG HOUSEHOLD SIZE (URBAN)    528\n",
       "POPULATION 1998 (URBAN)       528\n",
       "ANNUAL GROWTH RATE (URBAN)    528\n",
       "dtype: int64"
      ]
     },
     "execution_count": 21,
     "metadata": {},
     "output_type": "execute_result"
    }
   ],
   "source": [
    "#count number of columns \n",
    "df.count()"
   ]
  },
  {
   "cell_type": "code",
   "execution_count": 22,
   "id": "17f079ec",
   "metadata": {},
   "outputs": [
    {
     "data": {
      "text/plain": [
       "21"
      ]
     },
     "execution_count": 22,
     "metadata": {},
     "output_type": "execute_result"
    }
   ],
   "source": [
    "#total no. columns\n",
    "df.shape[1]"
   ]
  },
  {
   "cell_type": "code",
   "execution_count": 23,
   "id": "120f7627",
   "metadata": {},
   "outputs": [],
   "source": [
    "df.to_excel('population.xlsx', index=False)"
   ]
  },
  {
   "cell_type": "code",
   "execution_count": 24,
   "id": "ee2d3a96",
   "metadata": {},
   "outputs": [
    {
     "data": {
      "text/plain": [
       "Index(['PROVINCE', 'DIVISION', 'DISTRICT', 'SUB DIVISION', 'AREA (sq.km)',\n",
       "       'ALL SEXES (RURAL)', 'MALE (RURAL)', 'FEMALE (RURAL)',\n",
       "       'TRANSGENDER (RURAL)', 'SEX RATIO (RURAL)',\n",
       "       'AVG HOUSEHOLD SIZE (RURAL)', 'POPULATION 1998 (RURAL)',\n",
       "       'ANNUAL GROWTH RATE (RURAL)', 'ALL SEXES (URBAN)', 'MALE (URBAN)',\n",
       "       'FEMALE (URBAN)', 'TRANSGENDER (URBAN)', 'SEX RATIO (URBAN)',\n",
       "       'AVG HOUSEHOLD SIZE (URBAN)', 'POPULATION 1998 (URBAN)',\n",
       "       'ANNUAL GROWTH RATE (URBAN)'],\n",
       "      dtype='object')"
      ]
     },
     "execution_count": 24,
     "metadata": {},
     "output_type": "execute_result"
    }
   ],
   "source": [
    "df.columns"
   ]
  },
  {
   "cell_type": "code",
   "execution_count": 25,
   "id": "97a2c85f",
   "metadata": {},
   "outputs": [
    {
     "data": {
      "text/plain": [
       "(528, 21)"
      ]
     },
     "execution_count": 25,
     "metadata": {},
     "output_type": "execute_result"
    }
   ],
   "source": [
    "df.shape"
   ]
  },
  {
   "cell_type": "code",
   "execution_count": 30,
   "id": "9b725784",
   "metadata": {},
   "outputs": [
    {
     "data": {
      "application/vnd.microsoft.datawrangler.viewer.v0+json": {
       "columns": [
        {
         "name": "index",
         "rawType": "int64",
         "type": "integer"
        },
        {
         "name": "a",
         "rawType": "int64",
         "type": "integer"
        },
        {
         "name": "b",
         "rawType": "int64",
         "type": "integer"
        },
        {
         "name": "C",
         "rawType": "int64",
         "type": "integer"
        }
       ],
       "ref": "a42639a8-6fe2-481d-bb08-b32c6642558b",
       "rows": [
        [
         "0",
         "1",
         "2",
         "3"
        ],
        [
         "1",
         "2",
         "1",
         "3"
        ]
       ],
       "shape": {
        "columns": 3,
        "rows": 2
       }
      },
      "text/html": [
       "<div>\n",
       "<style scoped>\n",
       "    .dataframe tbody tr th:only-of-type {\n",
       "        vertical-align: middle;\n",
       "    }\n",
       "\n",
       "    .dataframe tbody tr th {\n",
       "        vertical-align: top;\n",
       "    }\n",
       "\n",
       "    .dataframe thead th {\n",
       "        text-align: right;\n",
       "    }\n",
       "</style>\n",
       "<table border=\"1\" class=\"dataframe\">\n",
       "  <thead>\n",
       "    <tr style=\"text-align: right;\">\n",
       "      <th></th>\n",
       "      <th>a</th>\n",
       "      <th>b</th>\n",
       "      <th>C</th>\n",
       "    </tr>\n",
       "  </thead>\n",
       "  <tbody>\n",
       "    <tr>\n",
       "      <th>0</th>\n",
       "      <td>1</td>\n",
       "      <td>2</td>\n",
       "      <td>3</td>\n",
       "    </tr>\n",
       "    <tr>\n",
       "      <th>1</th>\n",
       "      <td>2</td>\n",
       "      <td>1</td>\n",
       "      <td>3</td>\n",
       "    </tr>\n",
       "  </tbody>\n",
       "</table>\n",
       "</div>"
      ],
      "text/plain": [
       "   a  b  C\n",
       "0  1  2  3\n",
       "1  2  1  3"
      ]
     },
     "execution_count": 30,
     "metadata": {},
     "output_type": "execute_result"
    }
   ],
   "source": [
    "df2=pd.DataFrame(data=[[1,2,3],[2,1,3]], columns=['a','b','C'])\n",
    "df2"
   ]
  },
  {
   "cell_type": "code",
   "execution_count": 31,
   "id": "c5880d9e",
   "metadata": {},
   "outputs": [
    {
     "data": {
      "application/vnd.microsoft.datawrangler.viewer.v0+json": {
       "columns": [
        {
         "name": "index",
         "rawType": "int64",
         "type": "integer"
        },
        {
         "name": "A",
         "rawType": "int64",
         "type": "integer"
        },
        {
         "name": "B",
         "rawType": "int64",
         "type": "integer"
        }
       ],
       "ref": "fee9120a-cdbe-47a2-a0c7-3ddb675dfba9",
       "rows": [
        [
         "0",
         "1",
         "1"
        ],
        [
         "1",
         "2",
         "4"
        ],
        [
         "2",
         "3",
         "6"
        ],
        [
         "3",
         "4",
         "8"
        ],
        [
         "4",
         "5",
         "9"
        ],
        [
         "5",
         "6",
         "3"
        ],
        [
         "6",
         "7",
         "5"
        ]
       ],
       "shape": {
        "columns": 2,
        "rows": 7
       }
      },
      "text/html": [
       "<div>\n",
       "<style scoped>\n",
       "    .dataframe tbody tr th:only-of-type {\n",
       "        vertical-align: middle;\n",
       "    }\n",
       "\n",
       "    .dataframe tbody tr th {\n",
       "        vertical-align: top;\n",
       "    }\n",
       "\n",
       "    .dataframe thead th {\n",
       "        text-align: right;\n",
       "    }\n",
       "</style>\n",
       "<table border=\"1\" class=\"dataframe\">\n",
       "  <thead>\n",
       "    <tr style=\"text-align: right;\">\n",
       "      <th></th>\n",
       "      <th>A</th>\n",
       "      <th>B</th>\n",
       "    </tr>\n",
       "  </thead>\n",
       "  <tbody>\n",
       "    <tr>\n",
       "      <th>0</th>\n",
       "      <td>1</td>\n",
       "      <td>1</td>\n",
       "    </tr>\n",
       "    <tr>\n",
       "      <th>1</th>\n",
       "      <td>2</td>\n",
       "      <td>4</td>\n",
       "    </tr>\n",
       "    <tr>\n",
       "      <th>2</th>\n",
       "      <td>3</td>\n",
       "      <td>6</td>\n",
       "    </tr>\n",
       "    <tr>\n",
       "      <th>3</th>\n",
       "      <td>4</td>\n",
       "      <td>8</td>\n",
       "    </tr>\n",
       "    <tr>\n",
       "      <th>4</th>\n",
       "      <td>5</td>\n",
       "      <td>9</td>\n",
       "    </tr>\n",
       "    <tr>\n",
       "      <th>5</th>\n",
       "      <td>6</td>\n",
       "      <td>3</td>\n",
       "    </tr>\n",
       "    <tr>\n",
       "      <th>6</th>\n",
       "      <td>7</td>\n",
       "      <td>5</td>\n",
       "    </tr>\n",
       "  </tbody>\n",
       "</table>\n",
       "</div>"
      ],
      "text/plain": [
       "   A  B\n",
       "0  1  1\n",
       "1  2  4\n",
       "2  3  6\n",
       "3  4  8\n",
       "4  5  9\n",
       "5  6  3\n",
       "6  7  5"
      ]
     },
     "execution_count": 31,
     "metadata": {},
     "output_type": "execute_result"
    }
   ],
   "source": [
    "df3 = pd.DataFrame({'A': [1,2,3,4,5,6,7], 'B':[1,4,6,8,9,3,5]})\n",
    "df3"
   ]
  },
  {
   "cell_type": "code",
   "execution_count": null,
   "id": "9033485a",
   "metadata": {},
   "outputs": [
    {
     "data": {
      "application/vnd.microsoft.datawrangler.viewer.v0+json": {
       "columns": [
        {
         "name": "index",
         "rawType": "int64",
         "type": "integer"
        },
        {
         "name": "0",
         "rawType": "int64",
         "type": "integer"
        },
        {
         "name": "1",
         "rawType": "int64",
         "type": "integer"
        },
        {
         "name": "2",
         "rawType": "int64",
         "type": "integer"
        }
       ],
       "ref": "f91c7599-1666-41bd-ac76-f240c8b7646b",
       "rows": [
        [
         "0",
         "1",
         "2",
         "3"
        ],
        [
         "1",
         "3",
         "2",
         "3"
        ],
        [
         "2",
         "9",
         "3",
         "5"
        ]
       ],
       "shape": {
        "columns": 3,
        "rows": 3
       }
      },
      "text/html": [
       "<div>\n",
       "<style scoped>\n",
       "    .dataframe tbody tr th:only-of-type {\n",
       "        vertical-align: middle;\n",
       "    }\n",
       "\n",
       "    .dataframe tbody tr th {\n",
       "        vertical-align: top;\n",
       "    }\n",
       "\n",
       "    .dataframe thead th {\n",
       "        text-align: right;\n",
       "    }\n",
       "</style>\n",
       "<table border=\"1\" class=\"dataframe\">\n",
       "  <thead>\n",
       "    <tr style=\"text-align: right;\">\n",
       "      <th></th>\n",
       "      <th>0</th>\n",
       "      <th>1</th>\n",
       "      <th>2</th>\n",
       "    </tr>\n",
       "  </thead>\n",
       "  <tbody>\n",
       "    <tr>\n",
       "      <th>0</th>\n",
       "      <td>1</td>\n",
       "      <td>2</td>\n",
       "      <td>3</td>\n",
       "    </tr>\n",
       "    <tr>\n",
       "      <th>1</th>\n",
       "      <td>3</td>\n",
       "      <td>2</td>\n",
       "      <td>3</td>\n",
       "    </tr>\n",
       "    <tr>\n",
       "      <th>2</th>\n",
       "      <td>9</td>\n",
       "      <td>3</td>\n",
       "      <td>5</td>\n",
       "    </tr>\n",
       "  </tbody>\n",
       "</table>\n",
       "</div>"
      ],
      "text/plain": [
       "   0  1  2\n",
       "0  1  2  3\n",
       "1  3  2  3\n",
       "2  9  3  5"
      ]
     },
     "execution_count": 32,
     "metadata": {},
     "output_type": "execute_result"
    }
   ],
   "source": [
    "# METHOD 1 numpy array to create data fame\n",
    "import numpy as np\n",
    "arr= np.array([[1,2,3],[3,2,3],[9,3,5]])\n",
    "df4 =pd.DataFrame(arr)\n",
    "df4"
   ]
  },
  {
   "cell_type": "code",
   "execution_count": 40,
   "id": "568bedd7",
   "metadata": {},
   "outputs": [],
   "source": [
    "del list"
   ]
  },
  {
   "cell_type": "code",
   "execution_count": 33,
   "id": "1b93d205",
   "metadata": {},
   "outputs": [
    {
     "data": {
      "application/vnd.microsoft.datawrangler.viewer.v0+json": {
       "columns": [
        {
         "name": "index",
         "rawType": "int64",
         "type": "integer"
        },
        {
         "name": "0",
         "rawType": "float64",
         "type": "float"
        },
        {
         "name": "1",
         "rawType": "float64",
         "type": "float"
        },
        {
         "name": "2",
         "rawType": "float64",
         "type": "float"
        },
        {
         "name": "3",
         "rawType": "float64",
         "type": "float"
        }
       ],
       "ref": "8ee0244f-7ed7-40c6-9c66-3d2eaba2f3c7",
       "rows": [
        [
         "0",
         "0.25659243311018265",
         "0.8206748606131885",
         "0.8666769284860895",
         "0.6476670288337373"
        ],
        [
         "1",
         "0.08117219790794672",
         "0.9041924294490062",
         "0.8569006020752702",
         "0.3078463370943606"
        ],
        [
         "2",
         "0.4102048458911828",
         "0.11324540442788522",
         "0.5900920039894415",
         "0.835030591213688"
        ],
        [
         "3",
         "0.03300665911994671",
         "0.5862273292794471",
         "0.15827673053398583",
         "0.023815634462367452"
        ],
        [
         "4",
         "0.44581604946485787",
         "0.5558400486328126",
         "0.9675109420238786",
         "0.20387526388949007"
        ],
        [
         "5",
         "0.38530539181957624",
         "0.8203776713026981",
         "0.29112942907191885",
         "0.11017264124744464"
        ],
        [
         "6",
         "0.7329709077171926",
         "0.1271485272795455",
         "0.7845313778384584",
         "0.739656115711694"
        ],
        [
         "7",
         "0.7451508729342554",
         "0.9884402365518046",
         "0.37816774463225367",
         "0.7828156307060922"
        ],
        [
         "8",
         "0.02645522188465177",
         "0.19079233075472657",
         "0.18956617699512912",
         "0.1172601964245642"
        ],
        [
         "9",
         "0.506377426739835",
         "0.027176664566123998",
         "0.5431822584099246",
         "0.08839746946618432"
        ],
        [
         "10",
         "0.557336402136026",
         "0.2710933554560555",
         "0.9384005802025355",
         "0.7839787131054501"
        ],
        [
         "11",
         "0.7286015569418842",
         "0.4749091594463116",
         "0.19376461467803363",
         "0.026722301621314948"
        ],
        [
         "12",
         "0.6940108379226706",
         "0.6703569139775594",
         "0.7516318063771895",
         "0.1348804497333027"
        ],
        [
         "13",
         "0.39736189879653416",
         "0.8573710117496003",
         "0.08209352871727149",
         "0.9868790004411483"
        ],
        [
         "14",
         "0.571029296944084",
         "0.29481360054430505",
         "0.16137330021626617",
         "0.5021110635932745"
        ],
        [
         "15",
         "0.47751660386766104",
         "0.31848055793576413",
         "0.038447749119128294",
         "0.23955736579922782"
        ],
        [
         "16",
         "0.529709776161762",
         "0.8829750098725008",
         "0.9160853597048306",
         "0.9173956552643312"
        ],
        [
         "17",
         "0.21451992323827973",
         "0.4025666575916932",
         "0.8845724371642429",
         "0.5712816172555921"
        ],
        [
         "18",
         "0.84891435006758",
         "0.05199376429496205",
         "0.9019355828270117",
         "0.7278362162046066"
        ],
        [
         "19",
         "0.9988265394533656",
         "0.8833466793215385",
         "0.4823915897943303",
         "0.9600475746548748"
        ]
       ],
       "shape": {
        "columns": 4,
        "rows": 20
       }
      },
      "text/html": [
       "<div>\n",
       "<style scoped>\n",
       "    .dataframe tbody tr th:only-of-type {\n",
       "        vertical-align: middle;\n",
       "    }\n",
       "\n",
       "    .dataframe tbody tr th {\n",
       "        vertical-align: top;\n",
       "    }\n",
       "\n",
       "    .dataframe thead th {\n",
       "        text-align: right;\n",
       "    }\n",
       "</style>\n",
       "<table border=\"1\" class=\"dataframe\">\n",
       "  <thead>\n",
       "    <tr style=\"text-align: right;\">\n",
       "      <th></th>\n",
       "      <th>0</th>\n",
       "      <th>1</th>\n",
       "      <th>2</th>\n",
       "      <th>3</th>\n",
       "    </tr>\n",
       "  </thead>\n",
       "  <tbody>\n",
       "    <tr>\n",
       "      <th>0</th>\n",
       "      <td>0.256592</td>\n",
       "      <td>0.820675</td>\n",
       "      <td>0.866677</td>\n",
       "      <td>0.647667</td>\n",
       "    </tr>\n",
       "    <tr>\n",
       "      <th>1</th>\n",
       "      <td>0.081172</td>\n",
       "      <td>0.904192</td>\n",
       "      <td>0.856901</td>\n",
       "      <td>0.307846</td>\n",
       "    </tr>\n",
       "    <tr>\n",
       "      <th>2</th>\n",
       "      <td>0.410205</td>\n",
       "      <td>0.113245</td>\n",
       "      <td>0.590092</td>\n",
       "      <td>0.835031</td>\n",
       "    </tr>\n",
       "    <tr>\n",
       "      <th>3</th>\n",
       "      <td>0.033007</td>\n",
       "      <td>0.586227</td>\n",
       "      <td>0.158277</td>\n",
       "      <td>0.023816</td>\n",
       "    </tr>\n",
       "    <tr>\n",
       "      <th>4</th>\n",
       "      <td>0.445816</td>\n",
       "      <td>0.555840</td>\n",
       "      <td>0.967511</td>\n",
       "      <td>0.203875</td>\n",
       "    </tr>\n",
       "    <tr>\n",
       "      <th>5</th>\n",
       "      <td>0.385305</td>\n",
       "      <td>0.820378</td>\n",
       "      <td>0.291129</td>\n",
       "      <td>0.110173</td>\n",
       "    </tr>\n",
       "    <tr>\n",
       "      <th>6</th>\n",
       "      <td>0.732971</td>\n",
       "      <td>0.127149</td>\n",
       "      <td>0.784531</td>\n",
       "      <td>0.739656</td>\n",
       "    </tr>\n",
       "    <tr>\n",
       "      <th>7</th>\n",
       "      <td>0.745151</td>\n",
       "      <td>0.988440</td>\n",
       "      <td>0.378168</td>\n",
       "      <td>0.782816</td>\n",
       "    </tr>\n",
       "    <tr>\n",
       "      <th>8</th>\n",
       "      <td>0.026455</td>\n",
       "      <td>0.190792</td>\n",
       "      <td>0.189566</td>\n",
       "      <td>0.117260</td>\n",
       "    </tr>\n",
       "    <tr>\n",
       "      <th>9</th>\n",
       "      <td>0.506377</td>\n",
       "      <td>0.027177</td>\n",
       "      <td>0.543182</td>\n",
       "      <td>0.088397</td>\n",
       "    </tr>\n",
       "    <tr>\n",
       "      <th>10</th>\n",
       "      <td>0.557336</td>\n",
       "      <td>0.271093</td>\n",
       "      <td>0.938401</td>\n",
       "      <td>0.783979</td>\n",
       "    </tr>\n",
       "    <tr>\n",
       "      <th>11</th>\n",
       "      <td>0.728602</td>\n",
       "      <td>0.474909</td>\n",
       "      <td>0.193765</td>\n",
       "      <td>0.026722</td>\n",
       "    </tr>\n",
       "    <tr>\n",
       "      <th>12</th>\n",
       "      <td>0.694011</td>\n",
       "      <td>0.670357</td>\n",
       "      <td>0.751632</td>\n",
       "      <td>0.134880</td>\n",
       "    </tr>\n",
       "    <tr>\n",
       "      <th>13</th>\n",
       "      <td>0.397362</td>\n",
       "      <td>0.857371</td>\n",
       "      <td>0.082094</td>\n",
       "      <td>0.986879</td>\n",
       "    </tr>\n",
       "    <tr>\n",
       "      <th>14</th>\n",
       "      <td>0.571029</td>\n",
       "      <td>0.294814</td>\n",
       "      <td>0.161373</td>\n",
       "      <td>0.502111</td>\n",
       "    </tr>\n",
       "    <tr>\n",
       "      <th>15</th>\n",
       "      <td>0.477517</td>\n",
       "      <td>0.318481</td>\n",
       "      <td>0.038448</td>\n",
       "      <td>0.239557</td>\n",
       "    </tr>\n",
       "    <tr>\n",
       "      <th>16</th>\n",
       "      <td>0.529710</td>\n",
       "      <td>0.882975</td>\n",
       "      <td>0.916085</td>\n",
       "      <td>0.917396</td>\n",
       "    </tr>\n",
       "    <tr>\n",
       "      <th>17</th>\n",
       "      <td>0.214520</td>\n",
       "      <td>0.402567</td>\n",
       "      <td>0.884572</td>\n",
       "      <td>0.571282</td>\n",
       "    </tr>\n",
       "    <tr>\n",
       "      <th>18</th>\n",
       "      <td>0.848914</td>\n",
       "      <td>0.051994</td>\n",
       "      <td>0.901936</td>\n",
       "      <td>0.727836</td>\n",
       "    </tr>\n",
       "    <tr>\n",
       "      <th>19</th>\n",
       "      <td>0.998827</td>\n",
       "      <td>0.883347</td>\n",
       "      <td>0.482392</td>\n",
       "      <td>0.960048</td>\n",
       "    </tr>\n",
       "  </tbody>\n",
       "</table>\n",
       "</div>"
      ],
      "text/plain": [
       "           0         1         2         3\n",
       "0   0.256592  0.820675  0.866677  0.647667\n",
       "1   0.081172  0.904192  0.856901  0.307846\n",
       "2   0.410205  0.113245  0.590092  0.835031\n",
       "3   0.033007  0.586227  0.158277  0.023816\n",
       "4   0.445816  0.555840  0.967511  0.203875\n",
       "5   0.385305  0.820378  0.291129  0.110173\n",
       "6   0.732971  0.127149  0.784531  0.739656\n",
       "7   0.745151  0.988440  0.378168  0.782816\n",
       "8   0.026455  0.190792  0.189566  0.117260\n",
       "9   0.506377  0.027177  0.543182  0.088397\n",
       "10  0.557336  0.271093  0.938401  0.783979\n",
       "11  0.728602  0.474909  0.193765  0.026722\n",
       "12  0.694011  0.670357  0.751632  0.134880\n",
       "13  0.397362  0.857371  0.082094  0.986879\n",
       "14  0.571029  0.294814  0.161373  0.502111\n",
       "15  0.477517  0.318481  0.038448  0.239557\n",
       "16  0.529710  0.882975  0.916085  0.917396\n",
       "17  0.214520  0.402567  0.884572  0.571282\n",
       "18  0.848914  0.051994  0.901936  0.727836\n",
       "19  0.998827  0.883347  0.482392  0.960048"
      ]
     },
     "execution_count": 33,
     "metadata": {},
     "output_type": "execute_result"
    }
   ],
   "source": [
    "# 2ND METHOD TO CREATE DATAFRAME USING NUMPY\n",
    "pd.DataFrame(np.random.rand(20,4))"
   ]
  },
  {
   "cell_type": "code",
   "execution_count": 41,
   "id": "c3c6c6ce",
   "metadata": {},
   "outputs": [
    {
     "data": {
      "application/vnd.microsoft.datawrangler.viewer.v0+json": {
       "columns": [
        {
         "name": "index",
         "rawType": "int64",
         "type": "integer"
        },
        {
         "name": "a",
         "rawType": "float64",
         "type": "float"
        },
        {
         "name": "b",
         "rawType": "float64",
         "type": "float"
        },
        {
         "name": "c",
         "rawType": "float64",
         "type": "float"
        },
        {
         "name": "d",
         "rawType": "float64",
         "type": "float"
        }
       ],
       "ref": "2ed9888d-289b-4e9b-9816-49a2d1aefd53",
       "rows": [
        [
         "0",
         "0.3305223708678804",
         "0.5738999875042892",
         "0.9553323705589205",
         "0.15158033857416653"
        ],
        [
         "1",
         "0.6349723937952306",
         "0.3892184739112733",
         "0.29436724152044424",
         "0.8982250328466853"
        ],
        [
         "2",
         "0.3543899601521794",
         "0.9075598390190583",
         "0.21778269628104896",
         "0.0076722704620155735"
        ],
        [
         "3",
         "0.18228781727038523",
         "0.8259101380396497",
         "0.316960523652861",
         "0.6991645188703002"
        ],
        [
         "4",
         "0.3252836264871808",
         "0.7539407203385267",
         "0.9348493534217478",
         "0.47130974590083996"
        ],
        [
         "5",
         "0.9113215159727944",
         "0.9583810466177284",
         "0.04343009607595638",
         "0.5052238779785598"
        ],
        [
         "6",
         "0.0022779102338845725",
         "0.6189478645414551",
         "0.6830536300735245",
         "0.6234508888611968"
        ],
        [
         "7",
         "0.6654398699630623",
         "0.6443602511710552",
         "0.6298726493387184",
         "0.5087285185417428"
        ],
        [
         "8",
         "0.6961024424184739",
         "0.46210018451269375",
         "0.9578369861439637",
         "0.028654544708072827"
        ],
        [
         "9",
         "0.7691410440732904",
         "0.07908284870489268",
         "0.7239910216170027",
         "0.2904230525649898"
        ],
        [
         "10",
         "0.025861501020599253",
         "0.6690841084432323",
         "0.35222292188236437",
         "0.477904801155841"
        ],
        [
         "11",
         "0.8865473852916153",
         "0.39426105144455903",
         "0.6065812322646188",
         "0.8164424874001864"
        ],
        [
         "12",
         "0.6897772150805949",
         "0.516494851287908",
         "0.05349579468934984",
         "0.18382688523162105"
        ],
        [
         "13",
         "0.3400119485922798",
         "0.08490950252883633",
         "0.8302639612208903",
         "0.23424561651159215"
        ],
        [
         "14",
         "0.12930808842444097",
         "0.44715427226143045",
         "0.4419728452344813",
         "0.14322955173223129"
        ],
        [
         "15",
         "0.58499542066673",
         "0.633458034605564",
         "0.8991045451537807",
         "0.5849978189767184"
        ],
        [
         "16",
         "0.4245135323064939",
         "0.5021567438403919",
         "0.3392731112984151",
         "0.20694687842662673"
        ],
        [
         "17",
         "0.9928297147531272",
         "0.15645728474652132",
         "0.7607220404973116",
         "0.7871982016894251"
        ],
        [
         "18",
         "0.5705295059911233",
         "0.22931434381017546",
         "0.3963858457771121",
         "0.9218553955917187"
        ],
        [
         "19",
         "0.304714797824412",
         "0.38185764343029793",
         "0.6370855160936317",
         "0.9146692883903492"
        ]
       ],
       "shape": {
        "columns": 4,
        "rows": 20
       }
      },
      "text/html": [
       "<div>\n",
       "<style scoped>\n",
       "    .dataframe tbody tr th:only-of-type {\n",
       "        vertical-align: middle;\n",
       "    }\n",
       "\n",
       "    .dataframe tbody tr th {\n",
       "        vertical-align: top;\n",
       "    }\n",
       "\n",
       "    .dataframe thead th {\n",
       "        text-align: right;\n",
       "    }\n",
       "</style>\n",
       "<table border=\"1\" class=\"dataframe\">\n",
       "  <thead>\n",
       "    <tr style=\"text-align: right;\">\n",
       "      <th></th>\n",
       "      <th>a</th>\n",
       "      <th>b</th>\n",
       "      <th>c</th>\n",
       "      <th>d</th>\n",
       "    </tr>\n",
       "  </thead>\n",
       "  <tbody>\n",
       "    <tr>\n",
       "      <th>0</th>\n",
       "      <td>0.330522</td>\n",
       "      <td>0.573900</td>\n",
       "      <td>0.955332</td>\n",
       "      <td>0.151580</td>\n",
       "    </tr>\n",
       "    <tr>\n",
       "      <th>1</th>\n",
       "      <td>0.634972</td>\n",
       "      <td>0.389218</td>\n",
       "      <td>0.294367</td>\n",
       "      <td>0.898225</td>\n",
       "    </tr>\n",
       "    <tr>\n",
       "      <th>2</th>\n",
       "      <td>0.354390</td>\n",
       "      <td>0.907560</td>\n",
       "      <td>0.217783</td>\n",
       "      <td>0.007672</td>\n",
       "    </tr>\n",
       "    <tr>\n",
       "      <th>3</th>\n",
       "      <td>0.182288</td>\n",
       "      <td>0.825910</td>\n",
       "      <td>0.316961</td>\n",
       "      <td>0.699165</td>\n",
       "    </tr>\n",
       "    <tr>\n",
       "      <th>4</th>\n",
       "      <td>0.325284</td>\n",
       "      <td>0.753941</td>\n",
       "      <td>0.934849</td>\n",
       "      <td>0.471310</td>\n",
       "    </tr>\n",
       "    <tr>\n",
       "      <th>5</th>\n",
       "      <td>0.911322</td>\n",
       "      <td>0.958381</td>\n",
       "      <td>0.043430</td>\n",
       "      <td>0.505224</td>\n",
       "    </tr>\n",
       "    <tr>\n",
       "      <th>6</th>\n",
       "      <td>0.002278</td>\n",
       "      <td>0.618948</td>\n",
       "      <td>0.683054</td>\n",
       "      <td>0.623451</td>\n",
       "    </tr>\n",
       "    <tr>\n",
       "      <th>7</th>\n",
       "      <td>0.665440</td>\n",
       "      <td>0.644360</td>\n",
       "      <td>0.629873</td>\n",
       "      <td>0.508729</td>\n",
       "    </tr>\n",
       "    <tr>\n",
       "      <th>8</th>\n",
       "      <td>0.696102</td>\n",
       "      <td>0.462100</td>\n",
       "      <td>0.957837</td>\n",
       "      <td>0.028655</td>\n",
       "    </tr>\n",
       "    <tr>\n",
       "      <th>9</th>\n",
       "      <td>0.769141</td>\n",
       "      <td>0.079083</td>\n",
       "      <td>0.723991</td>\n",
       "      <td>0.290423</td>\n",
       "    </tr>\n",
       "    <tr>\n",
       "      <th>10</th>\n",
       "      <td>0.025862</td>\n",
       "      <td>0.669084</td>\n",
       "      <td>0.352223</td>\n",
       "      <td>0.477905</td>\n",
       "    </tr>\n",
       "    <tr>\n",
       "      <th>11</th>\n",
       "      <td>0.886547</td>\n",
       "      <td>0.394261</td>\n",
       "      <td>0.606581</td>\n",
       "      <td>0.816442</td>\n",
       "    </tr>\n",
       "    <tr>\n",
       "      <th>12</th>\n",
       "      <td>0.689777</td>\n",
       "      <td>0.516495</td>\n",
       "      <td>0.053496</td>\n",
       "      <td>0.183827</td>\n",
       "    </tr>\n",
       "    <tr>\n",
       "      <th>13</th>\n",
       "      <td>0.340012</td>\n",
       "      <td>0.084910</td>\n",
       "      <td>0.830264</td>\n",
       "      <td>0.234246</td>\n",
       "    </tr>\n",
       "    <tr>\n",
       "      <th>14</th>\n",
       "      <td>0.129308</td>\n",
       "      <td>0.447154</td>\n",
       "      <td>0.441973</td>\n",
       "      <td>0.143230</td>\n",
       "    </tr>\n",
       "    <tr>\n",
       "      <th>15</th>\n",
       "      <td>0.584995</td>\n",
       "      <td>0.633458</td>\n",
       "      <td>0.899105</td>\n",
       "      <td>0.584998</td>\n",
       "    </tr>\n",
       "    <tr>\n",
       "      <th>16</th>\n",
       "      <td>0.424514</td>\n",
       "      <td>0.502157</td>\n",
       "      <td>0.339273</td>\n",
       "      <td>0.206947</td>\n",
       "    </tr>\n",
       "    <tr>\n",
       "      <th>17</th>\n",
       "      <td>0.992830</td>\n",
       "      <td>0.156457</td>\n",
       "      <td>0.760722</td>\n",
       "      <td>0.787198</td>\n",
       "    </tr>\n",
       "    <tr>\n",
       "      <th>18</th>\n",
       "      <td>0.570530</td>\n",
       "      <td>0.229314</td>\n",
       "      <td>0.396386</td>\n",
       "      <td>0.921855</td>\n",
       "    </tr>\n",
       "    <tr>\n",
       "      <th>19</th>\n",
       "      <td>0.304715</td>\n",
       "      <td>0.381858</td>\n",
       "      <td>0.637086</td>\n",
       "      <td>0.914669</td>\n",
       "    </tr>\n",
       "  </tbody>\n",
       "</table>\n",
       "</div>"
      ],
      "text/plain": [
       "           a         b         c         d\n",
       "0   0.330522  0.573900  0.955332  0.151580\n",
       "1   0.634972  0.389218  0.294367  0.898225\n",
       "2   0.354390  0.907560  0.217783  0.007672\n",
       "3   0.182288  0.825910  0.316961  0.699165\n",
       "4   0.325284  0.753941  0.934849  0.471310\n",
       "5   0.911322  0.958381  0.043430  0.505224\n",
       "6   0.002278  0.618948  0.683054  0.623451\n",
       "7   0.665440  0.644360  0.629873  0.508729\n",
       "8   0.696102  0.462100  0.957837  0.028655\n",
       "9   0.769141  0.079083  0.723991  0.290423\n",
       "10  0.025862  0.669084  0.352223  0.477905\n",
       "11  0.886547  0.394261  0.606581  0.816442\n",
       "12  0.689777  0.516495  0.053496  0.183827\n",
       "13  0.340012  0.084910  0.830264  0.234246\n",
       "14  0.129308  0.447154  0.441973  0.143230\n",
       "15  0.584995  0.633458  0.899105  0.584998\n",
       "16  0.424514  0.502157  0.339273  0.206947\n",
       "17  0.992830  0.156457  0.760722  0.787198\n",
       "18  0.570530  0.229314  0.396386  0.921855\n",
       "19  0.304715  0.381858  0.637086  0.914669"
      ]
     },
     "execution_count": 41,
     "metadata": {},
     "output_type": "execute_result"
    }
   ],
   "source": [
    "pd.DataFrame(np.random.rand(20,4), columns = list('abcd'))"
   ]
  },
  {
   "cell_type": "code",
   "execution_count": 43,
   "id": "e969310e",
   "metadata": {},
   "outputs": [
    {
     "data": {
      "application/vnd.microsoft.datawrangler.viewer.v0+json": {
       "columns": [
        {
         "name": "index",
         "rawType": "int64",
         "type": "integer"
        },
        {
         "name": "a",
         "rawType": "float64",
         "type": "float"
        },
        {
         "name": "b",
         "rawType": "float64",
         "type": "float"
        },
        {
         "name": "c",
         "rawType": "float64",
         "type": "float"
        },
        {
         "name": "d",
         "rawType": "float64",
         "type": "float"
        }
       ],
       "ref": "df26639c-2b56-41d1-9029-18bb40b1acd1",
       "rows": [
        [
         "0",
         "0.802199498947628",
         "0.12497407360274126",
         "0.7525479938166574",
         "0.30001696047645976"
        ],
        [
         "1",
         "0.9599743365413654",
         "0.8675805281433918",
         "0.23336094055917",
         "0.40574010931945503"
        ],
        [
         "2",
         "0.4507385296138402",
         "0.07458090655855565",
         "0.3530261623582356",
         "0.10920140256818156"
        ],
        [
         "3",
         "0.4725948711995952",
         "0.7764076781203011",
         "0.762812034160274",
         "0.5954405662200875"
        ],
        [
         "4",
         "0.9713212913801144",
         "0.4901344768999628",
         "0.5495751495183359",
         "0.07908815193551477"
        ],
        [
         "5",
         "0.4591185427783775",
         "0.03171760669975776",
         "0.009593232236263405",
         "0.6314947343732562"
        ],
        [
         "6",
         "0.28912488994569463",
         "0.7753765379309483",
         "0.21786560642713393",
         "0.5624427339519574"
        ],
        [
         "7",
         "0.15754848967556778",
         "0.32792987515393013",
         "0.92222298658568",
         "0.5118576979036482"
        ],
        [
         "8",
         "0.9347371758254395",
         "0.004528573888929466",
         "0.3654740470447453",
         "0.7103233419846633"
        ],
        [
         "9",
         "0.019792800762098217",
         "0.9483600436263219",
         "0.17837962230568716",
         "0.4300214868497183"
        ],
        [
         "10",
         "0.45550646458042254",
         "0.9750666715029556",
         "0.33207560632538713",
         "0.7798803249360098"
        ],
        [
         "11",
         "0.0406529463235179",
         "0.8087773940949181",
         "0.6086803610428536",
         "0.4256523498451904"
        ],
        [
         "12",
         "0.6111198049017955",
         "0.4840319066860993",
         "0.017149711161517533",
         "0.6412784066558556"
        ],
        [
         "13",
         "0.36680037294235235",
         "0.5711151218045608",
         "0.12165777659544386",
         "0.20465312806077207"
        ],
        [
         "14",
         "0.9795875140270468",
         "0.5957094379785702",
         "0.9721721285800473",
         "0.8480559322385902"
        ],
        [
         "15",
         "0.5388535003035023",
         "0.9393799402101842",
         "0.5400429969369336",
         "0.6910454365030972"
        ],
        [
         "16",
         "0.19268606470866245",
         "0.8939946276311709",
         "0.4589251553347571",
         "0.40261323232612445"
        ],
        [
         "17",
         "0.22921365873772015",
         "0.5808110677332733",
         "0.693374686810089",
         "0.7862030083292474"
        ],
        [
         "18",
         "0.0777624747236545",
         "0.3724773286539833",
         "0.6021566816298577",
         "0.7956608490174099"
        ],
        [
         "19",
         "0.7091176140764149",
         "0.33087871854591033",
         "0.435298758514181",
         "0.7530519956258173"
        ]
       ],
       "shape": {
        "columns": 4,
        "rows": 20
       }
      },
      "text/html": [
       "<div>\n",
       "<style scoped>\n",
       "    .dataframe tbody tr th:only-of-type {\n",
       "        vertical-align: middle;\n",
       "    }\n",
       "\n",
       "    .dataframe tbody tr th {\n",
       "        vertical-align: top;\n",
       "    }\n",
       "\n",
       "    .dataframe thead th {\n",
       "        text-align: right;\n",
       "    }\n",
       "</style>\n",
       "<table border=\"1\" class=\"dataframe\">\n",
       "  <thead>\n",
       "    <tr style=\"text-align: right;\">\n",
       "      <th></th>\n",
       "      <th>a</th>\n",
       "      <th>b</th>\n",
       "      <th>c</th>\n",
       "      <th>d</th>\n",
       "    </tr>\n",
       "  </thead>\n",
       "  <tbody>\n",
       "    <tr>\n",
       "      <th>0</th>\n",
       "      <td>0.802199</td>\n",
       "      <td>0.124974</td>\n",
       "      <td>0.752548</td>\n",
       "      <td>0.300017</td>\n",
       "    </tr>\n",
       "    <tr>\n",
       "      <th>1</th>\n",
       "      <td>0.959974</td>\n",
       "      <td>0.867581</td>\n",
       "      <td>0.233361</td>\n",
       "      <td>0.405740</td>\n",
       "    </tr>\n",
       "    <tr>\n",
       "      <th>2</th>\n",
       "      <td>0.450739</td>\n",
       "      <td>0.074581</td>\n",
       "      <td>0.353026</td>\n",
       "      <td>0.109201</td>\n",
       "    </tr>\n",
       "    <tr>\n",
       "      <th>3</th>\n",
       "      <td>0.472595</td>\n",
       "      <td>0.776408</td>\n",
       "      <td>0.762812</td>\n",
       "      <td>0.595441</td>\n",
       "    </tr>\n",
       "    <tr>\n",
       "      <th>4</th>\n",
       "      <td>0.971321</td>\n",
       "      <td>0.490134</td>\n",
       "      <td>0.549575</td>\n",
       "      <td>0.079088</td>\n",
       "    </tr>\n",
       "    <tr>\n",
       "      <th>5</th>\n",
       "      <td>0.459119</td>\n",
       "      <td>0.031718</td>\n",
       "      <td>0.009593</td>\n",
       "      <td>0.631495</td>\n",
       "    </tr>\n",
       "    <tr>\n",
       "      <th>6</th>\n",
       "      <td>0.289125</td>\n",
       "      <td>0.775377</td>\n",
       "      <td>0.217866</td>\n",
       "      <td>0.562443</td>\n",
       "    </tr>\n",
       "    <tr>\n",
       "      <th>7</th>\n",
       "      <td>0.157548</td>\n",
       "      <td>0.327930</td>\n",
       "      <td>0.922223</td>\n",
       "      <td>0.511858</td>\n",
       "    </tr>\n",
       "    <tr>\n",
       "      <th>8</th>\n",
       "      <td>0.934737</td>\n",
       "      <td>0.004529</td>\n",
       "      <td>0.365474</td>\n",
       "      <td>0.710323</td>\n",
       "    </tr>\n",
       "    <tr>\n",
       "      <th>9</th>\n",
       "      <td>0.019793</td>\n",
       "      <td>0.948360</td>\n",
       "      <td>0.178380</td>\n",
       "      <td>0.430021</td>\n",
       "    </tr>\n",
       "    <tr>\n",
       "      <th>10</th>\n",
       "      <td>0.455506</td>\n",
       "      <td>0.975067</td>\n",
       "      <td>0.332076</td>\n",
       "      <td>0.779880</td>\n",
       "    </tr>\n",
       "    <tr>\n",
       "      <th>11</th>\n",
       "      <td>0.040653</td>\n",
       "      <td>0.808777</td>\n",
       "      <td>0.608680</td>\n",
       "      <td>0.425652</td>\n",
       "    </tr>\n",
       "    <tr>\n",
       "      <th>12</th>\n",
       "      <td>0.611120</td>\n",
       "      <td>0.484032</td>\n",
       "      <td>0.017150</td>\n",
       "      <td>0.641278</td>\n",
       "    </tr>\n",
       "    <tr>\n",
       "      <th>13</th>\n",
       "      <td>0.366800</td>\n",
       "      <td>0.571115</td>\n",
       "      <td>0.121658</td>\n",
       "      <td>0.204653</td>\n",
       "    </tr>\n",
       "    <tr>\n",
       "      <th>14</th>\n",
       "      <td>0.979588</td>\n",
       "      <td>0.595709</td>\n",
       "      <td>0.972172</td>\n",
       "      <td>0.848056</td>\n",
       "    </tr>\n",
       "    <tr>\n",
       "      <th>15</th>\n",
       "      <td>0.538854</td>\n",
       "      <td>0.939380</td>\n",
       "      <td>0.540043</td>\n",
       "      <td>0.691045</td>\n",
       "    </tr>\n",
       "    <tr>\n",
       "      <th>16</th>\n",
       "      <td>0.192686</td>\n",
       "      <td>0.893995</td>\n",
       "      <td>0.458925</td>\n",
       "      <td>0.402613</td>\n",
       "    </tr>\n",
       "    <tr>\n",
       "      <th>17</th>\n",
       "      <td>0.229214</td>\n",
       "      <td>0.580811</td>\n",
       "      <td>0.693375</td>\n",
       "      <td>0.786203</td>\n",
       "    </tr>\n",
       "    <tr>\n",
       "      <th>18</th>\n",
       "      <td>0.077762</td>\n",
       "      <td>0.372477</td>\n",
       "      <td>0.602157</td>\n",
       "      <td>0.795661</td>\n",
       "    </tr>\n",
       "    <tr>\n",
       "      <th>19</th>\n",
       "      <td>0.709118</td>\n",
       "      <td>0.330879</td>\n",
       "      <td>0.435299</td>\n",
       "      <td>0.753052</td>\n",
       "    </tr>\n",
       "  </tbody>\n",
       "</table>\n",
       "</div>"
      ],
      "text/plain": [
       "           a         b         c         d\n",
       "0   0.802199  0.124974  0.752548  0.300017\n",
       "1   0.959974  0.867581  0.233361  0.405740\n",
       "2   0.450739  0.074581  0.353026  0.109201\n",
       "3   0.472595  0.776408  0.762812  0.595441\n",
       "4   0.971321  0.490134  0.549575  0.079088\n",
       "5   0.459119  0.031718  0.009593  0.631495\n",
       "6   0.289125  0.775377  0.217866  0.562443\n",
       "7   0.157548  0.327930  0.922223  0.511858\n",
       "8   0.934737  0.004529  0.365474  0.710323\n",
       "9   0.019793  0.948360  0.178380  0.430021\n",
       "10  0.455506  0.975067  0.332076  0.779880\n",
       "11  0.040653  0.808777  0.608680  0.425652\n",
       "12  0.611120  0.484032  0.017150  0.641278\n",
       "13  0.366800  0.571115  0.121658  0.204653\n",
       "14  0.979588  0.595709  0.972172  0.848056\n",
       "15  0.538854  0.939380  0.540043  0.691045\n",
       "16  0.192686  0.893995  0.458925  0.402613\n",
       "17  0.229214  0.580811  0.693375  0.786203\n",
       "18  0.077762  0.372477  0.602157  0.795661\n",
       "19  0.709118  0.330879  0.435299  0.753052"
      ]
     },
     "execution_count": 43,
     "metadata": {},
     "output_type": "execute_result"
    }
   ],
   "source": [
    "df5=pd.DataFrame(np.random.rand(20,4), columns = ['a','b', 'c','d'])\n",
    "df5"
   ]
  },
  {
   "cell_type": "code",
   "execution_count": 48,
   "id": "d0ff4d00",
   "metadata": {},
   "outputs": [
    {
     "data": {
      "application/vnd.microsoft.datawrangler.viewer.v0+json": {
       "columns": [
        {
         "name": "index",
         "rawType": "int64",
         "type": "integer"
        },
        {
         "name": "col_A",
         "rawType": "float64",
         "type": "float"
        },
        {
         "name": "col_B",
         "rawType": "float64",
         "type": "float"
        },
        {
         "name": "col_C",
         "rawType": "float64",
         "type": "float"
        },
        {
         "name": "col_D",
         "rawType": "float64",
         "type": "float"
        }
       ],
       "ref": "4ecb2be4-7cbe-4e3a-a0cd-af6524d3df32",
       "rows": [
        [
         "0",
         "0.802199498947628",
         "0.12497407360274126",
         "0.7525479938166574",
         "0.30001696047645976"
        ],
        [
         "1",
         "0.9599743365413654",
         "0.8675805281433918",
         "0.23336094055917",
         "0.40574010931945503"
        ],
        [
         "2",
         "0.4507385296138402",
         "0.07458090655855565",
         "0.3530261623582356",
         "0.10920140256818156"
        ],
        [
         "3",
         "0.4725948711995952",
         "0.7764076781203011",
         "0.762812034160274",
         "0.5954405662200875"
        ],
        [
         "4",
         "0.9713212913801144",
         "0.4901344768999628",
         "0.5495751495183359",
         "0.07908815193551477"
        ],
        [
         "5",
         "0.4591185427783775",
         "0.03171760669975776",
         "0.009593232236263405",
         "0.6314947343732562"
        ],
        [
         "6",
         "0.28912488994569463",
         "0.7753765379309483",
         "0.21786560642713393",
         "0.5624427339519574"
        ],
        [
         "7",
         "0.15754848967556778",
         "0.32792987515393013",
         "0.92222298658568",
         "0.5118576979036482"
        ],
        [
         "8",
         "0.9347371758254395",
         "0.004528573888929466",
         "0.3654740470447453",
         "0.7103233419846633"
        ],
        [
         "9",
         "0.019792800762098217",
         "0.9483600436263219",
         "0.17837962230568716",
         "0.4300214868497183"
        ],
        [
         "10",
         "0.45550646458042254",
         "0.9750666715029556",
         "0.33207560632538713",
         "0.7798803249360098"
        ],
        [
         "11",
         "0.0406529463235179",
         "0.8087773940949181",
         "0.6086803610428536",
         "0.4256523498451904"
        ],
        [
         "12",
         "0.6111198049017955",
         "0.4840319066860993",
         "0.017149711161517533",
         "0.6412784066558556"
        ],
        [
         "13",
         "0.36680037294235235",
         "0.5711151218045608",
         "0.12165777659544386",
         "0.20465312806077207"
        ],
        [
         "14",
         "0.9795875140270468",
         "0.5957094379785702",
         "0.9721721285800473",
         "0.8480559322385902"
        ],
        [
         "15",
         "0.5388535003035023",
         "0.9393799402101842",
         "0.5400429969369336",
         "0.6910454365030972"
        ],
        [
         "16",
         "0.19268606470866245",
         "0.8939946276311709",
         "0.4589251553347571",
         "0.40261323232612445"
        ],
        [
         "17",
         "0.22921365873772015",
         "0.5808110677332733",
         "0.693374686810089",
         "0.7862030083292474"
        ],
        [
         "18",
         "0.0777624747236545",
         "0.3724773286539833",
         "0.6021566816298577",
         "0.7956608490174099"
        ],
        [
         "19",
         "0.7091176140764149",
         "0.33087871854591033",
         "0.435298758514181",
         "0.7530519956258173"
        ]
       ],
       "shape": {
        "columns": 4,
        "rows": 20
       }
      },
      "text/html": [
       "<div>\n",
       "<style scoped>\n",
       "    .dataframe tbody tr th:only-of-type {\n",
       "        vertical-align: middle;\n",
       "    }\n",
       "\n",
       "    .dataframe tbody tr th {\n",
       "        vertical-align: top;\n",
       "    }\n",
       "\n",
       "    .dataframe thead th {\n",
       "        text-align: right;\n",
       "    }\n",
       "</style>\n",
       "<table border=\"1\" class=\"dataframe\">\n",
       "  <thead>\n",
       "    <tr style=\"text-align: right;\">\n",
       "      <th></th>\n",
       "      <th>col_A</th>\n",
       "      <th>col_B</th>\n",
       "      <th>col_C</th>\n",
       "      <th>col_D</th>\n",
       "    </tr>\n",
       "  </thead>\n",
       "  <tbody>\n",
       "    <tr>\n",
       "      <th>0</th>\n",
       "      <td>0.802199</td>\n",
       "      <td>0.124974</td>\n",
       "      <td>0.752548</td>\n",
       "      <td>0.300017</td>\n",
       "    </tr>\n",
       "    <tr>\n",
       "      <th>1</th>\n",
       "      <td>0.959974</td>\n",
       "      <td>0.867581</td>\n",
       "      <td>0.233361</td>\n",
       "      <td>0.405740</td>\n",
       "    </tr>\n",
       "    <tr>\n",
       "      <th>2</th>\n",
       "      <td>0.450739</td>\n",
       "      <td>0.074581</td>\n",
       "      <td>0.353026</td>\n",
       "      <td>0.109201</td>\n",
       "    </tr>\n",
       "    <tr>\n",
       "      <th>3</th>\n",
       "      <td>0.472595</td>\n",
       "      <td>0.776408</td>\n",
       "      <td>0.762812</td>\n",
       "      <td>0.595441</td>\n",
       "    </tr>\n",
       "    <tr>\n",
       "      <th>4</th>\n",
       "      <td>0.971321</td>\n",
       "      <td>0.490134</td>\n",
       "      <td>0.549575</td>\n",
       "      <td>0.079088</td>\n",
       "    </tr>\n",
       "    <tr>\n",
       "      <th>5</th>\n",
       "      <td>0.459119</td>\n",
       "      <td>0.031718</td>\n",
       "      <td>0.009593</td>\n",
       "      <td>0.631495</td>\n",
       "    </tr>\n",
       "    <tr>\n",
       "      <th>6</th>\n",
       "      <td>0.289125</td>\n",
       "      <td>0.775377</td>\n",
       "      <td>0.217866</td>\n",
       "      <td>0.562443</td>\n",
       "    </tr>\n",
       "    <tr>\n",
       "      <th>7</th>\n",
       "      <td>0.157548</td>\n",
       "      <td>0.327930</td>\n",
       "      <td>0.922223</td>\n",
       "      <td>0.511858</td>\n",
       "    </tr>\n",
       "    <tr>\n",
       "      <th>8</th>\n",
       "      <td>0.934737</td>\n",
       "      <td>0.004529</td>\n",
       "      <td>0.365474</td>\n",
       "      <td>0.710323</td>\n",
       "    </tr>\n",
       "    <tr>\n",
       "      <th>9</th>\n",
       "      <td>0.019793</td>\n",
       "      <td>0.948360</td>\n",
       "      <td>0.178380</td>\n",
       "      <td>0.430021</td>\n",
       "    </tr>\n",
       "    <tr>\n",
       "      <th>10</th>\n",
       "      <td>0.455506</td>\n",
       "      <td>0.975067</td>\n",
       "      <td>0.332076</td>\n",
       "      <td>0.779880</td>\n",
       "    </tr>\n",
       "    <tr>\n",
       "      <th>11</th>\n",
       "      <td>0.040653</td>\n",
       "      <td>0.808777</td>\n",
       "      <td>0.608680</td>\n",
       "      <td>0.425652</td>\n",
       "    </tr>\n",
       "    <tr>\n",
       "      <th>12</th>\n",
       "      <td>0.611120</td>\n",
       "      <td>0.484032</td>\n",
       "      <td>0.017150</td>\n",
       "      <td>0.641278</td>\n",
       "    </tr>\n",
       "    <tr>\n",
       "      <th>13</th>\n",
       "      <td>0.366800</td>\n",
       "      <td>0.571115</td>\n",
       "      <td>0.121658</td>\n",
       "      <td>0.204653</td>\n",
       "    </tr>\n",
       "    <tr>\n",
       "      <th>14</th>\n",
       "      <td>0.979588</td>\n",
       "      <td>0.595709</td>\n",
       "      <td>0.972172</td>\n",
       "      <td>0.848056</td>\n",
       "    </tr>\n",
       "    <tr>\n",
       "      <th>15</th>\n",
       "      <td>0.538854</td>\n",
       "      <td>0.939380</td>\n",
       "      <td>0.540043</td>\n",
       "      <td>0.691045</td>\n",
       "    </tr>\n",
       "    <tr>\n",
       "      <th>16</th>\n",
       "      <td>0.192686</td>\n",
       "      <td>0.893995</td>\n",
       "      <td>0.458925</td>\n",
       "      <td>0.402613</td>\n",
       "    </tr>\n",
       "    <tr>\n",
       "      <th>17</th>\n",
       "      <td>0.229214</td>\n",
       "      <td>0.580811</td>\n",
       "      <td>0.693375</td>\n",
       "      <td>0.786203</td>\n",
       "    </tr>\n",
       "    <tr>\n",
       "      <th>18</th>\n",
       "      <td>0.077762</td>\n",
       "      <td>0.372477</td>\n",
       "      <td>0.602157</td>\n",
       "      <td>0.795661</td>\n",
       "    </tr>\n",
       "    <tr>\n",
       "      <th>19</th>\n",
       "      <td>0.709118</td>\n",
       "      <td>0.330879</td>\n",
       "      <td>0.435299</td>\n",
       "      <td>0.753052</td>\n",
       "    </tr>\n",
       "  </tbody>\n",
       "</table>\n",
       "</div>"
      ],
      "text/plain": [
       "       col_A     col_B     col_C     col_D\n",
       "0   0.802199  0.124974  0.752548  0.300017\n",
       "1   0.959974  0.867581  0.233361  0.405740\n",
       "2   0.450739  0.074581  0.353026  0.109201\n",
       "3   0.472595  0.776408  0.762812  0.595441\n",
       "4   0.971321  0.490134  0.549575  0.079088\n",
       "5   0.459119  0.031718  0.009593  0.631495\n",
       "6   0.289125  0.775377  0.217866  0.562443\n",
       "7   0.157548  0.327930  0.922223  0.511858\n",
       "8   0.934737  0.004529  0.365474  0.710323\n",
       "9   0.019793  0.948360  0.178380  0.430021\n",
       "10  0.455506  0.975067  0.332076  0.779880\n",
       "11  0.040653  0.808777  0.608680  0.425652\n",
       "12  0.611120  0.484032  0.017150  0.641278\n",
       "13  0.366800  0.571115  0.121658  0.204653\n",
       "14  0.979588  0.595709  0.972172  0.848056\n",
       "15  0.538854  0.939380  0.540043  0.691045\n",
       "16  0.192686  0.893995  0.458925  0.402613\n",
       "17  0.229214  0.580811  0.693375  0.786203\n",
       "18  0.077762  0.372477  0.602157  0.795661\n",
       "19  0.709118  0.330879  0.435299  0.753052"
      ]
     },
     "execution_count": 48,
     "metadata": {},
     "output_type": "execute_result"
    }
   ],
   "source": [
    "# rename clolumns of df5\n",
    "df5.rename(columns = {'a' : 'col_A', 'b' : 'col_B',  'c': 'col_C', 'd': 'col_D'}, inplace=True)\n",
    "\n",
    "df5\n"
   ]
  },
  {
   "cell_type": "code",
   "execution_count": 50,
   "id": "393b0ee0",
   "metadata": {},
   "outputs": [
    {
     "data": {
      "application/vnd.microsoft.datawrangler.viewer.v0+json": {
       "columns": [
        {
         "name": "index",
         "rawType": "int64",
         "type": "integer"
        },
        {
         "name": "as",
         "rawType": "float64",
         "type": "float"
        },
        {
         "name": "bs",
         "rawType": "float64",
         "type": "float"
        },
        {
         "name": "cs",
         "rawType": "float64",
         "type": "float"
        },
        {
         "name": "ds",
         "rawType": "float64",
         "type": "float"
        }
       ],
       "ref": "80a57fb6-55d7-4919-8de8-50e3aa88bb80",
       "rows": [
        [
         "0",
         "0.802199498947628",
         "0.12497407360274126",
         "0.7525479938166574",
         "0.30001696047645976"
        ],
        [
         "1",
         "0.9599743365413654",
         "0.8675805281433918",
         "0.23336094055917",
         "0.40574010931945503"
        ],
        [
         "2",
         "0.4507385296138402",
         "0.07458090655855565",
         "0.3530261623582356",
         "0.10920140256818156"
        ],
        [
         "3",
         "0.4725948711995952",
         "0.7764076781203011",
         "0.762812034160274",
         "0.5954405662200875"
        ],
        [
         "4",
         "0.9713212913801144",
         "0.4901344768999628",
         "0.5495751495183359",
         "0.07908815193551477"
        ],
        [
         "5",
         "0.4591185427783775",
         "0.03171760669975776",
         "0.009593232236263405",
         "0.6314947343732562"
        ],
        [
         "6",
         "0.28912488994569463",
         "0.7753765379309483",
         "0.21786560642713393",
         "0.5624427339519574"
        ],
        [
         "7",
         "0.15754848967556778",
         "0.32792987515393013",
         "0.92222298658568",
         "0.5118576979036482"
        ],
        [
         "8",
         "0.9347371758254395",
         "0.004528573888929466",
         "0.3654740470447453",
         "0.7103233419846633"
        ],
        [
         "9",
         "0.019792800762098217",
         "0.9483600436263219",
         "0.17837962230568716",
         "0.4300214868497183"
        ],
        [
         "10",
         "0.45550646458042254",
         "0.9750666715029556",
         "0.33207560632538713",
         "0.7798803249360098"
        ],
        [
         "11",
         "0.0406529463235179",
         "0.8087773940949181",
         "0.6086803610428536",
         "0.4256523498451904"
        ],
        [
         "12",
         "0.6111198049017955",
         "0.4840319066860993",
         "0.017149711161517533",
         "0.6412784066558556"
        ],
        [
         "13",
         "0.36680037294235235",
         "0.5711151218045608",
         "0.12165777659544386",
         "0.20465312806077207"
        ],
        [
         "14",
         "0.9795875140270468",
         "0.5957094379785702",
         "0.9721721285800473",
         "0.8480559322385902"
        ],
        [
         "15",
         "0.5388535003035023",
         "0.9393799402101842",
         "0.5400429969369336",
         "0.6910454365030972"
        ],
        [
         "16",
         "0.19268606470866245",
         "0.8939946276311709",
         "0.4589251553347571",
         "0.40261323232612445"
        ],
        [
         "17",
         "0.22921365873772015",
         "0.5808110677332733",
         "0.693374686810089",
         "0.7862030083292474"
        ],
        [
         "18",
         "0.0777624747236545",
         "0.3724773286539833",
         "0.6021566816298577",
         "0.7956608490174099"
        ],
        [
         "19",
         "0.7091176140764149",
         "0.33087871854591033",
         "0.435298758514181",
         "0.7530519956258173"
        ]
       ],
       "shape": {
        "columns": 4,
        "rows": 20
       }
      },
      "text/html": [
       "<div>\n",
       "<style scoped>\n",
       "    .dataframe tbody tr th:only-of-type {\n",
       "        vertical-align: middle;\n",
       "    }\n",
       "\n",
       "    .dataframe tbody tr th {\n",
       "        vertical-align: top;\n",
       "    }\n",
       "\n",
       "    .dataframe thead th {\n",
       "        text-align: right;\n",
       "    }\n",
       "</style>\n",
       "<table border=\"1\" class=\"dataframe\">\n",
       "  <thead>\n",
       "    <tr style=\"text-align: right;\">\n",
       "      <th></th>\n",
       "      <th>as</th>\n",
       "      <th>bs</th>\n",
       "      <th>cs</th>\n",
       "      <th>ds</th>\n",
       "    </tr>\n",
       "  </thead>\n",
       "  <tbody>\n",
       "    <tr>\n",
       "      <th>0</th>\n",
       "      <td>0.802199</td>\n",
       "      <td>0.124974</td>\n",
       "      <td>0.752548</td>\n",
       "      <td>0.300017</td>\n",
       "    </tr>\n",
       "    <tr>\n",
       "      <th>1</th>\n",
       "      <td>0.959974</td>\n",
       "      <td>0.867581</td>\n",
       "      <td>0.233361</td>\n",
       "      <td>0.405740</td>\n",
       "    </tr>\n",
       "    <tr>\n",
       "      <th>2</th>\n",
       "      <td>0.450739</td>\n",
       "      <td>0.074581</td>\n",
       "      <td>0.353026</td>\n",
       "      <td>0.109201</td>\n",
       "    </tr>\n",
       "    <tr>\n",
       "      <th>3</th>\n",
       "      <td>0.472595</td>\n",
       "      <td>0.776408</td>\n",
       "      <td>0.762812</td>\n",
       "      <td>0.595441</td>\n",
       "    </tr>\n",
       "    <tr>\n",
       "      <th>4</th>\n",
       "      <td>0.971321</td>\n",
       "      <td>0.490134</td>\n",
       "      <td>0.549575</td>\n",
       "      <td>0.079088</td>\n",
       "    </tr>\n",
       "    <tr>\n",
       "      <th>5</th>\n",
       "      <td>0.459119</td>\n",
       "      <td>0.031718</td>\n",
       "      <td>0.009593</td>\n",
       "      <td>0.631495</td>\n",
       "    </tr>\n",
       "    <tr>\n",
       "      <th>6</th>\n",
       "      <td>0.289125</td>\n",
       "      <td>0.775377</td>\n",
       "      <td>0.217866</td>\n",
       "      <td>0.562443</td>\n",
       "    </tr>\n",
       "    <tr>\n",
       "      <th>7</th>\n",
       "      <td>0.157548</td>\n",
       "      <td>0.327930</td>\n",
       "      <td>0.922223</td>\n",
       "      <td>0.511858</td>\n",
       "    </tr>\n",
       "    <tr>\n",
       "      <th>8</th>\n",
       "      <td>0.934737</td>\n",
       "      <td>0.004529</td>\n",
       "      <td>0.365474</td>\n",
       "      <td>0.710323</td>\n",
       "    </tr>\n",
       "    <tr>\n",
       "      <th>9</th>\n",
       "      <td>0.019793</td>\n",
       "      <td>0.948360</td>\n",
       "      <td>0.178380</td>\n",
       "      <td>0.430021</td>\n",
       "    </tr>\n",
       "    <tr>\n",
       "      <th>10</th>\n",
       "      <td>0.455506</td>\n",
       "      <td>0.975067</td>\n",
       "      <td>0.332076</td>\n",
       "      <td>0.779880</td>\n",
       "    </tr>\n",
       "    <tr>\n",
       "      <th>11</th>\n",
       "      <td>0.040653</td>\n",
       "      <td>0.808777</td>\n",
       "      <td>0.608680</td>\n",
       "      <td>0.425652</td>\n",
       "    </tr>\n",
       "    <tr>\n",
       "      <th>12</th>\n",
       "      <td>0.611120</td>\n",
       "      <td>0.484032</td>\n",
       "      <td>0.017150</td>\n",
       "      <td>0.641278</td>\n",
       "    </tr>\n",
       "    <tr>\n",
       "      <th>13</th>\n",
       "      <td>0.366800</td>\n",
       "      <td>0.571115</td>\n",
       "      <td>0.121658</td>\n",
       "      <td>0.204653</td>\n",
       "    </tr>\n",
       "    <tr>\n",
       "      <th>14</th>\n",
       "      <td>0.979588</td>\n",
       "      <td>0.595709</td>\n",
       "      <td>0.972172</td>\n",
       "      <td>0.848056</td>\n",
       "    </tr>\n",
       "    <tr>\n",
       "      <th>15</th>\n",
       "      <td>0.538854</td>\n",
       "      <td>0.939380</td>\n",
       "      <td>0.540043</td>\n",
       "      <td>0.691045</td>\n",
       "    </tr>\n",
       "    <tr>\n",
       "      <th>16</th>\n",
       "      <td>0.192686</td>\n",
       "      <td>0.893995</td>\n",
       "      <td>0.458925</td>\n",
       "      <td>0.402613</td>\n",
       "    </tr>\n",
       "    <tr>\n",
       "      <th>17</th>\n",
       "      <td>0.229214</td>\n",
       "      <td>0.580811</td>\n",
       "      <td>0.693375</td>\n",
       "      <td>0.786203</td>\n",
       "    </tr>\n",
       "    <tr>\n",
       "      <th>18</th>\n",
       "      <td>0.077762</td>\n",
       "      <td>0.372477</td>\n",
       "      <td>0.602157</td>\n",
       "      <td>0.795661</td>\n",
       "    </tr>\n",
       "    <tr>\n",
       "      <th>19</th>\n",
       "      <td>0.709118</td>\n",
       "      <td>0.330879</td>\n",
       "      <td>0.435299</td>\n",
       "      <td>0.753052</td>\n",
       "    </tr>\n",
       "  </tbody>\n",
       "</table>\n",
       "</div>"
      ],
      "text/plain": [
       "          as        bs        cs        ds\n",
       "0   0.802199  0.124974  0.752548  0.300017\n",
       "1   0.959974  0.867581  0.233361  0.405740\n",
       "2   0.450739  0.074581  0.353026  0.109201\n",
       "3   0.472595  0.776408  0.762812  0.595441\n",
       "4   0.971321  0.490134  0.549575  0.079088\n",
       "5   0.459119  0.031718  0.009593  0.631495\n",
       "6   0.289125  0.775377  0.217866  0.562443\n",
       "7   0.157548  0.327930  0.922223  0.511858\n",
       "8   0.934737  0.004529  0.365474  0.710323\n",
       "9   0.019793  0.948360  0.178380  0.430021\n",
       "10  0.455506  0.975067  0.332076  0.779880\n",
       "11  0.040653  0.808777  0.608680  0.425652\n",
       "12  0.611120  0.484032  0.017150  0.641278\n",
       "13  0.366800  0.571115  0.121658  0.204653\n",
       "14  0.979588  0.595709  0.972172  0.848056\n",
       "15  0.538854  0.939380  0.540043  0.691045\n",
       "16  0.192686  0.893995  0.458925  0.402613\n",
       "17  0.229214  0.580811  0.693375  0.786203\n",
       "18  0.077762  0.372477  0.602157  0.795661\n",
       "19  0.709118  0.330879  0.435299  0.753052"
      ]
     },
     "execution_count": 50,
     "metadata": {},
     "output_type": "execute_result"
    }
   ],
   "source": [
    "#other methods to rename\n",
    "df5.columns  =['as','bs', 'cs', 'ds']\n",
    "df5"
   ]
  },
  {
   "cell_type": "code",
   "execution_count": 51,
   "id": "e0d5111c",
   "metadata": {},
   "outputs": [
    {
     "data": {
      "application/vnd.microsoft.datawrangler.viewer.v0+json": {
       "columns": [
        {
         "name": "index",
         "rawType": "int64",
         "type": "integer"
        },
        {
         "name": "at",
         "rawType": "float64",
         "type": "float"
        },
        {
         "name": "bt",
         "rawType": "float64",
         "type": "float"
        },
        {
         "name": "ct",
         "rawType": "float64",
         "type": "float"
        },
        {
         "name": "dt",
         "rawType": "float64",
         "type": "float"
        }
       ],
       "ref": "ca461b84-0a96-43ee-a97f-4a3e676d5e02",
       "rows": [
        [
         "0",
         "0.802199498947628",
         "0.12497407360274126",
         "0.7525479938166574",
         "0.30001696047645976"
        ],
        [
         "1",
         "0.9599743365413654",
         "0.8675805281433918",
         "0.23336094055917",
         "0.40574010931945503"
        ],
        [
         "2",
         "0.4507385296138402",
         "0.07458090655855565",
         "0.3530261623582356",
         "0.10920140256818156"
        ],
        [
         "3",
         "0.4725948711995952",
         "0.7764076781203011",
         "0.762812034160274",
         "0.5954405662200875"
        ],
        [
         "4",
         "0.9713212913801144",
         "0.4901344768999628",
         "0.5495751495183359",
         "0.07908815193551477"
        ],
        [
         "5",
         "0.4591185427783775",
         "0.03171760669975776",
         "0.009593232236263405",
         "0.6314947343732562"
        ],
        [
         "6",
         "0.28912488994569463",
         "0.7753765379309483",
         "0.21786560642713393",
         "0.5624427339519574"
        ],
        [
         "7",
         "0.15754848967556778",
         "0.32792987515393013",
         "0.92222298658568",
         "0.5118576979036482"
        ],
        [
         "8",
         "0.9347371758254395",
         "0.004528573888929466",
         "0.3654740470447453",
         "0.7103233419846633"
        ],
        [
         "9",
         "0.019792800762098217",
         "0.9483600436263219",
         "0.17837962230568716",
         "0.4300214868497183"
        ],
        [
         "10",
         "0.45550646458042254",
         "0.9750666715029556",
         "0.33207560632538713",
         "0.7798803249360098"
        ],
        [
         "11",
         "0.0406529463235179",
         "0.8087773940949181",
         "0.6086803610428536",
         "0.4256523498451904"
        ],
        [
         "12",
         "0.6111198049017955",
         "0.4840319066860993",
         "0.017149711161517533",
         "0.6412784066558556"
        ],
        [
         "13",
         "0.36680037294235235",
         "0.5711151218045608",
         "0.12165777659544386",
         "0.20465312806077207"
        ],
        [
         "14",
         "0.9795875140270468",
         "0.5957094379785702",
         "0.9721721285800473",
         "0.8480559322385902"
        ],
        [
         "15",
         "0.5388535003035023",
         "0.9393799402101842",
         "0.5400429969369336",
         "0.6910454365030972"
        ],
        [
         "16",
         "0.19268606470866245",
         "0.8939946276311709",
         "0.4589251553347571",
         "0.40261323232612445"
        ],
        [
         "17",
         "0.22921365873772015",
         "0.5808110677332733",
         "0.693374686810089",
         "0.7862030083292474"
        ],
        [
         "18",
         "0.0777624747236545",
         "0.3724773286539833",
         "0.6021566816298577",
         "0.7956608490174099"
        ],
        [
         "19",
         "0.7091176140764149",
         "0.33087871854591033",
         "0.435298758514181",
         "0.7530519956258173"
        ]
       ],
       "shape": {
        "columns": 4,
        "rows": 20
       }
      },
      "text/html": [
       "<div>\n",
       "<style scoped>\n",
       "    .dataframe tbody tr th:only-of-type {\n",
       "        vertical-align: middle;\n",
       "    }\n",
       "\n",
       "    .dataframe tbody tr th {\n",
       "        vertical-align: top;\n",
       "    }\n",
       "\n",
       "    .dataframe thead th {\n",
       "        text-align: right;\n",
       "    }\n",
       "</style>\n",
       "<table border=\"1\" class=\"dataframe\">\n",
       "  <thead>\n",
       "    <tr style=\"text-align: right;\">\n",
       "      <th></th>\n",
       "      <th>at</th>\n",
       "      <th>bt</th>\n",
       "      <th>ct</th>\n",
       "      <th>dt</th>\n",
       "    </tr>\n",
       "  </thead>\n",
       "  <tbody>\n",
       "    <tr>\n",
       "      <th>0</th>\n",
       "      <td>0.802199</td>\n",
       "      <td>0.124974</td>\n",
       "      <td>0.752548</td>\n",
       "      <td>0.300017</td>\n",
       "    </tr>\n",
       "    <tr>\n",
       "      <th>1</th>\n",
       "      <td>0.959974</td>\n",
       "      <td>0.867581</td>\n",
       "      <td>0.233361</td>\n",
       "      <td>0.405740</td>\n",
       "    </tr>\n",
       "    <tr>\n",
       "      <th>2</th>\n",
       "      <td>0.450739</td>\n",
       "      <td>0.074581</td>\n",
       "      <td>0.353026</td>\n",
       "      <td>0.109201</td>\n",
       "    </tr>\n",
       "    <tr>\n",
       "      <th>3</th>\n",
       "      <td>0.472595</td>\n",
       "      <td>0.776408</td>\n",
       "      <td>0.762812</td>\n",
       "      <td>0.595441</td>\n",
       "    </tr>\n",
       "    <tr>\n",
       "      <th>4</th>\n",
       "      <td>0.971321</td>\n",
       "      <td>0.490134</td>\n",
       "      <td>0.549575</td>\n",
       "      <td>0.079088</td>\n",
       "    </tr>\n",
       "    <tr>\n",
       "      <th>5</th>\n",
       "      <td>0.459119</td>\n",
       "      <td>0.031718</td>\n",
       "      <td>0.009593</td>\n",
       "      <td>0.631495</td>\n",
       "    </tr>\n",
       "    <tr>\n",
       "      <th>6</th>\n",
       "      <td>0.289125</td>\n",
       "      <td>0.775377</td>\n",
       "      <td>0.217866</td>\n",
       "      <td>0.562443</td>\n",
       "    </tr>\n",
       "    <tr>\n",
       "      <th>7</th>\n",
       "      <td>0.157548</td>\n",
       "      <td>0.327930</td>\n",
       "      <td>0.922223</td>\n",
       "      <td>0.511858</td>\n",
       "    </tr>\n",
       "    <tr>\n",
       "      <th>8</th>\n",
       "      <td>0.934737</td>\n",
       "      <td>0.004529</td>\n",
       "      <td>0.365474</td>\n",
       "      <td>0.710323</td>\n",
       "    </tr>\n",
       "    <tr>\n",
       "      <th>9</th>\n",
       "      <td>0.019793</td>\n",
       "      <td>0.948360</td>\n",
       "      <td>0.178380</td>\n",
       "      <td>0.430021</td>\n",
       "    </tr>\n",
       "    <tr>\n",
       "      <th>10</th>\n",
       "      <td>0.455506</td>\n",
       "      <td>0.975067</td>\n",
       "      <td>0.332076</td>\n",
       "      <td>0.779880</td>\n",
       "    </tr>\n",
       "    <tr>\n",
       "      <th>11</th>\n",
       "      <td>0.040653</td>\n",
       "      <td>0.808777</td>\n",
       "      <td>0.608680</td>\n",
       "      <td>0.425652</td>\n",
       "    </tr>\n",
       "    <tr>\n",
       "      <th>12</th>\n",
       "      <td>0.611120</td>\n",
       "      <td>0.484032</td>\n",
       "      <td>0.017150</td>\n",
       "      <td>0.641278</td>\n",
       "    </tr>\n",
       "    <tr>\n",
       "      <th>13</th>\n",
       "      <td>0.366800</td>\n",
       "      <td>0.571115</td>\n",
       "      <td>0.121658</td>\n",
       "      <td>0.204653</td>\n",
       "    </tr>\n",
       "    <tr>\n",
       "      <th>14</th>\n",
       "      <td>0.979588</td>\n",
       "      <td>0.595709</td>\n",
       "      <td>0.972172</td>\n",
       "      <td>0.848056</td>\n",
       "    </tr>\n",
       "    <tr>\n",
       "      <th>15</th>\n",
       "      <td>0.538854</td>\n",
       "      <td>0.939380</td>\n",
       "      <td>0.540043</td>\n",
       "      <td>0.691045</td>\n",
       "    </tr>\n",
       "    <tr>\n",
       "      <th>16</th>\n",
       "      <td>0.192686</td>\n",
       "      <td>0.893995</td>\n",
       "      <td>0.458925</td>\n",
       "      <td>0.402613</td>\n",
       "    </tr>\n",
       "    <tr>\n",
       "      <th>17</th>\n",
       "      <td>0.229214</td>\n",
       "      <td>0.580811</td>\n",
       "      <td>0.693375</td>\n",
       "      <td>0.786203</td>\n",
       "    </tr>\n",
       "    <tr>\n",
       "      <th>18</th>\n",
       "      <td>0.077762</td>\n",
       "      <td>0.372477</td>\n",
       "      <td>0.602157</td>\n",
       "      <td>0.795661</td>\n",
       "    </tr>\n",
       "    <tr>\n",
       "      <th>19</th>\n",
       "      <td>0.709118</td>\n",
       "      <td>0.330879</td>\n",
       "      <td>0.435299</td>\n",
       "      <td>0.753052</td>\n",
       "    </tr>\n",
       "  </tbody>\n",
       "</table>\n",
       "</div>"
      ],
      "text/plain": [
       "          at        bt        ct        dt\n",
       "0   0.802199  0.124974  0.752548  0.300017\n",
       "1   0.959974  0.867581  0.233361  0.405740\n",
       "2   0.450739  0.074581  0.353026  0.109201\n",
       "3   0.472595  0.776408  0.762812  0.595441\n",
       "4   0.971321  0.490134  0.549575  0.079088\n",
       "5   0.459119  0.031718  0.009593  0.631495\n",
       "6   0.289125  0.775377  0.217866  0.562443\n",
       "7   0.157548  0.327930  0.922223  0.511858\n",
       "8   0.934737  0.004529  0.365474  0.710323\n",
       "9   0.019793  0.948360  0.178380  0.430021\n",
       "10  0.455506  0.975067  0.332076  0.779880\n",
       "11  0.040653  0.808777  0.608680  0.425652\n",
       "12  0.611120  0.484032  0.017150  0.641278\n",
       "13  0.366800  0.571115  0.121658  0.204653\n",
       "14  0.979588  0.595709  0.972172  0.848056\n",
       "15  0.538854  0.939380  0.540043  0.691045\n",
       "16  0.192686  0.893995  0.458925  0.402613\n",
       "17  0.229214  0.580811  0.693375  0.786203\n",
       "18  0.077762  0.372477  0.602157  0.795661\n",
       "19  0.709118  0.330879  0.435299  0.753052"
      ]
     },
     "execution_count": 51,
     "metadata": {},
     "output_type": "execute_result"
    }
   ],
   "source": [
    "# replace any character from columns name of df5\n",
    "df5.columns = df5.columns.str.replace('s','t')\n",
    "df5"
   ]
  },
  {
   "cell_type": "code",
   "execution_count": 52,
   "id": "17bebe85",
   "metadata": {},
   "outputs": [
    {
     "data": {
      "application/vnd.microsoft.datawrangler.viewer.v0+json": {
       "columns": [
        {
         "name": "index",
         "rawType": "int64",
         "type": "integer"
        },
        {
         "name": "baba_at",
         "rawType": "float64",
         "type": "float"
        },
        {
         "name": "baba_bt",
         "rawType": "float64",
         "type": "float"
        },
        {
         "name": "baba_ct",
         "rawType": "float64",
         "type": "float"
        },
        {
         "name": "baba_dt",
         "rawType": "float64",
         "type": "float"
        }
       ],
       "ref": "abd31143-40f1-4e09-bb0e-89ce078b5cb7",
       "rows": [
        [
         "0",
         "0.802199498947628",
         "0.12497407360274126",
         "0.7525479938166574",
         "0.30001696047645976"
        ],
        [
         "1",
         "0.9599743365413654",
         "0.8675805281433918",
         "0.23336094055917",
         "0.40574010931945503"
        ],
        [
         "2",
         "0.4507385296138402",
         "0.07458090655855565",
         "0.3530261623582356",
         "0.10920140256818156"
        ],
        [
         "3",
         "0.4725948711995952",
         "0.7764076781203011",
         "0.762812034160274",
         "0.5954405662200875"
        ],
        [
         "4",
         "0.9713212913801144",
         "0.4901344768999628",
         "0.5495751495183359",
         "0.07908815193551477"
        ],
        [
         "5",
         "0.4591185427783775",
         "0.03171760669975776",
         "0.009593232236263405",
         "0.6314947343732562"
        ],
        [
         "6",
         "0.28912488994569463",
         "0.7753765379309483",
         "0.21786560642713393",
         "0.5624427339519574"
        ],
        [
         "7",
         "0.15754848967556778",
         "0.32792987515393013",
         "0.92222298658568",
         "0.5118576979036482"
        ],
        [
         "8",
         "0.9347371758254395",
         "0.004528573888929466",
         "0.3654740470447453",
         "0.7103233419846633"
        ],
        [
         "9",
         "0.019792800762098217",
         "0.9483600436263219",
         "0.17837962230568716",
         "0.4300214868497183"
        ],
        [
         "10",
         "0.45550646458042254",
         "0.9750666715029556",
         "0.33207560632538713",
         "0.7798803249360098"
        ],
        [
         "11",
         "0.0406529463235179",
         "0.8087773940949181",
         "0.6086803610428536",
         "0.4256523498451904"
        ],
        [
         "12",
         "0.6111198049017955",
         "0.4840319066860993",
         "0.017149711161517533",
         "0.6412784066558556"
        ],
        [
         "13",
         "0.36680037294235235",
         "0.5711151218045608",
         "0.12165777659544386",
         "0.20465312806077207"
        ],
        [
         "14",
         "0.9795875140270468",
         "0.5957094379785702",
         "0.9721721285800473",
         "0.8480559322385902"
        ],
        [
         "15",
         "0.5388535003035023",
         "0.9393799402101842",
         "0.5400429969369336",
         "0.6910454365030972"
        ],
        [
         "16",
         "0.19268606470866245",
         "0.8939946276311709",
         "0.4589251553347571",
         "0.40261323232612445"
        ],
        [
         "17",
         "0.22921365873772015",
         "0.5808110677332733",
         "0.693374686810089",
         "0.7862030083292474"
        ],
        [
         "18",
         "0.0777624747236545",
         "0.3724773286539833",
         "0.6021566816298577",
         "0.7956608490174099"
        ],
        [
         "19",
         "0.7091176140764149",
         "0.33087871854591033",
         "0.435298758514181",
         "0.7530519956258173"
        ]
       ],
       "shape": {
        "columns": 4,
        "rows": 20
       }
      },
      "text/html": [
       "<div>\n",
       "<style scoped>\n",
       "    .dataframe tbody tr th:only-of-type {\n",
       "        vertical-align: middle;\n",
       "    }\n",
       "\n",
       "    .dataframe tbody tr th {\n",
       "        vertical-align: top;\n",
       "    }\n",
       "\n",
       "    .dataframe thead th {\n",
       "        text-align: right;\n",
       "    }\n",
       "</style>\n",
       "<table border=\"1\" class=\"dataframe\">\n",
       "  <thead>\n",
       "    <tr style=\"text-align: right;\">\n",
       "      <th></th>\n",
       "      <th>baba_at</th>\n",
       "      <th>baba_bt</th>\n",
       "      <th>baba_ct</th>\n",
       "      <th>baba_dt</th>\n",
       "    </tr>\n",
       "  </thead>\n",
       "  <tbody>\n",
       "    <tr>\n",
       "      <th>0</th>\n",
       "      <td>0.802199</td>\n",
       "      <td>0.124974</td>\n",
       "      <td>0.752548</td>\n",
       "      <td>0.300017</td>\n",
       "    </tr>\n",
       "    <tr>\n",
       "      <th>1</th>\n",
       "      <td>0.959974</td>\n",
       "      <td>0.867581</td>\n",
       "      <td>0.233361</td>\n",
       "      <td>0.405740</td>\n",
       "    </tr>\n",
       "    <tr>\n",
       "      <th>2</th>\n",
       "      <td>0.450739</td>\n",
       "      <td>0.074581</td>\n",
       "      <td>0.353026</td>\n",
       "      <td>0.109201</td>\n",
       "    </tr>\n",
       "    <tr>\n",
       "      <th>3</th>\n",
       "      <td>0.472595</td>\n",
       "      <td>0.776408</td>\n",
       "      <td>0.762812</td>\n",
       "      <td>0.595441</td>\n",
       "    </tr>\n",
       "    <tr>\n",
       "      <th>4</th>\n",
       "      <td>0.971321</td>\n",
       "      <td>0.490134</td>\n",
       "      <td>0.549575</td>\n",
       "      <td>0.079088</td>\n",
       "    </tr>\n",
       "    <tr>\n",
       "      <th>5</th>\n",
       "      <td>0.459119</td>\n",
       "      <td>0.031718</td>\n",
       "      <td>0.009593</td>\n",
       "      <td>0.631495</td>\n",
       "    </tr>\n",
       "    <tr>\n",
       "      <th>6</th>\n",
       "      <td>0.289125</td>\n",
       "      <td>0.775377</td>\n",
       "      <td>0.217866</td>\n",
       "      <td>0.562443</td>\n",
       "    </tr>\n",
       "    <tr>\n",
       "      <th>7</th>\n",
       "      <td>0.157548</td>\n",
       "      <td>0.327930</td>\n",
       "      <td>0.922223</td>\n",
       "      <td>0.511858</td>\n",
       "    </tr>\n",
       "    <tr>\n",
       "      <th>8</th>\n",
       "      <td>0.934737</td>\n",
       "      <td>0.004529</td>\n",
       "      <td>0.365474</td>\n",
       "      <td>0.710323</td>\n",
       "    </tr>\n",
       "    <tr>\n",
       "      <th>9</th>\n",
       "      <td>0.019793</td>\n",
       "      <td>0.948360</td>\n",
       "      <td>0.178380</td>\n",
       "      <td>0.430021</td>\n",
       "    </tr>\n",
       "    <tr>\n",
       "      <th>10</th>\n",
       "      <td>0.455506</td>\n",
       "      <td>0.975067</td>\n",
       "      <td>0.332076</td>\n",
       "      <td>0.779880</td>\n",
       "    </tr>\n",
       "    <tr>\n",
       "      <th>11</th>\n",
       "      <td>0.040653</td>\n",
       "      <td>0.808777</td>\n",
       "      <td>0.608680</td>\n",
       "      <td>0.425652</td>\n",
       "    </tr>\n",
       "    <tr>\n",
       "      <th>12</th>\n",
       "      <td>0.611120</td>\n",
       "      <td>0.484032</td>\n",
       "      <td>0.017150</td>\n",
       "      <td>0.641278</td>\n",
       "    </tr>\n",
       "    <tr>\n",
       "      <th>13</th>\n",
       "      <td>0.366800</td>\n",
       "      <td>0.571115</td>\n",
       "      <td>0.121658</td>\n",
       "      <td>0.204653</td>\n",
       "    </tr>\n",
       "    <tr>\n",
       "      <th>14</th>\n",
       "      <td>0.979588</td>\n",
       "      <td>0.595709</td>\n",
       "      <td>0.972172</td>\n",
       "      <td>0.848056</td>\n",
       "    </tr>\n",
       "    <tr>\n",
       "      <th>15</th>\n",
       "      <td>0.538854</td>\n",
       "      <td>0.939380</td>\n",
       "      <td>0.540043</td>\n",
       "      <td>0.691045</td>\n",
       "    </tr>\n",
       "    <tr>\n",
       "      <th>16</th>\n",
       "      <td>0.192686</td>\n",
       "      <td>0.893995</td>\n",
       "      <td>0.458925</td>\n",
       "      <td>0.402613</td>\n",
       "    </tr>\n",
       "    <tr>\n",
       "      <th>17</th>\n",
       "      <td>0.229214</td>\n",
       "      <td>0.580811</td>\n",
       "      <td>0.693375</td>\n",
       "      <td>0.786203</td>\n",
       "    </tr>\n",
       "    <tr>\n",
       "      <th>18</th>\n",
       "      <td>0.077762</td>\n",
       "      <td>0.372477</td>\n",
       "      <td>0.602157</td>\n",
       "      <td>0.795661</td>\n",
       "    </tr>\n",
       "    <tr>\n",
       "      <th>19</th>\n",
       "      <td>0.709118</td>\n",
       "      <td>0.330879</td>\n",
       "      <td>0.435299</td>\n",
       "      <td>0.753052</td>\n",
       "    </tr>\n",
       "  </tbody>\n",
       "</table>\n",
       "</div>"
      ],
      "text/plain": [
       "     baba_at   baba_bt   baba_ct   baba_dt\n",
       "0   0.802199  0.124974  0.752548  0.300017\n",
       "1   0.959974  0.867581  0.233361  0.405740\n",
       "2   0.450739  0.074581  0.353026  0.109201\n",
       "3   0.472595  0.776408  0.762812  0.595441\n",
       "4   0.971321  0.490134  0.549575  0.079088\n",
       "5   0.459119  0.031718  0.009593  0.631495\n",
       "6   0.289125  0.775377  0.217866  0.562443\n",
       "7   0.157548  0.327930  0.922223  0.511858\n",
       "8   0.934737  0.004529  0.365474  0.710323\n",
       "9   0.019793  0.948360  0.178380  0.430021\n",
       "10  0.455506  0.975067  0.332076  0.779880\n",
       "11  0.040653  0.808777  0.608680  0.425652\n",
       "12  0.611120  0.484032  0.017150  0.641278\n",
       "13  0.366800  0.571115  0.121658  0.204653\n",
       "14  0.979588  0.595709  0.972172  0.848056\n",
       "15  0.538854  0.939380  0.540043  0.691045\n",
       "16  0.192686  0.893995  0.458925  0.402613\n",
       "17  0.229214  0.580811  0.693375  0.786203\n",
       "18  0.077762  0.372477  0.602157  0.795661\n",
       "19  0.709118  0.330879  0.435299  0.753052"
      ]
     },
     "execution_count": 52,
     "metadata": {},
     "output_type": "execute_result"
    }
   ],
   "source": [
    "# ADDING PREFIX COLUMNS NAME\n",
    "df5=df5.add_prefix('baba_')\n",
    "df5"
   ]
  },
  {
   "cell_type": "code",
   "execution_count": 53,
   "id": "bfc77c17",
   "metadata": {},
   "outputs": [
    {
     "data": {
      "application/vnd.microsoft.datawrangler.viewer.v0+json": {
       "columns": [
        {
         "name": "index",
         "rawType": "int64",
         "type": "integer"
        },
        {
         "name": "baba_at_tata",
         "rawType": "float64",
         "type": "float"
        },
        {
         "name": "baba_bt_tata",
         "rawType": "float64",
         "type": "float"
        },
        {
         "name": "baba_ct_tata",
         "rawType": "float64",
         "type": "float"
        },
        {
         "name": "baba_dt_tata",
         "rawType": "float64",
         "type": "float"
        }
       ],
       "ref": "e1d44dc3-8e4a-4e86-8a4b-3ca80f1b9e8a",
       "rows": [
        [
         "0",
         "0.802199498947628",
         "0.12497407360274126",
         "0.7525479938166574",
         "0.30001696047645976"
        ],
        [
         "1",
         "0.9599743365413654",
         "0.8675805281433918",
         "0.23336094055917",
         "0.40574010931945503"
        ],
        [
         "2",
         "0.4507385296138402",
         "0.07458090655855565",
         "0.3530261623582356",
         "0.10920140256818156"
        ],
        [
         "3",
         "0.4725948711995952",
         "0.7764076781203011",
         "0.762812034160274",
         "0.5954405662200875"
        ],
        [
         "4",
         "0.9713212913801144",
         "0.4901344768999628",
         "0.5495751495183359",
         "0.07908815193551477"
        ],
        [
         "5",
         "0.4591185427783775",
         "0.03171760669975776",
         "0.009593232236263405",
         "0.6314947343732562"
        ],
        [
         "6",
         "0.28912488994569463",
         "0.7753765379309483",
         "0.21786560642713393",
         "0.5624427339519574"
        ],
        [
         "7",
         "0.15754848967556778",
         "0.32792987515393013",
         "0.92222298658568",
         "0.5118576979036482"
        ],
        [
         "8",
         "0.9347371758254395",
         "0.004528573888929466",
         "0.3654740470447453",
         "0.7103233419846633"
        ],
        [
         "9",
         "0.019792800762098217",
         "0.9483600436263219",
         "0.17837962230568716",
         "0.4300214868497183"
        ],
        [
         "10",
         "0.45550646458042254",
         "0.9750666715029556",
         "0.33207560632538713",
         "0.7798803249360098"
        ],
        [
         "11",
         "0.0406529463235179",
         "0.8087773940949181",
         "0.6086803610428536",
         "0.4256523498451904"
        ],
        [
         "12",
         "0.6111198049017955",
         "0.4840319066860993",
         "0.017149711161517533",
         "0.6412784066558556"
        ],
        [
         "13",
         "0.36680037294235235",
         "0.5711151218045608",
         "0.12165777659544386",
         "0.20465312806077207"
        ],
        [
         "14",
         "0.9795875140270468",
         "0.5957094379785702",
         "0.9721721285800473",
         "0.8480559322385902"
        ],
        [
         "15",
         "0.5388535003035023",
         "0.9393799402101842",
         "0.5400429969369336",
         "0.6910454365030972"
        ],
        [
         "16",
         "0.19268606470866245",
         "0.8939946276311709",
         "0.4589251553347571",
         "0.40261323232612445"
        ],
        [
         "17",
         "0.22921365873772015",
         "0.5808110677332733",
         "0.693374686810089",
         "0.7862030083292474"
        ],
        [
         "18",
         "0.0777624747236545",
         "0.3724773286539833",
         "0.6021566816298577",
         "0.7956608490174099"
        ],
        [
         "19",
         "0.7091176140764149",
         "0.33087871854591033",
         "0.435298758514181",
         "0.7530519956258173"
        ]
       ],
       "shape": {
        "columns": 4,
        "rows": 20
       }
      },
      "text/html": [
       "<div>\n",
       "<style scoped>\n",
       "    .dataframe tbody tr th:only-of-type {\n",
       "        vertical-align: middle;\n",
       "    }\n",
       "\n",
       "    .dataframe tbody tr th {\n",
       "        vertical-align: top;\n",
       "    }\n",
       "\n",
       "    .dataframe thead th {\n",
       "        text-align: right;\n",
       "    }\n",
       "</style>\n",
       "<table border=\"1\" class=\"dataframe\">\n",
       "  <thead>\n",
       "    <tr style=\"text-align: right;\">\n",
       "      <th></th>\n",
       "      <th>baba_at_tata</th>\n",
       "      <th>baba_bt_tata</th>\n",
       "      <th>baba_ct_tata</th>\n",
       "      <th>baba_dt_tata</th>\n",
       "    </tr>\n",
       "  </thead>\n",
       "  <tbody>\n",
       "    <tr>\n",
       "      <th>0</th>\n",
       "      <td>0.802199</td>\n",
       "      <td>0.124974</td>\n",
       "      <td>0.752548</td>\n",
       "      <td>0.300017</td>\n",
       "    </tr>\n",
       "    <tr>\n",
       "      <th>1</th>\n",
       "      <td>0.959974</td>\n",
       "      <td>0.867581</td>\n",
       "      <td>0.233361</td>\n",
       "      <td>0.405740</td>\n",
       "    </tr>\n",
       "    <tr>\n",
       "      <th>2</th>\n",
       "      <td>0.450739</td>\n",
       "      <td>0.074581</td>\n",
       "      <td>0.353026</td>\n",
       "      <td>0.109201</td>\n",
       "    </tr>\n",
       "    <tr>\n",
       "      <th>3</th>\n",
       "      <td>0.472595</td>\n",
       "      <td>0.776408</td>\n",
       "      <td>0.762812</td>\n",
       "      <td>0.595441</td>\n",
       "    </tr>\n",
       "    <tr>\n",
       "      <th>4</th>\n",
       "      <td>0.971321</td>\n",
       "      <td>0.490134</td>\n",
       "      <td>0.549575</td>\n",
       "      <td>0.079088</td>\n",
       "    </tr>\n",
       "    <tr>\n",
       "      <th>5</th>\n",
       "      <td>0.459119</td>\n",
       "      <td>0.031718</td>\n",
       "      <td>0.009593</td>\n",
       "      <td>0.631495</td>\n",
       "    </tr>\n",
       "    <tr>\n",
       "      <th>6</th>\n",
       "      <td>0.289125</td>\n",
       "      <td>0.775377</td>\n",
       "      <td>0.217866</td>\n",
       "      <td>0.562443</td>\n",
       "    </tr>\n",
       "    <tr>\n",
       "      <th>7</th>\n",
       "      <td>0.157548</td>\n",
       "      <td>0.327930</td>\n",
       "      <td>0.922223</td>\n",
       "      <td>0.511858</td>\n",
       "    </tr>\n",
       "    <tr>\n",
       "      <th>8</th>\n",
       "      <td>0.934737</td>\n",
       "      <td>0.004529</td>\n",
       "      <td>0.365474</td>\n",
       "      <td>0.710323</td>\n",
       "    </tr>\n",
       "    <tr>\n",
       "      <th>9</th>\n",
       "      <td>0.019793</td>\n",
       "      <td>0.948360</td>\n",
       "      <td>0.178380</td>\n",
       "      <td>0.430021</td>\n",
       "    </tr>\n",
       "    <tr>\n",
       "      <th>10</th>\n",
       "      <td>0.455506</td>\n",
       "      <td>0.975067</td>\n",
       "      <td>0.332076</td>\n",
       "      <td>0.779880</td>\n",
       "    </tr>\n",
       "    <tr>\n",
       "      <th>11</th>\n",
       "      <td>0.040653</td>\n",
       "      <td>0.808777</td>\n",
       "      <td>0.608680</td>\n",
       "      <td>0.425652</td>\n",
       "    </tr>\n",
       "    <tr>\n",
       "      <th>12</th>\n",
       "      <td>0.611120</td>\n",
       "      <td>0.484032</td>\n",
       "      <td>0.017150</td>\n",
       "      <td>0.641278</td>\n",
       "    </tr>\n",
       "    <tr>\n",
       "      <th>13</th>\n",
       "      <td>0.366800</td>\n",
       "      <td>0.571115</td>\n",
       "      <td>0.121658</td>\n",
       "      <td>0.204653</td>\n",
       "    </tr>\n",
       "    <tr>\n",
       "      <th>14</th>\n",
       "      <td>0.979588</td>\n",
       "      <td>0.595709</td>\n",
       "      <td>0.972172</td>\n",
       "      <td>0.848056</td>\n",
       "    </tr>\n",
       "    <tr>\n",
       "      <th>15</th>\n",
       "      <td>0.538854</td>\n",
       "      <td>0.939380</td>\n",
       "      <td>0.540043</td>\n",
       "      <td>0.691045</td>\n",
       "    </tr>\n",
       "    <tr>\n",
       "      <th>16</th>\n",
       "      <td>0.192686</td>\n",
       "      <td>0.893995</td>\n",
       "      <td>0.458925</td>\n",
       "      <td>0.402613</td>\n",
       "    </tr>\n",
       "    <tr>\n",
       "      <th>17</th>\n",
       "      <td>0.229214</td>\n",
       "      <td>0.580811</td>\n",
       "      <td>0.693375</td>\n",
       "      <td>0.786203</td>\n",
       "    </tr>\n",
       "    <tr>\n",
       "      <th>18</th>\n",
       "      <td>0.077762</td>\n",
       "      <td>0.372477</td>\n",
       "      <td>0.602157</td>\n",
       "      <td>0.795661</td>\n",
       "    </tr>\n",
       "    <tr>\n",
       "      <th>19</th>\n",
       "      <td>0.709118</td>\n",
       "      <td>0.330879</td>\n",
       "      <td>0.435299</td>\n",
       "      <td>0.753052</td>\n",
       "    </tr>\n",
       "  </tbody>\n",
       "</table>\n",
       "</div>"
      ],
      "text/plain": [
       "    baba_at_tata  baba_bt_tata  baba_ct_tata  baba_dt_tata\n",
       "0       0.802199      0.124974      0.752548      0.300017\n",
       "1       0.959974      0.867581      0.233361      0.405740\n",
       "2       0.450739      0.074581      0.353026      0.109201\n",
       "3       0.472595      0.776408      0.762812      0.595441\n",
       "4       0.971321      0.490134      0.549575      0.079088\n",
       "5       0.459119      0.031718      0.009593      0.631495\n",
       "6       0.289125      0.775377      0.217866      0.562443\n",
       "7       0.157548      0.327930      0.922223      0.511858\n",
       "8       0.934737      0.004529      0.365474      0.710323\n",
       "9       0.019793      0.948360      0.178380      0.430021\n",
       "10      0.455506      0.975067      0.332076      0.779880\n",
       "11      0.040653      0.808777      0.608680      0.425652\n",
       "12      0.611120      0.484032      0.017150      0.641278\n",
       "13      0.366800      0.571115      0.121658      0.204653\n",
       "14      0.979588      0.595709      0.972172      0.848056\n",
       "15      0.538854      0.939380      0.540043      0.691045\n",
       "16      0.192686      0.893995      0.458925      0.402613\n",
       "17      0.229214      0.580811      0.693375      0.786203\n",
       "18      0.077762      0.372477      0.602157      0.795661\n",
       "19      0.709118      0.330879      0.435299      0.753052"
      ]
     },
     "execution_count": 53,
     "metadata": {},
     "output_type": "execute_result"
    }
   ],
   "source": [
    "# suffix\n",
    "df5 = df5.add_suffix('_tata')\n",
    "df5"
   ]
  },
  {
   "cell_type": "code",
   "execution_count": 55,
   "id": "62016ec5",
   "metadata": {},
   "outputs": [],
   "source": [
    "#USING TEMPLATE DATA\n",
    "import seaborn as sns\n",
    "df=sns.load_dataset('titanic')"
   ]
  },
  {
   "cell_type": "code",
   "execution_count": 56,
   "id": "034a73cd",
   "metadata": {},
   "outputs": [
    {
     "data": {
      "application/vnd.microsoft.datawrangler.viewer.v0+json": {
       "columns": [
        {
         "name": "index",
         "rawType": "int64",
         "type": "integer"
        },
        {
         "name": "survived",
         "rawType": "int64",
         "type": "integer"
        },
        {
         "name": "pclass",
         "rawType": "int64",
         "type": "integer"
        },
        {
         "name": "sex",
         "rawType": "object",
         "type": "string"
        },
        {
         "name": "age",
         "rawType": "float64",
         "type": "float"
        },
        {
         "name": "sibsp",
         "rawType": "int64",
         "type": "integer"
        },
        {
         "name": "parch",
         "rawType": "int64",
         "type": "integer"
        },
        {
         "name": "fare",
         "rawType": "float64",
         "type": "float"
        },
        {
         "name": "embarked",
         "rawType": "object",
         "type": "string"
        },
        {
         "name": "class",
         "rawType": "category",
         "type": "unknown"
        },
        {
         "name": "who",
         "rawType": "object",
         "type": "string"
        },
        {
         "name": "adult_male",
         "rawType": "bool",
         "type": "boolean"
        },
        {
         "name": "deck",
         "rawType": "category",
         "type": "unknown"
        },
        {
         "name": "embark_town",
         "rawType": "object",
         "type": "string"
        },
        {
         "name": "alive",
         "rawType": "object",
         "type": "string"
        },
        {
         "name": "alone",
         "rawType": "bool",
         "type": "boolean"
        }
       ],
       "ref": "13f18728-40be-4489-816d-1dda5fb66e11",
       "rows": [
        [
         "0",
         "0",
         "3",
         "male",
         "22.0",
         "1",
         "0",
         "7.25",
         "S",
         "Third",
         "man",
         "True",
         null,
         "Southampton",
         "no",
         "False"
        ],
        [
         "1",
         "1",
         "1",
         "female",
         "38.0",
         "1",
         "0",
         "71.2833",
         "C",
         "First",
         "woman",
         "False",
         "C",
         "Cherbourg",
         "yes",
         "False"
        ],
        [
         "2",
         "1",
         "3",
         "female",
         "26.0",
         "0",
         "0",
         "7.925",
         "S",
         "Third",
         "woman",
         "False",
         null,
         "Southampton",
         "yes",
         "True"
        ],
        [
         "3",
         "1",
         "1",
         "female",
         "35.0",
         "1",
         "0",
         "53.1",
         "S",
         "First",
         "woman",
         "False",
         "C",
         "Southampton",
         "yes",
         "False"
        ],
        [
         "4",
         "0",
         "3",
         "male",
         "35.0",
         "0",
         "0",
         "8.05",
         "S",
         "Third",
         "man",
         "True",
         null,
         "Southampton",
         "no",
         "True"
        ]
       ],
       "shape": {
        "columns": 15,
        "rows": 5
       }
      },
      "text/html": [
       "<div>\n",
       "<style scoped>\n",
       "    .dataframe tbody tr th:only-of-type {\n",
       "        vertical-align: middle;\n",
       "    }\n",
       "\n",
       "    .dataframe tbody tr th {\n",
       "        vertical-align: top;\n",
       "    }\n",
       "\n",
       "    .dataframe thead th {\n",
       "        text-align: right;\n",
       "    }\n",
       "</style>\n",
       "<table border=\"1\" class=\"dataframe\">\n",
       "  <thead>\n",
       "    <tr style=\"text-align: right;\">\n",
       "      <th></th>\n",
       "      <th>survived</th>\n",
       "      <th>pclass</th>\n",
       "      <th>sex</th>\n",
       "      <th>age</th>\n",
       "      <th>sibsp</th>\n",
       "      <th>parch</th>\n",
       "      <th>fare</th>\n",
       "      <th>embarked</th>\n",
       "      <th>class</th>\n",
       "      <th>who</th>\n",
       "      <th>adult_male</th>\n",
       "      <th>deck</th>\n",
       "      <th>embark_town</th>\n",
       "      <th>alive</th>\n",
       "      <th>alone</th>\n",
       "    </tr>\n",
       "  </thead>\n",
       "  <tbody>\n",
       "    <tr>\n",
       "      <th>0</th>\n",
       "      <td>0</td>\n",
       "      <td>3</td>\n",
       "      <td>male</td>\n",
       "      <td>22.0</td>\n",
       "      <td>1</td>\n",
       "      <td>0</td>\n",
       "      <td>7.2500</td>\n",
       "      <td>S</td>\n",
       "      <td>Third</td>\n",
       "      <td>man</td>\n",
       "      <td>True</td>\n",
       "      <td>NaN</td>\n",
       "      <td>Southampton</td>\n",
       "      <td>no</td>\n",
       "      <td>False</td>\n",
       "    </tr>\n",
       "    <tr>\n",
       "      <th>1</th>\n",
       "      <td>1</td>\n",
       "      <td>1</td>\n",
       "      <td>female</td>\n",
       "      <td>38.0</td>\n",
       "      <td>1</td>\n",
       "      <td>0</td>\n",
       "      <td>71.2833</td>\n",
       "      <td>C</td>\n",
       "      <td>First</td>\n",
       "      <td>woman</td>\n",
       "      <td>False</td>\n",
       "      <td>C</td>\n",
       "      <td>Cherbourg</td>\n",
       "      <td>yes</td>\n",
       "      <td>False</td>\n",
       "    </tr>\n",
       "    <tr>\n",
       "      <th>2</th>\n",
       "      <td>1</td>\n",
       "      <td>3</td>\n",
       "      <td>female</td>\n",
       "      <td>26.0</td>\n",
       "      <td>0</td>\n",
       "      <td>0</td>\n",
       "      <td>7.9250</td>\n",
       "      <td>S</td>\n",
       "      <td>Third</td>\n",
       "      <td>woman</td>\n",
       "      <td>False</td>\n",
       "      <td>NaN</td>\n",
       "      <td>Southampton</td>\n",
       "      <td>yes</td>\n",
       "      <td>True</td>\n",
       "    </tr>\n",
       "    <tr>\n",
       "      <th>3</th>\n",
       "      <td>1</td>\n",
       "      <td>1</td>\n",
       "      <td>female</td>\n",
       "      <td>35.0</td>\n",
       "      <td>1</td>\n",
       "      <td>0</td>\n",
       "      <td>53.1000</td>\n",
       "      <td>S</td>\n",
       "      <td>First</td>\n",
       "      <td>woman</td>\n",
       "      <td>False</td>\n",
       "      <td>C</td>\n",
       "      <td>Southampton</td>\n",
       "      <td>yes</td>\n",
       "      <td>False</td>\n",
       "    </tr>\n",
       "    <tr>\n",
       "      <th>4</th>\n",
       "      <td>0</td>\n",
       "      <td>3</td>\n",
       "      <td>male</td>\n",
       "      <td>35.0</td>\n",
       "      <td>0</td>\n",
       "      <td>0</td>\n",
       "      <td>8.0500</td>\n",
       "      <td>S</td>\n",
       "      <td>Third</td>\n",
       "      <td>man</td>\n",
       "      <td>True</td>\n",
       "      <td>NaN</td>\n",
       "      <td>Southampton</td>\n",
       "      <td>no</td>\n",
       "      <td>True</td>\n",
       "    </tr>\n",
       "  </tbody>\n",
       "</table>\n",
       "</div>"
      ],
      "text/plain": [
       "   survived  pclass     sex   age  sibsp  parch     fare embarked  class  \\\n",
       "0         0       3    male  22.0      1      0   7.2500        S  Third   \n",
       "1         1       1  female  38.0      1      0  71.2833        C  First   \n",
       "2         1       3  female  26.0      0      0   7.9250        S  Third   \n",
       "3         1       1  female  35.0      1      0  53.1000        S  First   \n",
       "4         0       3    male  35.0      0      0   8.0500        S  Third   \n",
       "\n",
       "     who  adult_male deck  embark_town alive  alone  \n",
       "0    man        True  NaN  Southampton    no  False  \n",
       "1  woman       False    C    Cherbourg   yes  False  \n",
       "2  woman       False  NaN  Southampton   yes   True  \n",
       "3  woman       False    C  Southampton   yes  False  \n",
       "4    man        True  NaN  Southampton    no   True  "
      ]
     },
     "execution_count": 56,
     "metadata": {},
     "output_type": "execute_result"
    }
   ],
   "source": [
    "df.head()"
   ]
  },
  {
   "cell_type": "code",
   "execution_count": 58,
   "id": "ef657669",
   "metadata": {},
   "outputs": [
    {
     "data": {
      "application/vnd.microsoft.datawrangler.viewer.v0+json": {
       "columns": [
        {
         "name": "index",
         "rawType": "object",
         "type": "string"
        },
        {
         "name": "survived",
         "rawType": "float64",
         "type": "float"
        },
        {
         "name": "pclass",
         "rawType": "float64",
         "type": "float"
        },
        {
         "name": "age",
         "rawType": "float64",
         "type": "float"
        },
        {
         "name": "sibsp",
         "rawType": "float64",
         "type": "float"
        },
        {
         "name": "parch",
         "rawType": "float64",
         "type": "float"
        },
        {
         "name": "fare",
         "rawType": "float64",
         "type": "float"
        }
       ],
       "ref": "dcd348db-bf39-4fe5-b945-77d43e4d082c",
       "rows": [
        [
         "count",
         "891.0",
         "891.0",
         "714.0",
         "891.0",
         "891.0",
         "891.0"
        ],
        [
         "mean",
         "0.3838383838383838",
         "2.308641975308642",
         "29.69911764705882",
         "0.5230078563411896",
         "0.38159371492704824",
         "32.204207968574636"
        ],
        [
         "std",
         "0.4865924542648575",
         "0.836071240977049",
         "14.526497332334042",
         "1.1027434322934317",
         "0.8060572211299483",
         "49.6934285971809"
        ],
        [
         "min",
         "0.0",
         "1.0",
         "0.42",
         "0.0",
         "0.0",
         "0.0"
        ],
        [
         "25%",
         "0.0",
         "2.0",
         "20.125",
         "0.0",
         "0.0",
         "7.9104"
        ],
        [
         "50%",
         "0.0",
         "3.0",
         "28.0",
         "0.0",
         "0.0",
         "14.4542"
        ],
        [
         "75%",
         "1.0",
         "3.0",
         "38.0",
         "1.0",
         "0.0",
         "31.0"
        ],
        [
         "max",
         "1.0",
         "3.0",
         "80.0",
         "8.0",
         "6.0",
         "512.3292"
        ]
       ],
       "shape": {
        "columns": 6,
        "rows": 8
       }
      },
      "text/html": [
       "<div>\n",
       "<style scoped>\n",
       "    .dataframe tbody tr th:only-of-type {\n",
       "        vertical-align: middle;\n",
       "    }\n",
       "\n",
       "    .dataframe tbody tr th {\n",
       "        vertical-align: top;\n",
       "    }\n",
       "\n",
       "    .dataframe thead th {\n",
       "        text-align: right;\n",
       "    }\n",
       "</style>\n",
       "<table border=\"1\" class=\"dataframe\">\n",
       "  <thead>\n",
       "    <tr style=\"text-align: right;\">\n",
       "      <th></th>\n",
       "      <th>survived</th>\n",
       "      <th>pclass</th>\n",
       "      <th>age</th>\n",
       "      <th>sibsp</th>\n",
       "      <th>parch</th>\n",
       "      <th>fare</th>\n",
       "    </tr>\n",
       "  </thead>\n",
       "  <tbody>\n",
       "    <tr>\n",
       "      <th>count</th>\n",
       "      <td>891.000000</td>\n",
       "      <td>891.000000</td>\n",
       "      <td>714.000000</td>\n",
       "      <td>891.000000</td>\n",
       "      <td>891.000000</td>\n",
       "      <td>891.000000</td>\n",
       "    </tr>\n",
       "    <tr>\n",
       "      <th>mean</th>\n",
       "      <td>0.383838</td>\n",
       "      <td>2.308642</td>\n",
       "      <td>29.699118</td>\n",
       "      <td>0.523008</td>\n",
       "      <td>0.381594</td>\n",
       "      <td>32.204208</td>\n",
       "    </tr>\n",
       "    <tr>\n",
       "      <th>std</th>\n",
       "      <td>0.486592</td>\n",
       "      <td>0.836071</td>\n",
       "      <td>14.526497</td>\n",
       "      <td>1.102743</td>\n",
       "      <td>0.806057</td>\n",
       "      <td>49.693429</td>\n",
       "    </tr>\n",
       "    <tr>\n",
       "      <th>min</th>\n",
       "      <td>0.000000</td>\n",
       "      <td>1.000000</td>\n",
       "      <td>0.420000</td>\n",
       "      <td>0.000000</td>\n",
       "      <td>0.000000</td>\n",
       "      <td>0.000000</td>\n",
       "    </tr>\n",
       "    <tr>\n",
       "      <th>25%</th>\n",
       "      <td>0.000000</td>\n",
       "      <td>2.000000</td>\n",
       "      <td>20.125000</td>\n",
       "      <td>0.000000</td>\n",
       "      <td>0.000000</td>\n",
       "      <td>7.910400</td>\n",
       "    </tr>\n",
       "    <tr>\n",
       "      <th>50%</th>\n",
       "      <td>0.000000</td>\n",
       "      <td>3.000000</td>\n",
       "      <td>28.000000</td>\n",
       "      <td>0.000000</td>\n",
       "      <td>0.000000</td>\n",
       "      <td>14.454200</td>\n",
       "    </tr>\n",
       "    <tr>\n",
       "      <th>75%</th>\n",
       "      <td>1.000000</td>\n",
       "      <td>3.000000</td>\n",
       "      <td>38.000000</td>\n",
       "      <td>1.000000</td>\n",
       "      <td>0.000000</td>\n",
       "      <td>31.000000</td>\n",
       "    </tr>\n",
       "    <tr>\n",
       "      <th>max</th>\n",
       "      <td>1.000000</td>\n",
       "      <td>3.000000</td>\n",
       "      <td>80.000000</td>\n",
       "      <td>8.000000</td>\n",
       "      <td>6.000000</td>\n",
       "      <td>512.329200</td>\n",
       "    </tr>\n",
       "  </tbody>\n",
       "</table>\n",
       "</div>"
      ],
      "text/plain": [
       "         survived      pclass         age       sibsp       parch        fare\n",
       "count  891.000000  891.000000  714.000000  891.000000  891.000000  891.000000\n",
       "mean     0.383838    2.308642   29.699118    0.523008    0.381594   32.204208\n",
       "std      0.486592    0.836071   14.526497    1.102743    0.806057   49.693429\n",
       "min      0.000000    1.000000    0.420000    0.000000    0.000000    0.000000\n",
       "25%      0.000000    2.000000   20.125000    0.000000    0.000000    7.910400\n",
       "50%      0.000000    3.000000   28.000000    0.000000    0.000000   14.454200\n",
       "75%      1.000000    3.000000   38.000000    1.000000    0.000000   31.000000\n",
       "max      1.000000    3.000000   80.000000    8.000000    6.000000  512.329200"
      ]
     },
     "execution_count": 58,
     "metadata": {},
     "output_type": "execute_result"
    }
   ],
   "source": [
    "df.describe()"
   ]
  }
 ],
 "metadata": {
  "kernelspec": {
   "display_name": "pandas_env",
   "language": "python",
   "name": "python3"
  },
  "language_info": {
   "codemirror_mode": {
    "name": "ipython",
    "version": 3
   },
   "file_extension": ".py",
   "mimetype": "text/x-python",
   "name": "python",
   "nbconvert_exporter": "python",
   "pygments_lexer": "ipython3",
   "version": "3.13.1"
  }
 },
 "nbformat": 4,
 "nbformat_minor": 5
}
